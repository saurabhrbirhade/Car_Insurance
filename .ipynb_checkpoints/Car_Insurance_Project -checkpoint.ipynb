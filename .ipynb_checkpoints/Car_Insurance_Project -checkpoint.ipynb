{
 "cells": [
  {
   "cell_type": "code",
   "execution_count": 72,
   "id": "2242f852",
   "metadata": {},
   "outputs": [],
   "source": [
    "import pandas as pd\n",
    "import numpy as np\n",
    "import seaborn as sns\n",
    "\n",
    "from sklearn.preprocessing import StandardScaler\n",
    "from sklearn.model_selection import train_test_split,GridSearchCV,RandomizedSearchCV\n",
    "from sklearn.linear_model import LogisticRegression\n",
    "from sklearn.tree import DecisionTreeClassifier\n",
    "from sklearn.neighbors import KNeighborsClassifier\n",
    "from sklearn.ensemble import RandomForestClassifier,AdaBoostClassifier\n",
    "# from sklearn.naive_bayes import GaussianNB,MultinomialNB,BernoulliNB\n",
    "# from sklearn.svm import SVC\n",
    "from xgboost import XGBClassifier,plot_importance\n",
    "from sklearn.decomposition import PCA\n",
    "\n",
    "from imblearn.over_sampling import SMOTE,RandomOverSampler\n",
    "from sklearn.metrics import confusion_matrix,classification_report,accuracy_score,roc_curve,precision_recall_curve\n",
    "import matplotlib.pyplot as plt\n",
    "import warnings\n",
    "warnings.filterwarnings('ignore')\n",
    "\n",
    "pd.set_option('display.max_columns',None)"
   ]
  },
  {
   "cell_type": "code",
   "execution_count": null,
   "id": "2421be2d",
   "metadata": {},
   "outputs": [],
   "source": []
  },
  {
   "cell_type": "markdown",
   "id": "743e495c",
   "metadata": {},
   "source": [
    "# 1. Problem Statement"
   ]
  },
  {
   "cell_type": "raw",
   "id": "059d5f09",
   "metadata": {},
   "source": [
    "CarIns is a startup that provides insurance for cars. It is one of the best car insurance brands known for the highest claim settlement ratio. It was launched back in Oct 2020 and acquired its initial policyholders by providing a hassle-free claim process, instant policy issuance, and claim settlements at minimum coverages.\n",
    "\n",
    "As it's a fast growing startup, the company would like to optimize the cost of the insurance by identifying the policyholders who are more likely to claim in the next 6 months. \n",
    "\n",
    "Now the company would like to use Data Science to identify the policyholders whose chances of filing a claim are high in the next 6 months. The company challenges the Data Science community to build a high-performance algorithm to predict if the policyholder will file a claim in the next 6 months or not based on the set of car and policy features."
   ]
  },
  {
   "cell_type": "markdown",
   "id": "e6006755",
   "metadata": {},
   "source": [
    "# 2. Hypothesis"
   ]
  },
  {
   "cell_type": "code",
   "execution_count": null,
   "id": "f5881b0a",
   "metadata": {},
   "outputs": [],
   "source": []
  },
  {
   "cell_type": "markdown",
   "id": "b3dd593b",
   "metadata": {},
   "source": [
    "# 3. Data Gathering"
   ]
  },
  {
   "cell_type": "code",
   "execution_count": 8,
   "id": "8683640e",
   "metadata": {},
   "outputs": [
    {
     "data": {
      "text/html": [
       "<div>\n",
       "<style scoped>\n",
       "    .dataframe tbody tr th:only-of-type {\n",
       "        vertical-align: middle;\n",
       "    }\n",
       "\n",
       "    .dataframe tbody tr th {\n",
       "        vertical-align: top;\n",
       "    }\n",
       "\n",
       "    .dataframe thead th {\n",
       "        text-align: right;\n",
       "    }\n",
       "</style>\n",
       "<table border=\"1\" class=\"dataframe\">\n",
       "  <thead>\n",
       "    <tr style=\"text-align: right;\">\n",
       "      <th></th>\n",
       "      <th>policy_id</th>\n",
       "      <th>policy_tenure</th>\n",
       "      <th>age_of_car</th>\n",
       "      <th>age_of_policyholder</th>\n",
       "      <th>area_cluster</th>\n",
       "      <th>population_density</th>\n",
       "      <th>make</th>\n",
       "      <th>segment</th>\n",
       "      <th>model</th>\n",
       "      <th>fuel_type</th>\n",
       "      <th>max_torque</th>\n",
       "      <th>max_power</th>\n",
       "      <th>engine_type</th>\n",
       "      <th>airbags</th>\n",
       "      <th>is_esc</th>\n",
       "      <th>is_adjustable_steering</th>\n",
       "      <th>is_tpms</th>\n",
       "      <th>is_parking_sensors</th>\n",
       "      <th>is_parking_camera</th>\n",
       "      <th>rear_brakes_type</th>\n",
       "      <th>displacement</th>\n",
       "      <th>cylinder</th>\n",
       "      <th>transmission_type</th>\n",
       "      <th>gear_box</th>\n",
       "      <th>steering_type</th>\n",
       "      <th>turning_radius</th>\n",
       "      <th>length</th>\n",
       "      <th>width</th>\n",
       "      <th>height</th>\n",
       "      <th>gross_weight</th>\n",
       "      <th>is_front_fog_lights</th>\n",
       "      <th>is_rear_window_wiper</th>\n",
       "      <th>is_rear_window_washer</th>\n",
       "      <th>is_rear_window_defogger</th>\n",
       "      <th>is_brake_assist</th>\n",
       "      <th>is_power_door_locks</th>\n",
       "      <th>is_central_locking</th>\n",
       "      <th>is_power_steering</th>\n",
       "      <th>is_driver_seat_height_adjustable</th>\n",
       "      <th>is_day_night_rear_view_mirror</th>\n",
       "      <th>is_ecw</th>\n",
       "      <th>is_speed_alert</th>\n",
       "      <th>ncap_rating</th>\n",
       "      <th>is_claim</th>\n",
       "    </tr>\n",
       "  </thead>\n",
       "  <tbody>\n",
       "    <tr>\n",
       "      <th>0</th>\n",
       "      <td>ID00001</td>\n",
       "      <td>0.515874</td>\n",
       "      <td>0.05</td>\n",
       "      <td>0.644231</td>\n",
       "      <td>C1</td>\n",
       "      <td>4990</td>\n",
       "      <td>1</td>\n",
       "      <td>A</td>\n",
       "      <td>M1</td>\n",
       "      <td>CNG</td>\n",
       "      <td>60Nm@3500rpm</td>\n",
       "      <td>40.36bhp@6000rpm</td>\n",
       "      <td>F8D Petrol Engine</td>\n",
       "      <td>2</td>\n",
       "      <td>No</td>\n",
       "      <td>No</td>\n",
       "      <td>No</td>\n",
       "      <td>Yes</td>\n",
       "      <td>No</td>\n",
       "      <td>Drum</td>\n",
       "      <td>796</td>\n",
       "      <td>3</td>\n",
       "      <td>Manual</td>\n",
       "      <td>5</td>\n",
       "      <td>Power</td>\n",
       "      <td>4.6</td>\n",
       "      <td>3445</td>\n",
       "      <td>1515</td>\n",
       "      <td>1475</td>\n",
       "      <td>1185</td>\n",
       "      <td>No</td>\n",
       "      <td>No</td>\n",
       "      <td>No</td>\n",
       "      <td>No</td>\n",
       "      <td>No</td>\n",
       "      <td>No</td>\n",
       "      <td>No</td>\n",
       "      <td>Yes</td>\n",
       "      <td>No</td>\n",
       "      <td>No</td>\n",
       "      <td>No</td>\n",
       "      <td>Yes</td>\n",
       "      <td>0</td>\n",
       "      <td>0</td>\n",
       "    </tr>\n",
       "    <tr>\n",
       "      <th>1</th>\n",
       "      <td>ID00002</td>\n",
       "      <td>0.672619</td>\n",
       "      <td>0.02</td>\n",
       "      <td>0.375000</td>\n",
       "      <td>C2</td>\n",
       "      <td>27003</td>\n",
       "      <td>1</td>\n",
       "      <td>A</td>\n",
       "      <td>M1</td>\n",
       "      <td>CNG</td>\n",
       "      <td>60Nm@3500rpm</td>\n",
       "      <td>40.36bhp@6000rpm</td>\n",
       "      <td>F8D Petrol Engine</td>\n",
       "      <td>2</td>\n",
       "      <td>No</td>\n",
       "      <td>No</td>\n",
       "      <td>No</td>\n",
       "      <td>Yes</td>\n",
       "      <td>No</td>\n",
       "      <td>Drum</td>\n",
       "      <td>796</td>\n",
       "      <td>3</td>\n",
       "      <td>Manual</td>\n",
       "      <td>5</td>\n",
       "      <td>Power</td>\n",
       "      <td>4.6</td>\n",
       "      <td>3445</td>\n",
       "      <td>1515</td>\n",
       "      <td>1475</td>\n",
       "      <td>1185</td>\n",
       "      <td>No</td>\n",
       "      <td>No</td>\n",
       "      <td>No</td>\n",
       "      <td>No</td>\n",
       "      <td>No</td>\n",
       "      <td>No</td>\n",
       "      <td>No</td>\n",
       "      <td>Yes</td>\n",
       "      <td>No</td>\n",
       "      <td>No</td>\n",
       "      <td>No</td>\n",
       "      <td>Yes</td>\n",
       "      <td>0</td>\n",
       "      <td>0</td>\n",
       "    </tr>\n",
       "    <tr>\n",
       "      <th>2</th>\n",
       "      <td>ID00003</td>\n",
       "      <td>0.841110</td>\n",
       "      <td>0.02</td>\n",
       "      <td>0.384615</td>\n",
       "      <td>C3</td>\n",
       "      <td>4076</td>\n",
       "      <td>1</td>\n",
       "      <td>A</td>\n",
       "      <td>M1</td>\n",
       "      <td>CNG</td>\n",
       "      <td>60Nm@3500rpm</td>\n",
       "      <td>40.36bhp@6000rpm</td>\n",
       "      <td>F8D Petrol Engine</td>\n",
       "      <td>2</td>\n",
       "      <td>No</td>\n",
       "      <td>No</td>\n",
       "      <td>No</td>\n",
       "      <td>Yes</td>\n",
       "      <td>No</td>\n",
       "      <td>Drum</td>\n",
       "      <td>796</td>\n",
       "      <td>3</td>\n",
       "      <td>Manual</td>\n",
       "      <td>5</td>\n",
       "      <td>Power</td>\n",
       "      <td>4.6</td>\n",
       "      <td>3445</td>\n",
       "      <td>1515</td>\n",
       "      <td>1475</td>\n",
       "      <td>1185</td>\n",
       "      <td>No</td>\n",
       "      <td>No</td>\n",
       "      <td>No</td>\n",
       "      <td>No</td>\n",
       "      <td>No</td>\n",
       "      <td>No</td>\n",
       "      <td>No</td>\n",
       "      <td>Yes</td>\n",
       "      <td>No</td>\n",
       "      <td>No</td>\n",
       "      <td>No</td>\n",
       "      <td>Yes</td>\n",
       "      <td>0</td>\n",
       "      <td>0</td>\n",
       "    </tr>\n",
       "    <tr>\n",
       "      <th>3</th>\n",
       "      <td>ID00004</td>\n",
       "      <td>0.900277</td>\n",
       "      <td>0.11</td>\n",
       "      <td>0.432692</td>\n",
       "      <td>C4</td>\n",
       "      <td>21622</td>\n",
       "      <td>1</td>\n",
       "      <td>C1</td>\n",
       "      <td>M2</td>\n",
       "      <td>Petrol</td>\n",
       "      <td>113Nm@4400rpm</td>\n",
       "      <td>88.50bhp@6000rpm</td>\n",
       "      <td>1.2 L K12N Dualjet</td>\n",
       "      <td>2</td>\n",
       "      <td>Yes</td>\n",
       "      <td>Yes</td>\n",
       "      <td>No</td>\n",
       "      <td>Yes</td>\n",
       "      <td>Yes</td>\n",
       "      <td>Drum</td>\n",
       "      <td>1197</td>\n",
       "      <td>4</td>\n",
       "      <td>Automatic</td>\n",
       "      <td>5</td>\n",
       "      <td>Electric</td>\n",
       "      <td>4.8</td>\n",
       "      <td>3995</td>\n",
       "      <td>1735</td>\n",
       "      <td>1515</td>\n",
       "      <td>1335</td>\n",
       "      <td>Yes</td>\n",
       "      <td>No</td>\n",
       "      <td>No</td>\n",
       "      <td>Yes</td>\n",
       "      <td>Yes</td>\n",
       "      <td>Yes</td>\n",
       "      <td>Yes</td>\n",
       "      <td>Yes</td>\n",
       "      <td>Yes</td>\n",
       "      <td>Yes</td>\n",
       "      <td>Yes</td>\n",
       "      <td>Yes</td>\n",
       "      <td>2</td>\n",
       "      <td>0</td>\n",
       "    </tr>\n",
       "    <tr>\n",
       "      <th>4</th>\n",
       "      <td>ID00005</td>\n",
       "      <td>0.596403</td>\n",
       "      <td>0.11</td>\n",
       "      <td>0.634615</td>\n",
       "      <td>C5</td>\n",
       "      <td>34738</td>\n",
       "      <td>2</td>\n",
       "      <td>A</td>\n",
       "      <td>M3</td>\n",
       "      <td>Petrol</td>\n",
       "      <td>91Nm@4250rpm</td>\n",
       "      <td>67.06bhp@5500rpm</td>\n",
       "      <td>1.0 SCe</td>\n",
       "      <td>2</td>\n",
       "      <td>No</td>\n",
       "      <td>No</td>\n",
       "      <td>No</td>\n",
       "      <td>No</td>\n",
       "      <td>Yes</td>\n",
       "      <td>Drum</td>\n",
       "      <td>999</td>\n",
       "      <td>3</td>\n",
       "      <td>Automatic</td>\n",
       "      <td>5</td>\n",
       "      <td>Electric</td>\n",
       "      <td>5.0</td>\n",
       "      <td>3731</td>\n",
       "      <td>1579</td>\n",
       "      <td>1490</td>\n",
       "      <td>1155</td>\n",
       "      <td>No</td>\n",
       "      <td>No</td>\n",
       "      <td>No</td>\n",
       "      <td>No</td>\n",
       "      <td>No</td>\n",
       "      <td>Yes</td>\n",
       "      <td>Yes</td>\n",
       "      <td>Yes</td>\n",
       "      <td>No</td>\n",
       "      <td>Yes</td>\n",
       "      <td>Yes</td>\n",
       "      <td>Yes</td>\n",
       "      <td>2</td>\n",
       "      <td>0</td>\n",
       "    </tr>\n",
       "    <tr>\n",
       "      <th>...</th>\n",
       "      <td>...</td>\n",
       "      <td>...</td>\n",
       "      <td>...</td>\n",
       "      <td>...</td>\n",
       "      <td>...</td>\n",
       "      <td>...</td>\n",
       "      <td>...</td>\n",
       "      <td>...</td>\n",
       "      <td>...</td>\n",
       "      <td>...</td>\n",
       "      <td>...</td>\n",
       "      <td>...</td>\n",
       "      <td>...</td>\n",
       "      <td>...</td>\n",
       "      <td>...</td>\n",
       "      <td>...</td>\n",
       "      <td>...</td>\n",
       "      <td>...</td>\n",
       "      <td>...</td>\n",
       "      <td>...</td>\n",
       "      <td>...</td>\n",
       "      <td>...</td>\n",
       "      <td>...</td>\n",
       "      <td>...</td>\n",
       "      <td>...</td>\n",
       "      <td>...</td>\n",
       "      <td>...</td>\n",
       "      <td>...</td>\n",
       "      <td>...</td>\n",
       "      <td>...</td>\n",
       "      <td>...</td>\n",
       "      <td>...</td>\n",
       "      <td>...</td>\n",
       "      <td>...</td>\n",
       "      <td>...</td>\n",
       "      <td>...</td>\n",
       "      <td>...</td>\n",
       "      <td>...</td>\n",
       "      <td>...</td>\n",
       "      <td>...</td>\n",
       "      <td>...</td>\n",
       "      <td>...</td>\n",
       "      <td>...</td>\n",
       "      <td>...</td>\n",
       "    </tr>\n",
       "    <tr>\n",
       "      <th>58587</th>\n",
       "      <td>ID58588</td>\n",
       "      <td>0.355089</td>\n",
       "      <td>0.13</td>\n",
       "      <td>0.644231</td>\n",
       "      <td>C8</td>\n",
       "      <td>8794</td>\n",
       "      <td>2</td>\n",
       "      <td>A</td>\n",
       "      <td>M3</td>\n",
       "      <td>Petrol</td>\n",
       "      <td>91Nm@4250rpm</td>\n",
       "      <td>67.06bhp@5500rpm</td>\n",
       "      <td>1.0 SCe</td>\n",
       "      <td>2</td>\n",
       "      <td>No</td>\n",
       "      <td>No</td>\n",
       "      <td>No</td>\n",
       "      <td>No</td>\n",
       "      <td>Yes</td>\n",
       "      <td>Drum</td>\n",
       "      <td>999</td>\n",
       "      <td>3</td>\n",
       "      <td>Automatic</td>\n",
       "      <td>5</td>\n",
       "      <td>Electric</td>\n",
       "      <td>5.0</td>\n",
       "      <td>3731</td>\n",
       "      <td>1579</td>\n",
       "      <td>1490</td>\n",
       "      <td>1155</td>\n",
       "      <td>No</td>\n",
       "      <td>No</td>\n",
       "      <td>No</td>\n",
       "      <td>No</td>\n",
       "      <td>No</td>\n",
       "      <td>Yes</td>\n",
       "      <td>Yes</td>\n",
       "      <td>Yes</td>\n",
       "      <td>No</td>\n",
       "      <td>Yes</td>\n",
       "      <td>Yes</td>\n",
       "      <td>Yes</td>\n",
       "      <td>2</td>\n",
       "      <td>0</td>\n",
       "    </tr>\n",
       "    <tr>\n",
       "      <th>58588</th>\n",
       "      <td>ID58589</td>\n",
       "      <td>1.199642</td>\n",
       "      <td>0.02</td>\n",
       "      <td>0.519231</td>\n",
       "      <td>C14</td>\n",
       "      <td>7788</td>\n",
       "      <td>1</td>\n",
       "      <td>A</td>\n",
       "      <td>M1</td>\n",
       "      <td>CNG</td>\n",
       "      <td>60Nm@3500rpm</td>\n",
       "      <td>40.36bhp@6000rpm</td>\n",
       "      <td>F8D Petrol Engine</td>\n",
       "      <td>2</td>\n",
       "      <td>No</td>\n",
       "      <td>No</td>\n",
       "      <td>No</td>\n",
       "      <td>Yes</td>\n",
       "      <td>No</td>\n",
       "      <td>Drum</td>\n",
       "      <td>796</td>\n",
       "      <td>3</td>\n",
       "      <td>Manual</td>\n",
       "      <td>5</td>\n",
       "      <td>Power</td>\n",
       "      <td>4.6</td>\n",
       "      <td>3445</td>\n",
       "      <td>1515</td>\n",
       "      <td>1475</td>\n",
       "      <td>1185</td>\n",
       "      <td>No</td>\n",
       "      <td>No</td>\n",
       "      <td>No</td>\n",
       "      <td>No</td>\n",
       "      <td>No</td>\n",
       "      <td>No</td>\n",
       "      <td>No</td>\n",
       "      <td>Yes</td>\n",
       "      <td>No</td>\n",
       "      <td>No</td>\n",
       "      <td>No</td>\n",
       "      <td>Yes</td>\n",
       "      <td>0</td>\n",
       "      <td>0</td>\n",
       "    </tr>\n",
       "    <tr>\n",
       "      <th>58589</th>\n",
       "      <td>ID58590</td>\n",
       "      <td>1.162273</td>\n",
       "      <td>0.05</td>\n",
       "      <td>0.451923</td>\n",
       "      <td>C5</td>\n",
       "      <td>34738</td>\n",
       "      <td>1</td>\n",
       "      <td>A</td>\n",
       "      <td>M1</td>\n",
       "      <td>CNG</td>\n",
       "      <td>60Nm@3500rpm</td>\n",
       "      <td>40.36bhp@6000rpm</td>\n",
       "      <td>F8D Petrol Engine</td>\n",
       "      <td>2</td>\n",
       "      <td>No</td>\n",
       "      <td>No</td>\n",
       "      <td>No</td>\n",
       "      <td>Yes</td>\n",
       "      <td>No</td>\n",
       "      <td>Drum</td>\n",
       "      <td>796</td>\n",
       "      <td>3</td>\n",
       "      <td>Manual</td>\n",
       "      <td>5</td>\n",
       "      <td>Power</td>\n",
       "      <td>4.6</td>\n",
       "      <td>3445</td>\n",
       "      <td>1515</td>\n",
       "      <td>1475</td>\n",
       "      <td>1185</td>\n",
       "      <td>No</td>\n",
       "      <td>No</td>\n",
       "      <td>No</td>\n",
       "      <td>No</td>\n",
       "      <td>No</td>\n",
       "      <td>No</td>\n",
       "      <td>No</td>\n",
       "      <td>Yes</td>\n",
       "      <td>No</td>\n",
       "      <td>No</td>\n",
       "      <td>No</td>\n",
       "      <td>Yes</td>\n",
       "      <td>0</td>\n",
       "      <td>0</td>\n",
       "    </tr>\n",
       "    <tr>\n",
       "      <th>58590</th>\n",
       "      <td>ID58591</td>\n",
       "      <td>1.236307</td>\n",
       "      <td>0.14</td>\n",
       "      <td>0.557692</td>\n",
       "      <td>C8</td>\n",
       "      <td>8794</td>\n",
       "      <td>1</td>\n",
       "      <td>B2</td>\n",
       "      <td>M6</td>\n",
       "      <td>Petrol</td>\n",
       "      <td>113Nm@4400rpm</td>\n",
       "      <td>88.50bhp@6000rpm</td>\n",
       "      <td>K Series Dual jet</td>\n",
       "      <td>2</td>\n",
       "      <td>No</td>\n",
       "      <td>Yes</td>\n",
       "      <td>No</td>\n",
       "      <td>Yes</td>\n",
       "      <td>No</td>\n",
       "      <td>Drum</td>\n",
       "      <td>1197</td>\n",
       "      <td>4</td>\n",
       "      <td>Manual</td>\n",
       "      <td>5</td>\n",
       "      <td>Electric</td>\n",
       "      <td>4.8</td>\n",
       "      <td>3845</td>\n",
       "      <td>1735</td>\n",
       "      <td>1530</td>\n",
       "      <td>1335</td>\n",
       "      <td>Yes</td>\n",
       "      <td>No</td>\n",
       "      <td>No</td>\n",
       "      <td>No</td>\n",
       "      <td>Yes</td>\n",
       "      <td>Yes</td>\n",
       "      <td>Yes</td>\n",
       "      <td>Yes</td>\n",
       "      <td>Yes</td>\n",
       "      <td>Yes</td>\n",
       "      <td>Yes</td>\n",
       "      <td>Yes</td>\n",
       "      <td>2</td>\n",
       "      <td>0</td>\n",
       "    </tr>\n",
       "    <tr>\n",
       "      <th>58591</th>\n",
       "      <td>ID58592</td>\n",
       "      <td>0.124429</td>\n",
       "      <td>0.02</td>\n",
       "      <td>0.442308</td>\n",
       "      <td>C8</td>\n",
       "      <td>8794</td>\n",
       "      <td>3</td>\n",
       "      <td>C2</td>\n",
       "      <td>M4</td>\n",
       "      <td>Diesel</td>\n",
       "      <td>250Nm@2750rpm</td>\n",
       "      <td>113.45bhp@4000rpm</td>\n",
       "      <td>1.5 L U2 CRDi</td>\n",
       "      <td>6</td>\n",
       "      <td>Yes</td>\n",
       "      <td>Yes</td>\n",
       "      <td>Yes</td>\n",
       "      <td>Yes</td>\n",
       "      <td>Yes</td>\n",
       "      <td>Disc</td>\n",
       "      <td>1493</td>\n",
       "      <td>4</td>\n",
       "      <td>Automatic</td>\n",
       "      <td>6</td>\n",
       "      <td>Power</td>\n",
       "      <td>5.2</td>\n",
       "      <td>4300</td>\n",
       "      <td>1790</td>\n",
       "      <td>1635</td>\n",
       "      <td>1720</td>\n",
       "      <td>Yes</td>\n",
       "      <td>Yes</td>\n",
       "      <td>Yes</td>\n",
       "      <td>Yes</td>\n",
       "      <td>Yes</td>\n",
       "      <td>Yes</td>\n",
       "      <td>Yes</td>\n",
       "      <td>Yes</td>\n",
       "      <td>Yes</td>\n",
       "      <td>No</td>\n",
       "      <td>Yes</td>\n",
       "      <td>Yes</td>\n",
       "      <td>3</td>\n",
       "      <td>0</td>\n",
       "    </tr>\n",
       "  </tbody>\n",
       "</table>\n",
       "<p>58592 rows × 44 columns</p>\n",
       "</div>"
      ],
      "text/plain": [
       "      policy_id  policy_tenure  age_of_car  age_of_policyholder area_cluster  \\\n",
       "0       ID00001       0.515874        0.05             0.644231           C1   \n",
       "1       ID00002       0.672619        0.02             0.375000           C2   \n",
       "2       ID00003       0.841110        0.02             0.384615           C3   \n",
       "3       ID00004       0.900277        0.11             0.432692           C4   \n",
       "4       ID00005       0.596403        0.11             0.634615           C5   \n",
       "...         ...            ...         ...                  ...          ...   \n",
       "58587   ID58588       0.355089        0.13             0.644231           C8   \n",
       "58588   ID58589       1.199642        0.02             0.519231          C14   \n",
       "58589   ID58590       1.162273        0.05             0.451923           C5   \n",
       "58590   ID58591       1.236307        0.14             0.557692           C8   \n",
       "58591   ID58592       0.124429        0.02             0.442308           C8   \n",
       "\n",
       "       population_density  make segment model fuel_type     max_torque  \\\n",
       "0                    4990     1       A    M1       CNG   60Nm@3500rpm   \n",
       "1                   27003     1       A    M1       CNG   60Nm@3500rpm   \n",
       "2                    4076     1       A    M1       CNG   60Nm@3500rpm   \n",
       "3                   21622     1      C1    M2    Petrol  113Nm@4400rpm   \n",
       "4                   34738     2       A    M3    Petrol   91Nm@4250rpm   \n",
       "...                   ...   ...     ...   ...       ...            ...   \n",
       "58587                8794     2       A    M3    Petrol   91Nm@4250rpm   \n",
       "58588                7788     1       A    M1       CNG   60Nm@3500rpm   \n",
       "58589               34738     1       A    M1       CNG   60Nm@3500rpm   \n",
       "58590                8794     1      B2    M6    Petrol  113Nm@4400rpm   \n",
       "58591                8794     3      C2    M4    Diesel  250Nm@2750rpm   \n",
       "\n",
       "               max_power         engine_type  airbags is_esc  \\\n",
       "0       40.36bhp@6000rpm   F8D Petrol Engine        2     No   \n",
       "1       40.36bhp@6000rpm   F8D Petrol Engine        2     No   \n",
       "2       40.36bhp@6000rpm   F8D Petrol Engine        2     No   \n",
       "3       88.50bhp@6000rpm  1.2 L K12N Dualjet        2    Yes   \n",
       "4       67.06bhp@5500rpm             1.0 SCe        2     No   \n",
       "...                  ...                 ...      ...    ...   \n",
       "58587   67.06bhp@5500rpm             1.0 SCe        2     No   \n",
       "58588   40.36bhp@6000rpm   F8D Petrol Engine        2     No   \n",
       "58589   40.36bhp@6000rpm   F8D Petrol Engine        2     No   \n",
       "58590   88.50bhp@6000rpm   K Series Dual jet        2     No   \n",
       "58591  113.45bhp@4000rpm       1.5 L U2 CRDi        6    Yes   \n",
       "\n",
       "      is_adjustable_steering is_tpms is_parking_sensors is_parking_camera  \\\n",
       "0                         No      No                Yes                No   \n",
       "1                         No      No                Yes                No   \n",
       "2                         No      No                Yes                No   \n",
       "3                        Yes      No                Yes               Yes   \n",
       "4                         No      No                 No               Yes   \n",
       "...                      ...     ...                ...               ...   \n",
       "58587                     No      No                 No               Yes   \n",
       "58588                     No      No                Yes                No   \n",
       "58589                     No      No                Yes                No   \n",
       "58590                    Yes      No                Yes                No   \n",
       "58591                    Yes     Yes                Yes               Yes   \n",
       "\n",
       "      rear_brakes_type  displacement  cylinder transmission_type  gear_box  \\\n",
       "0                 Drum           796         3            Manual         5   \n",
       "1                 Drum           796         3            Manual         5   \n",
       "2                 Drum           796         3            Manual         5   \n",
       "3                 Drum          1197         4         Automatic         5   \n",
       "4                 Drum           999         3         Automatic         5   \n",
       "...                ...           ...       ...               ...       ...   \n",
       "58587             Drum           999         3         Automatic         5   \n",
       "58588             Drum           796         3            Manual         5   \n",
       "58589             Drum           796         3            Manual         5   \n",
       "58590             Drum          1197         4            Manual         5   \n",
       "58591             Disc          1493         4         Automatic         6   \n",
       "\n",
       "      steering_type  turning_radius  length  width  height  gross_weight  \\\n",
       "0             Power             4.6    3445   1515    1475          1185   \n",
       "1             Power             4.6    3445   1515    1475          1185   \n",
       "2             Power             4.6    3445   1515    1475          1185   \n",
       "3          Electric             4.8    3995   1735    1515          1335   \n",
       "4          Electric             5.0    3731   1579    1490          1155   \n",
       "...             ...             ...     ...    ...     ...           ...   \n",
       "58587      Electric             5.0    3731   1579    1490          1155   \n",
       "58588         Power             4.6    3445   1515    1475          1185   \n",
       "58589         Power             4.6    3445   1515    1475          1185   \n",
       "58590      Electric             4.8    3845   1735    1530          1335   \n",
       "58591         Power             5.2    4300   1790    1635          1720   \n",
       "\n",
       "      is_front_fog_lights is_rear_window_wiper is_rear_window_washer  \\\n",
       "0                      No                   No                    No   \n",
       "1                      No                   No                    No   \n",
       "2                      No                   No                    No   \n",
       "3                     Yes                   No                    No   \n",
       "4                      No                   No                    No   \n",
       "...                   ...                  ...                   ...   \n",
       "58587                  No                   No                    No   \n",
       "58588                  No                   No                    No   \n",
       "58589                  No                   No                    No   \n",
       "58590                 Yes                   No                    No   \n",
       "58591                 Yes                  Yes                   Yes   \n",
       "\n",
       "      is_rear_window_defogger is_brake_assist is_power_door_locks  \\\n",
       "0                          No              No                  No   \n",
       "1                          No              No                  No   \n",
       "2                          No              No                  No   \n",
       "3                         Yes             Yes                 Yes   \n",
       "4                          No              No                 Yes   \n",
       "...                       ...             ...                 ...   \n",
       "58587                      No              No                 Yes   \n",
       "58588                      No              No                  No   \n",
       "58589                      No              No                  No   \n",
       "58590                      No             Yes                 Yes   \n",
       "58591                     Yes             Yes                 Yes   \n",
       "\n",
       "      is_central_locking is_power_steering is_driver_seat_height_adjustable  \\\n",
       "0                     No               Yes                               No   \n",
       "1                     No               Yes                               No   \n",
       "2                     No               Yes                               No   \n",
       "3                    Yes               Yes                              Yes   \n",
       "4                    Yes               Yes                               No   \n",
       "...                  ...               ...                              ...   \n",
       "58587                Yes               Yes                               No   \n",
       "58588                 No               Yes                               No   \n",
       "58589                 No               Yes                               No   \n",
       "58590                Yes               Yes                              Yes   \n",
       "58591                Yes               Yes                              Yes   \n",
       "\n",
       "      is_day_night_rear_view_mirror is_ecw is_speed_alert  ncap_rating  \\\n",
       "0                                No     No            Yes            0   \n",
       "1                                No     No            Yes            0   \n",
       "2                                No     No            Yes            0   \n",
       "3                               Yes    Yes            Yes            2   \n",
       "4                               Yes    Yes            Yes            2   \n",
       "...                             ...    ...            ...          ...   \n",
       "58587                           Yes    Yes            Yes            2   \n",
       "58588                            No     No            Yes            0   \n",
       "58589                            No     No            Yes            0   \n",
       "58590                           Yes    Yes            Yes            2   \n",
       "58591                            No    Yes            Yes            3   \n",
       "\n",
       "       is_claim  \n",
       "0             0  \n",
       "1             0  \n",
       "2             0  \n",
       "3             0  \n",
       "4             0  \n",
       "...         ...  \n",
       "58587         0  \n",
       "58588         0  \n",
       "58589         0  \n",
       "58590         0  \n",
       "58591         0  \n",
       "\n",
       "[58592 rows x 44 columns]"
      ]
     },
     "execution_count": 8,
     "metadata": {},
     "output_type": "execute_result"
    }
   ],
   "source": [
    "data_train = pd.read_csv('train_qWM28Yl.csv')\n",
    "data_train"
   ]
  },
  {
   "cell_type": "markdown",
   "id": "4c1a4c39",
   "metadata": {},
   "source": [
    "# 3. EDA"
   ]
  },
  {
   "cell_type": "code",
   "execution_count": 3,
   "id": "28570315",
   "metadata": {},
   "outputs": [
    {
     "data": {
      "text/html": [
       "<div>\n",
       "<style scoped>\n",
       "    .dataframe tbody tr th:only-of-type {\n",
       "        vertical-align: middle;\n",
       "    }\n",
       "\n",
       "    .dataframe tbody tr th {\n",
       "        vertical-align: top;\n",
       "    }\n",
       "\n",
       "    .dataframe thead th {\n",
       "        text-align: right;\n",
       "    }\n",
       "</style>\n",
       "<table border=\"1\" class=\"dataframe\">\n",
       "  <thead>\n",
       "    <tr style=\"text-align: right;\">\n",
       "      <th></th>\n",
       "      <th>policy_id</th>\n",
       "      <th>policy_tenure</th>\n",
       "      <th>age_of_car</th>\n",
       "      <th>age_of_policyholder</th>\n",
       "      <th>area_cluster</th>\n",
       "      <th>population_density</th>\n",
       "      <th>make</th>\n",
       "      <th>segment</th>\n",
       "      <th>model</th>\n",
       "      <th>fuel_type</th>\n",
       "      <th>max_torque</th>\n",
       "      <th>max_power</th>\n",
       "      <th>engine_type</th>\n",
       "      <th>airbags</th>\n",
       "      <th>is_esc</th>\n",
       "      <th>is_adjustable_steering</th>\n",
       "      <th>is_tpms</th>\n",
       "      <th>is_parking_sensors</th>\n",
       "      <th>is_parking_camera</th>\n",
       "      <th>rear_brakes_type</th>\n",
       "      <th>displacement</th>\n",
       "      <th>cylinder</th>\n",
       "      <th>transmission_type</th>\n",
       "      <th>gear_box</th>\n",
       "      <th>steering_type</th>\n",
       "      <th>turning_radius</th>\n",
       "      <th>length</th>\n",
       "      <th>width</th>\n",
       "      <th>height</th>\n",
       "      <th>gross_weight</th>\n",
       "      <th>is_front_fog_lights</th>\n",
       "      <th>is_rear_window_wiper</th>\n",
       "      <th>is_rear_window_washer</th>\n",
       "      <th>is_rear_window_defogger</th>\n",
       "      <th>is_brake_assist</th>\n",
       "      <th>is_power_door_locks</th>\n",
       "      <th>is_central_locking</th>\n",
       "      <th>is_power_steering</th>\n",
       "      <th>is_driver_seat_height_adjustable</th>\n",
       "      <th>is_day_night_rear_view_mirror</th>\n",
       "      <th>is_ecw</th>\n",
       "      <th>is_speed_alert</th>\n",
       "      <th>ncap_rating</th>\n",
       "      <th>is_claim</th>\n",
       "    </tr>\n",
       "  </thead>\n",
       "  <tbody>\n",
       "    <tr>\n",
       "      <th>0</th>\n",
       "      <td>ID00001</td>\n",
       "      <td>0.515874</td>\n",
       "      <td>0.05</td>\n",
       "      <td>0.644231</td>\n",
       "      <td>C1</td>\n",
       "      <td>4990</td>\n",
       "      <td>1</td>\n",
       "      <td>A</td>\n",
       "      <td>M1</td>\n",
       "      <td>CNG</td>\n",
       "      <td>60Nm@3500rpm</td>\n",
       "      <td>40.36bhp@6000rpm</td>\n",
       "      <td>F8D Petrol Engine</td>\n",
       "      <td>2</td>\n",
       "      <td>No</td>\n",
       "      <td>No</td>\n",
       "      <td>No</td>\n",
       "      <td>Yes</td>\n",
       "      <td>No</td>\n",
       "      <td>Drum</td>\n",
       "      <td>796</td>\n",
       "      <td>3</td>\n",
       "      <td>Manual</td>\n",
       "      <td>5</td>\n",
       "      <td>Power</td>\n",
       "      <td>4.6</td>\n",
       "      <td>3445</td>\n",
       "      <td>1515</td>\n",
       "      <td>1475</td>\n",
       "      <td>1185</td>\n",
       "      <td>No</td>\n",
       "      <td>No</td>\n",
       "      <td>No</td>\n",
       "      <td>No</td>\n",
       "      <td>No</td>\n",
       "      <td>No</td>\n",
       "      <td>No</td>\n",
       "      <td>Yes</td>\n",
       "      <td>No</td>\n",
       "      <td>No</td>\n",
       "      <td>No</td>\n",
       "      <td>Yes</td>\n",
       "      <td>0</td>\n",
       "      <td>0</td>\n",
       "    </tr>\n",
       "    <tr>\n",
       "      <th>1</th>\n",
       "      <td>ID00002</td>\n",
       "      <td>0.672619</td>\n",
       "      <td>0.02</td>\n",
       "      <td>0.375000</td>\n",
       "      <td>C2</td>\n",
       "      <td>27003</td>\n",
       "      <td>1</td>\n",
       "      <td>A</td>\n",
       "      <td>M1</td>\n",
       "      <td>CNG</td>\n",
       "      <td>60Nm@3500rpm</td>\n",
       "      <td>40.36bhp@6000rpm</td>\n",
       "      <td>F8D Petrol Engine</td>\n",
       "      <td>2</td>\n",
       "      <td>No</td>\n",
       "      <td>No</td>\n",
       "      <td>No</td>\n",
       "      <td>Yes</td>\n",
       "      <td>No</td>\n",
       "      <td>Drum</td>\n",
       "      <td>796</td>\n",
       "      <td>3</td>\n",
       "      <td>Manual</td>\n",
       "      <td>5</td>\n",
       "      <td>Power</td>\n",
       "      <td>4.6</td>\n",
       "      <td>3445</td>\n",
       "      <td>1515</td>\n",
       "      <td>1475</td>\n",
       "      <td>1185</td>\n",
       "      <td>No</td>\n",
       "      <td>No</td>\n",
       "      <td>No</td>\n",
       "      <td>No</td>\n",
       "      <td>No</td>\n",
       "      <td>No</td>\n",
       "      <td>No</td>\n",
       "      <td>Yes</td>\n",
       "      <td>No</td>\n",
       "      <td>No</td>\n",
       "      <td>No</td>\n",
       "      <td>Yes</td>\n",
       "      <td>0</td>\n",
       "      <td>0</td>\n",
       "    </tr>\n",
       "    <tr>\n",
       "      <th>2</th>\n",
       "      <td>ID00003</td>\n",
       "      <td>0.841110</td>\n",
       "      <td>0.02</td>\n",
       "      <td>0.384615</td>\n",
       "      <td>C3</td>\n",
       "      <td>4076</td>\n",
       "      <td>1</td>\n",
       "      <td>A</td>\n",
       "      <td>M1</td>\n",
       "      <td>CNG</td>\n",
       "      <td>60Nm@3500rpm</td>\n",
       "      <td>40.36bhp@6000rpm</td>\n",
       "      <td>F8D Petrol Engine</td>\n",
       "      <td>2</td>\n",
       "      <td>No</td>\n",
       "      <td>No</td>\n",
       "      <td>No</td>\n",
       "      <td>Yes</td>\n",
       "      <td>No</td>\n",
       "      <td>Drum</td>\n",
       "      <td>796</td>\n",
       "      <td>3</td>\n",
       "      <td>Manual</td>\n",
       "      <td>5</td>\n",
       "      <td>Power</td>\n",
       "      <td>4.6</td>\n",
       "      <td>3445</td>\n",
       "      <td>1515</td>\n",
       "      <td>1475</td>\n",
       "      <td>1185</td>\n",
       "      <td>No</td>\n",
       "      <td>No</td>\n",
       "      <td>No</td>\n",
       "      <td>No</td>\n",
       "      <td>No</td>\n",
       "      <td>No</td>\n",
       "      <td>No</td>\n",
       "      <td>Yes</td>\n",
       "      <td>No</td>\n",
       "      <td>No</td>\n",
       "      <td>No</td>\n",
       "      <td>Yes</td>\n",
       "      <td>0</td>\n",
       "      <td>0</td>\n",
       "    </tr>\n",
       "    <tr>\n",
       "      <th>3</th>\n",
       "      <td>ID00004</td>\n",
       "      <td>0.900277</td>\n",
       "      <td>0.11</td>\n",
       "      <td>0.432692</td>\n",
       "      <td>C4</td>\n",
       "      <td>21622</td>\n",
       "      <td>1</td>\n",
       "      <td>C1</td>\n",
       "      <td>M2</td>\n",
       "      <td>Petrol</td>\n",
       "      <td>113Nm@4400rpm</td>\n",
       "      <td>88.50bhp@6000rpm</td>\n",
       "      <td>1.2 L K12N Dualjet</td>\n",
       "      <td>2</td>\n",
       "      <td>Yes</td>\n",
       "      <td>Yes</td>\n",
       "      <td>No</td>\n",
       "      <td>Yes</td>\n",
       "      <td>Yes</td>\n",
       "      <td>Drum</td>\n",
       "      <td>1197</td>\n",
       "      <td>4</td>\n",
       "      <td>Automatic</td>\n",
       "      <td>5</td>\n",
       "      <td>Electric</td>\n",
       "      <td>4.8</td>\n",
       "      <td>3995</td>\n",
       "      <td>1735</td>\n",
       "      <td>1515</td>\n",
       "      <td>1335</td>\n",
       "      <td>Yes</td>\n",
       "      <td>No</td>\n",
       "      <td>No</td>\n",
       "      <td>Yes</td>\n",
       "      <td>Yes</td>\n",
       "      <td>Yes</td>\n",
       "      <td>Yes</td>\n",
       "      <td>Yes</td>\n",
       "      <td>Yes</td>\n",
       "      <td>Yes</td>\n",
       "      <td>Yes</td>\n",
       "      <td>Yes</td>\n",
       "      <td>2</td>\n",
       "      <td>0</td>\n",
       "    </tr>\n",
       "    <tr>\n",
       "      <th>4</th>\n",
       "      <td>ID00005</td>\n",
       "      <td>0.596403</td>\n",
       "      <td>0.11</td>\n",
       "      <td>0.634615</td>\n",
       "      <td>C5</td>\n",
       "      <td>34738</td>\n",
       "      <td>2</td>\n",
       "      <td>A</td>\n",
       "      <td>M3</td>\n",
       "      <td>Petrol</td>\n",
       "      <td>91Nm@4250rpm</td>\n",
       "      <td>67.06bhp@5500rpm</td>\n",
       "      <td>1.0 SCe</td>\n",
       "      <td>2</td>\n",
       "      <td>No</td>\n",
       "      <td>No</td>\n",
       "      <td>No</td>\n",
       "      <td>No</td>\n",
       "      <td>Yes</td>\n",
       "      <td>Drum</td>\n",
       "      <td>999</td>\n",
       "      <td>3</td>\n",
       "      <td>Automatic</td>\n",
       "      <td>5</td>\n",
       "      <td>Electric</td>\n",
       "      <td>5.0</td>\n",
       "      <td>3731</td>\n",
       "      <td>1579</td>\n",
       "      <td>1490</td>\n",
       "      <td>1155</td>\n",
       "      <td>No</td>\n",
       "      <td>No</td>\n",
       "      <td>No</td>\n",
       "      <td>No</td>\n",
       "      <td>No</td>\n",
       "      <td>Yes</td>\n",
       "      <td>Yes</td>\n",
       "      <td>Yes</td>\n",
       "      <td>No</td>\n",
       "      <td>Yes</td>\n",
       "      <td>Yes</td>\n",
       "      <td>Yes</td>\n",
       "      <td>2</td>\n",
       "      <td>0</td>\n",
       "    </tr>\n",
       "  </tbody>\n",
       "</table>\n",
       "</div>"
      ],
      "text/plain": [
       "  policy_id  policy_tenure  age_of_car  age_of_policyholder area_cluster  \\\n",
       "0   ID00001       0.515874        0.05             0.644231           C1   \n",
       "1   ID00002       0.672619        0.02             0.375000           C2   \n",
       "2   ID00003       0.841110        0.02             0.384615           C3   \n",
       "3   ID00004       0.900277        0.11             0.432692           C4   \n",
       "4   ID00005       0.596403        0.11             0.634615           C5   \n",
       "\n",
       "   population_density  make segment model fuel_type     max_torque  \\\n",
       "0                4990     1       A    M1       CNG   60Nm@3500rpm   \n",
       "1               27003     1       A    M1       CNG   60Nm@3500rpm   \n",
       "2                4076     1       A    M1       CNG   60Nm@3500rpm   \n",
       "3               21622     1      C1    M2    Petrol  113Nm@4400rpm   \n",
       "4               34738     2       A    M3    Petrol   91Nm@4250rpm   \n",
       "\n",
       "          max_power         engine_type  airbags is_esc  \\\n",
       "0  40.36bhp@6000rpm   F8D Petrol Engine        2     No   \n",
       "1  40.36bhp@6000rpm   F8D Petrol Engine        2     No   \n",
       "2  40.36bhp@6000rpm   F8D Petrol Engine        2     No   \n",
       "3  88.50bhp@6000rpm  1.2 L K12N Dualjet        2    Yes   \n",
       "4  67.06bhp@5500rpm             1.0 SCe        2     No   \n",
       "\n",
       "  is_adjustable_steering is_tpms is_parking_sensors is_parking_camera  \\\n",
       "0                     No      No                Yes                No   \n",
       "1                     No      No                Yes                No   \n",
       "2                     No      No                Yes                No   \n",
       "3                    Yes      No                Yes               Yes   \n",
       "4                     No      No                 No               Yes   \n",
       "\n",
       "  rear_brakes_type  displacement  cylinder transmission_type  gear_box  \\\n",
       "0             Drum           796         3            Manual         5   \n",
       "1             Drum           796         3            Manual         5   \n",
       "2             Drum           796         3            Manual         5   \n",
       "3             Drum          1197         4         Automatic         5   \n",
       "4             Drum           999         3         Automatic         5   \n",
       "\n",
       "  steering_type  turning_radius  length  width  height  gross_weight  \\\n",
       "0         Power             4.6    3445   1515    1475          1185   \n",
       "1         Power             4.6    3445   1515    1475          1185   \n",
       "2         Power             4.6    3445   1515    1475          1185   \n",
       "3      Electric             4.8    3995   1735    1515          1335   \n",
       "4      Electric             5.0    3731   1579    1490          1155   \n",
       "\n",
       "  is_front_fog_lights is_rear_window_wiper is_rear_window_washer  \\\n",
       "0                  No                   No                    No   \n",
       "1                  No                   No                    No   \n",
       "2                  No                   No                    No   \n",
       "3                 Yes                   No                    No   \n",
       "4                  No                   No                    No   \n",
       "\n",
       "  is_rear_window_defogger is_brake_assist is_power_door_locks  \\\n",
       "0                      No              No                  No   \n",
       "1                      No              No                  No   \n",
       "2                      No              No                  No   \n",
       "3                     Yes             Yes                 Yes   \n",
       "4                      No              No                 Yes   \n",
       "\n",
       "  is_central_locking is_power_steering is_driver_seat_height_adjustable  \\\n",
       "0                 No               Yes                               No   \n",
       "1                 No               Yes                               No   \n",
       "2                 No               Yes                               No   \n",
       "3                Yes               Yes                              Yes   \n",
       "4                Yes               Yes                               No   \n",
       "\n",
       "  is_day_night_rear_view_mirror is_ecw is_speed_alert  ncap_rating  is_claim  \n",
       "0                            No     No            Yes            0         0  \n",
       "1                            No     No            Yes            0         0  \n",
       "2                            No     No            Yes            0         0  \n",
       "3                           Yes    Yes            Yes            2         0  \n",
       "4                           Yes    Yes            Yes            2         0  "
      ]
     },
     "execution_count": 3,
     "metadata": {},
     "output_type": "execute_result"
    }
   ],
   "source": [
    "df1 = data_train.copy()\n",
    "df1.head()"
   ]
  },
  {
   "cell_type": "code",
   "execution_count": 4,
   "id": "1637f49d",
   "metadata": {},
   "outputs": [
    {
     "data": {
      "text/plain": [
       "policy_id                           0\n",
       "policy_tenure                       0\n",
       "age_of_car                          0\n",
       "age_of_policyholder                 0\n",
       "area_cluster                        0\n",
       "population_density                  0\n",
       "make                                0\n",
       "segment                             0\n",
       "model                               0\n",
       "fuel_type                           0\n",
       "max_torque                          0\n",
       "max_power                           0\n",
       "engine_type                         0\n",
       "airbags                             0\n",
       "is_esc                              0\n",
       "is_adjustable_steering              0\n",
       "is_tpms                             0\n",
       "is_parking_sensors                  0\n",
       "is_parking_camera                   0\n",
       "rear_brakes_type                    0\n",
       "displacement                        0\n",
       "cylinder                            0\n",
       "transmission_type                   0\n",
       "gear_box                            0\n",
       "steering_type                       0\n",
       "turning_radius                      0\n",
       "length                              0\n",
       "width                               0\n",
       "height                              0\n",
       "gross_weight                        0\n",
       "is_front_fog_lights                 0\n",
       "is_rear_window_wiper                0\n",
       "is_rear_window_washer               0\n",
       "is_rear_window_defogger             0\n",
       "is_brake_assist                     0\n",
       "is_power_door_locks                 0\n",
       "is_central_locking                  0\n",
       "is_power_steering                   0\n",
       "is_driver_seat_height_adjustable    0\n",
       "is_day_night_rear_view_mirror       0\n",
       "is_ecw                              0\n",
       "is_speed_alert                      0\n",
       "ncap_rating                         0\n",
       "is_claim                            0\n",
       "dtype: int64"
      ]
     },
     "execution_count": 4,
     "metadata": {},
     "output_type": "execute_result"
    }
   ],
   "source": [
    "df1.isna().sum()"
   ]
  },
  {
   "cell_type": "markdown",
   "id": "473a1f40",
   "metadata": {},
   "source": [
    "### 3.1 policy_id"
   ]
  },
  {
   "cell_type": "code",
   "execution_count": 5,
   "id": "3333f072",
   "metadata": {},
   "outputs": [
    {
     "data": {
      "text/plain": [
       "58592"
      ]
     },
     "execution_count": 5,
     "metadata": {},
     "output_type": "execute_result"
    }
   ],
   "source": [
    "df1['policy_id'].nunique() # unique column"
   ]
  },
  {
   "cell_type": "markdown",
   "id": "361757d1",
   "metadata": {},
   "source": [
    "### 3.2 policy_tenure\n",
    "Time period of the policy"
   ]
  },
  {
   "cell_type": "code",
   "execution_count": 6,
   "id": "be4c3c48",
   "metadata": {},
   "outputs": [
    {
     "data": {
      "text/plain": [
       "dtype('float64')"
      ]
     },
     "execution_count": 6,
     "metadata": {},
     "output_type": "execute_result"
    }
   ],
   "source": [
    "df1['policy_tenure'].dtype"
   ]
  },
  {
   "cell_type": "code",
   "execution_count": 7,
   "id": "0f04ed19",
   "metadata": {},
   "outputs": [
    {
     "data": {
      "text/plain": [
       "<AxesSubplot:xlabel='policy_tenure', ylabel='Density'>"
      ]
     },
     "execution_count": 7,
     "metadata": {},
     "output_type": "execute_result"
    },
    {
     "data": {
      "image/png": "[encoded data removed]",
      "text/plain": [
       "<Figure size 720x360 with 1 Axes>"
      ]
     },
     "metadata": {
      "needs_background": "light"
     },
     "output_type": "display_data"
    }
   ],
   "source": [
    "plt.figure(figsize=(10,5))\n",
    "sns.kdeplot(df1['policy_tenure'],fill=True)"
   ]
  },
  {
   "cell_type": "code",
   "execution_count": 8,
   "id": "a4f7644b",
   "metadata": {},
   "outputs": [
    {
     "data": {
      "text/plain": [
       "<AxesSubplot:xlabel='policy_tenure'>"
      ]
     },
     "execution_count": 8,
     "metadata": {},
     "output_type": "execute_result"
    },
    {
     "data": {
      "image/png": "[encoded data removed]",
      "text/plain": [
       "<Figure size 720x360 with 1 Axes>"
      ]
     },
     "metadata": {
      "needs_background": "light"
     },
     "output_type": "display_data"
    }
   ],
   "source": [
    "plt.figure(figsize=(10,5))\n",
    "sns.boxplot(df1['policy_tenure'])"
   ]
  },
  {
   "cell_type": "markdown",
   "id": "c5d6d25a",
   "metadata": {},
   "source": [
    "### 3.3 age_of_car\n",
    "Normalized age of the car in years"
   ]
  },
  {
   "cell_type": "code",
   "execution_count": 9,
   "id": "a5e6ed81",
   "metadata": {},
   "outputs": [
    {
     "data": {
      "text/plain": [
       "dtype('float64')"
      ]
     },
     "execution_count": 9,
     "metadata": {},
     "output_type": "execute_result"
    }
   ],
   "source": [
    "df1['age_of_car'].dtype"
   ]
  },
  {
   "cell_type": "code",
   "execution_count": 10,
   "id": "6e1675d3",
   "metadata": {},
   "outputs": [
    {
     "data": {
      "text/plain": [
       "<AxesSubplot:xlabel='age_of_car', ylabel='Density'>"
      ]
     },
     "execution_count": 10,
     "metadata": {},
     "output_type": "execute_result"
    },
    {
     "data": {
      "image/png": "[encoded data removed]",
      "text/plain": [
       "<Figure size 720x360 with 1 Axes>"
      ]
     },
     "metadata": {
      "needs_background": "light"
     },
     "output_type": "display_data"
    }
   ],
   "source": [
    "plt.figure(figsize=(10,5))\n",
    "sns.kdeplot(df1['age_of_car'],fill=True)"
   ]
  },
  {
   "cell_type": "code",
   "execution_count": 11,
   "id": "bb13734b",
   "metadata": {},
   "outputs": [
    {
     "data": {
      "text/plain": [
       "<AxesSubplot:xlabel='age_of_car'>"
      ]
     },
     "execution_count": 11,
     "metadata": {},
     "output_type": "execute_result"
    },
    {
     "data": {
      "image/png": "[encoded data removed]",
      "text/plain": [
       "<Figure size 720x360 with 1 Axes>"
      ]
     },
     "metadata": {
      "needs_background": "light"
     },
     "output_type": "display_data"
    }
   ],
   "source": [
    "plt.figure(figsize=(10,5))\n",
    "sns.boxplot(df1['age_of_car'])"
   ]
  },
  {
   "cell_type": "code",
   "execution_count": 12,
   "id": "22eb7630",
   "metadata": {},
   "outputs": [
    {
     "data": {
      "text/plain": [
       "<AxesSubplot:>"
      ]
     },
     "execution_count": 12,
     "metadata": {},
     "output_type": "execute_result"
    },
    {
     "data": {
      "image/png": "[encoded data removed]",
      "text/plain": [
       "<Figure size 432x288 with 1 Axes>"
      ]
     },
     "metadata": {
      "needs_background": "light"
     },
     "output_type": "display_data"
    }
   ],
   "source": [
    "df1[df1['is_claim']==1]['age_of_car'].sort_values().plot(kind='barh')"
   ]
  },
  {
   "cell_type": "code",
   "execution_count": 13,
   "id": "a12105ad",
   "metadata": {},
   "outputs": [
    {
     "data": {
      "text/plain": [
       "<AxesSubplot:xlabel='car_age_bins,is_claim'>"
      ]
     },
     "execution_count": 13,
     "metadata": {},
     "output_type": "execute_result"
    },
    {
     "data": {
      "image/png": "[encoded data removed]",
      "text/plain": [
       "<Figure size 432x288 with 1 Axes>"
      ]
     },
     "metadata": {
      "needs_background": "light"
     },
     "output_type": "display_data"
    }
   ],
   "source": [
    "bins = [0.0,0.2,0.4,0.6,0.8,1]\n",
    "df1['car_age_bins'] = pd.cut(df1['age_of_car'],bins)\n",
    "df1.groupby(['car_age_bins','is_claim']).count()['policy_id'].plot(kind='bar')"
   ]
  },
  {
   "cell_type": "code",
   "execution_count": 14,
   "id": "0bb90a3a",
   "metadata": {},
   "outputs": [
    {
     "data": {
      "text/html": [
       "<div>\n",
       "<style scoped>\n",
       "    .dataframe tbody tr th:only-of-type {\n",
       "        vertical-align: middle;\n",
       "    }\n",
       "\n",
       "    .dataframe tbody tr th {\n",
       "        vertical-align: top;\n",
       "    }\n",
       "\n",
       "    .dataframe thead th {\n",
       "        text-align: right;\n",
       "    }\n",
       "</style>\n",
       "<table border=\"1\" class=\"dataframe\">\n",
       "  <thead>\n",
       "    <tr style=\"text-align: right;\">\n",
       "      <th></th>\n",
       "      <th>age_of_car</th>\n",
       "    </tr>\n",
       "  </thead>\n",
       "  <tbody>\n",
       "    <tr>\n",
       "      <th>count</th>\n",
       "      <td>58592.000000</td>\n",
       "    </tr>\n",
       "    <tr>\n",
       "      <th>mean</th>\n",
       "      <td>0.069424</td>\n",
       "    </tr>\n",
       "    <tr>\n",
       "      <th>std</th>\n",
       "      <td>0.056721</td>\n",
       "    </tr>\n",
       "    <tr>\n",
       "      <th>min</th>\n",
       "      <td>0.000000</td>\n",
       "    </tr>\n",
       "    <tr>\n",
       "      <th>25%</th>\n",
       "      <td>0.020000</td>\n",
       "    </tr>\n",
       "    <tr>\n",
       "      <th>50%</th>\n",
       "      <td>0.060000</td>\n",
       "    </tr>\n",
       "    <tr>\n",
       "      <th>75%</th>\n",
       "      <td>0.110000</td>\n",
       "    </tr>\n",
       "    <tr>\n",
       "      <th>max</th>\n",
       "      <td>1.000000</td>\n",
       "    </tr>\n",
       "  </tbody>\n",
       "</table>\n",
       "</div>"
      ],
      "text/plain": [
       "         age_of_car\n",
       "count  58592.000000\n",
       "mean       0.069424\n",
       "std        0.056721\n",
       "min        0.000000\n",
       "25%        0.020000\n",
       "50%        0.060000\n",
       "75%        0.110000\n",
       "max        1.000000"
      ]
     },
     "execution_count": 14,
     "metadata": {},
     "output_type": "execute_result"
    }
   ],
   "source": [
    "df1[['age_of_car']].describe()"
   ]
  },
  {
   "cell_type": "markdown",
   "id": "4f2df3a5",
   "metadata": {},
   "source": [
    "### 3.4 age_of_policyholder\n",
    "Normalized age of policyholder in years"
   ]
  },
  {
   "cell_type": "code",
   "execution_count": 15,
   "id": "b5acd2b6",
   "metadata": {},
   "outputs": [
    {
     "data": {
      "text/plain": [
       "dtype('float64')"
      ]
     },
     "execution_count": 15,
     "metadata": {},
     "output_type": "execute_result"
    }
   ],
   "source": [
    "df1['age_of_policyholder'].dtype"
   ]
  },
  {
   "cell_type": "code",
   "execution_count": 16,
   "id": "12af11d8",
   "metadata": {},
   "outputs": [
    {
     "data": {
      "text/plain": [
       "<AxesSubplot:xlabel='age_of_policyholder', ylabel='Density'>"
      ]
     },
     "execution_count": 16,
     "metadata": {},
     "output_type": "execute_result"
    },
    {
     "data": {
      "image/png": "[encoded data removed]",
      "text/plain": [
       "<Figure size 720x360 with 1 Axes>"
      ]
     },
     "metadata": {
      "needs_background": "light"
     },
     "output_type": "display_data"
    }
   ],
   "source": [
    "plt.figure(figsize=(10,5))\n",
    "sns.kdeplot(df1['age_of_policyholder'],fill=True)"
   ]
  },
  {
   "cell_type": "code",
   "execution_count": 17,
   "id": "584de13e",
   "metadata": {},
   "outputs": [
    {
     "data": {
      "text/plain": [
       "<AxesSubplot:xlabel='age_of_policyholder'>"
      ]
     },
     "execution_count": 17,
     "metadata": {},
     "output_type": "execute_result"
    },
    {
     "data": {
      "image/png": "[encoded data removed]",
      "text/plain": [
       "<Figure size 720x360 with 1 Axes>"
      ]
     },
     "metadata": {
      "needs_background": "light"
     },
     "output_type": "display_data"
    }
   ],
   "source": [
    "plt.figure(figsize=(10,5))\n",
    "sns.boxplot(df1['age_of_policyholder'])"
   ]
  },
  {
   "cell_type": "code",
   "execution_count": null,
   "id": "bb4a7aea",
   "metadata": {},
   "outputs": [],
   "source": []
  },
  {
   "cell_type": "markdown",
   "id": "55b2ea9c",
   "metadata": {},
   "source": [
    "### 3.5 area_cluster\n",
    "Area cluster of the policyholder"
   ]
  },
  {
   "cell_type": "code",
   "execution_count": 18,
   "id": "d1b578dd",
   "metadata": {},
   "outputs": [
    {
     "data": {
      "text/plain": [
       "array(['C1', 'C2', 'C3', 'C4', 'C5', 'C6', 'C7', 'C8', 'C9', 'C10', 'C11',\n",
       "       'C12', 'C13', 'C14', 'C15', 'C16', 'C17', 'C18', 'C19', 'C20',\n",
       "       'C21', 'C22'], dtype=object)"
      ]
     },
     "execution_count": 18,
     "metadata": {},
     "output_type": "execute_result"
    }
   ],
   "source": [
    "df1['area_cluster'].unique() # 22 clusters"
   ]
  },
  {
   "cell_type": "markdown",
   "id": "cdc33649",
   "metadata": {},
   "source": [
    "### 3.6 population_density\n",
    "Population density of the city (Policyholder City)"
   ]
  },
  {
   "cell_type": "code",
   "execution_count": 19,
   "id": "d2b4f7d8",
   "metadata": {},
   "outputs": [
    {
     "data": {
      "text/plain": [
       "dtype('int64')"
      ]
     },
     "execution_count": 19,
     "metadata": {},
     "output_type": "execute_result"
    }
   ],
   "source": [
    "df1['population_density'].dtype"
   ]
  },
  {
   "cell_type": "code",
   "execution_count": 20,
   "id": "5fa2ee7d",
   "metadata": {},
   "outputs": [
    {
     "data": {
      "text/plain": [
       "22"
      ]
     },
     "execution_count": 20,
     "metadata": {},
     "output_type": "execute_result"
    }
   ],
   "source": [
    "df1['population_density'].nunique()\n",
    "# population density for each cluster\n",
    "# Each particular cluster has same population density"
   ]
  },
  {
   "cell_type": "code",
   "execution_count": 21,
   "id": "bd26b59c",
   "metadata": {},
   "outputs": [],
   "source": [
    "# df1[df1['area_cluster']=='C2']"
   ]
  },
  {
   "cell_type": "code",
   "execution_count": 22,
   "id": "df024ead",
   "metadata": {},
   "outputs": [
    {
     "data": {
      "text/plain": [
       "<AxesSubplot:xlabel='population_density', ylabel='Density'>"
      ]
     },
     "execution_count": 22,
     "metadata": {},
     "output_type": "execute_result"
    },
    {
     "data": {
      "image/png": "[encoded data removed]",
      "text/plain": [
       "<Figure size 720x360 with 1 Axes>"
      ]
     },
     "metadata": {
      "needs_background": "light"
     },
     "output_type": "display_data"
    }
   ],
   "source": [
    "plt.figure(figsize=(10,5))\n",
    "sns.kdeplot(df1['population_density'],fill=True)"
   ]
  },
  {
   "cell_type": "code",
   "execution_count": 23,
   "id": "9827dda4",
   "metadata": {},
   "outputs": [
    {
     "data": {
      "text/plain": [
       "<AxesSubplot:xlabel='population_density'>"
      ]
     },
     "execution_count": 23,
     "metadata": {},
     "output_type": "execute_result"
    },
    {
     "data": {
      "image/png": "[encoded data removed]",
      "text/plain": [
       "<Figure size 720x360 with 1 Axes>"
      ]
     },
     "metadata": {
      "needs_background": "light"
     },
     "output_type": "display_data"
    }
   ],
   "source": [
    "plt.figure(figsize=(10,5))\n",
    "sns.boxplot(df1['population_density'])"
   ]
  },
  {
   "cell_type": "markdown",
   "id": "fe6dc153",
   "metadata": {},
   "source": [
    "### 3.7 make\n",
    "Encoded Manufacturer/company of the car"
   ]
  },
  {
   "cell_type": "code",
   "execution_count": 24,
   "id": "c5cd57ba",
   "metadata": {},
   "outputs": [
    {
     "data": {
      "text/plain": [
       "array([1, 2, 3, 4, 5], dtype=int64)"
      ]
     },
     "execution_count": 24,
     "metadata": {},
     "output_type": "execute_result"
    }
   ],
   "source": [
    "df1['make'].unique()"
   ]
  },
  {
   "cell_type": "markdown",
   "id": "0f80c623",
   "metadata": {},
   "source": [
    "### 3.8 segment\n",
    "Segment of the car (A/ B1/ B2/ C1/ C2)"
   ]
  },
  {
   "cell_type": "code",
   "execution_count": 25,
   "id": "301efc72",
   "metadata": {},
   "outputs": [
    {
     "data": {
      "text/plain": [
       "array(['A', 'C1', 'C2', 'B2', 'B1', 'Utility'], dtype=object)"
      ]
     },
     "execution_count": 25,
     "metadata": {},
     "output_type": "execute_result"
    }
   ],
   "source": [
    "df1['segment'].unique()"
   ]
  },
  {
   "cell_type": "code",
   "execution_count": 26,
   "id": "20a7cac4",
   "metadata": {},
   "outputs": [
    {
     "data": {
      "text/plain": [
       "<AxesSubplot:>"
      ]
     },
     "execution_count": 26,
     "metadata": {},
     "output_type": "execute_result"
    },
    {
     "data": {
      "image/png": "[encoded data removed]",
      "text/plain": [
       "<Figure size 720x360 with 1 Axes>"
      ]
     },
     "metadata": {
      "needs_background": "light"
     },
     "output_type": "display_data"
    }
   ],
   "source": [
    "plt.figure(figsize=(10,5))\n",
    "df1['segment'].value_counts().sort_values().plot(kind='barh')"
   ]
  },
  {
   "cell_type": "markdown",
   "id": "6e0d7616",
   "metadata": {},
   "source": [
    "### 3.9 model\n",
    "Encoded name of the car"
   ]
  },
  {
   "cell_type": "code",
   "execution_count": 27,
   "id": "7d555380",
   "metadata": {},
   "outputs": [
    {
     "data": {
      "text/plain": [
       "array(['M1', 'M2', 'M3', 'M4', 'M5', 'M6', 'M7', 'M8', 'M9', 'M10', 'M11'],\n",
       "      dtype=object)"
      ]
     },
     "execution_count": 27,
     "metadata": {},
     "output_type": "execute_result"
    }
   ],
   "source": [
    "df1['model'].unique()"
   ]
  },
  {
   "cell_type": "code",
   "execution_count": 28,
   "id": "062028b8",
   "metadata": {},
   "outputs": [
    {
     "data": {
      "text/plain": [
       "<AxesSubplot:>"
      ]
     },
     "execution_count": 28,
     "metadata": {},
     "output_type": "execute_result"
    },
    {
     "data": {
      "image/png": "[encoded data removed]",
      "text/plain": [
       "<Figure size 720x360 with 1 Axes>"
      ]
     },
     "metadata": {
      "needs_background": "light"
     },
     "output_type": "display_data"
    }
   ],
   "source": [
    "plt.figure(figsize=(10,5))\n",
    "df1['model'].value_counts().sort_values().plot(kind='barh')"
   ]
  },
  {
   "cell_type": "markdown",
   "id": "dfef4b16",
   "metadata": {},
   "source": [
    "### 3.10 fuel_type\n",
    "Type of fuel used by the car"
   ]
  },
  {
   "cell_type": "code",
   "execution_count": 29,
   "id": "88863084",
   "metadata": {},
   "outputs": [
    {
     "data": {
      "text/plain": [
       "array(['CNG', 'Petrol', 'Diesel'], dtype=object)"
      ]
     },
     "execution_count": 29,
     "metadata": {},
     "output_type": "execute_result"
    }
   ],
   "source": [
    "df1['fuel_type'].unique()"
   ]
  },
  {
   "cell_type": "code",
   "execution_count": 30,
   "id": "b8ae0d8c",
   "metadata": {},
   "outputs": [
    {
     "data": {
      "text/plain": [
       "<AxesSubplot:xlabel='fuel_type'>"
      ]
     },
     "execution_count": 30,
     "metadata": {},
     "output_type": "execute_result"
    },
    {
     "data": {
      "image/png": "[encoded data removed]",
      "text/plain": [
       "<Figure size 432x288 with 1 Axes>"
      ]
     },
     "metadata": {
      "needs_background": "light"
     },
     "output_type": "display_data"
    }
   ],
   "source": [
    "df1['fuel_type'].value_counts().sort_values().plot(kind='bar',xlabel='fuel_type')"
   ]
  },
  {
   "cell_type": "markdown",
   "id": "7735cf6b",
   "metadata": {},
   "source": [
    "### 3.11 max_torque\n",
    "Maximum Torque generated by the car (Nm@rpm)"
   ]
  },
  {
   "cell_type": "code",
   "execution_count": 31,
   "id": "99205b5d",
   "metadata": {},
   "outputs": [
    {
     "data": {
      "text/plain": [
       "array(['60Nm@3500rpm', '113Nm@4400rpm', '91Nm@4250rpm', '250Nm@2750rpm',\n",
       "       '200Nm@3000rpm', '82.1Nm@3400rpm', '200Nm@1750rpm', '85Nm@3000rpm',\n",
       "       '170Nm@4000rpm'], dtype=object)"
      ]
     },
     "execution_count": 31,
     "metadata": {},
     "output_type": "execute_result"
    }
   ],
   "source": [
    "df1['max_torque'].unique()"
   ]
  },
  {
   "cell_type": "code",
   "execution_count": 32,
   "id": "cb4b470a",
   "metadata": {},
   "outputs": [
    {
     "data": {
      "text/plain": [
       "<AxesSubplot:ylabel='max_torque'>"
      ]
     },
     "execution_count": 32,
     "metadata": {},
     "output_type": "execute_result"
    },
    {
     "data": {
      "image/png": "[encoded data removed]",
      "text/plain": [
       "<Figure size 432x288 with 1 Axes>"
      ]
     },
     "metadata": {
      "needs_background": "light"
     },
     "output_type": "display_data"
    }
   ],
   "source": [
    "df1['max_torque'].value_counts().sort_values().plot(kind='barh',xlabel='max_torque')"
   ]
  },
  {
   "cell_type": "markdown",
   "id": "be519417",
   "metadata": {},
   "source": [
    "### 3.12 max_power\n",
    "Maximum Power generated by the car (bhp@rpm)"
   ]
  },
  {
   "cell_type": "code",
   "execution_count": 33,
   "id": "bb61c879",
   "metadata": {},
   "outputs": [
    {
     "data": {
      "text/plain": [
       "array(['40.36bhp@6000rpm', '88.50bhp@6000rpm', '67.06bhp@5500rpm',\n",
       "       '113.45bhp@4000rpm', '88.77bhp@4000rpm', '55.92bhp@5300rpm',\n",
       "       '97.89bhp@3600rpm', '61.68bhp@6000rpm', '118.36bhp@5500rpm'],\n",
       "      dtype=object)"
      ]
     },
     "execution_count": 33,
     "metadata": {},
     "output_type": "execute_result"
    }
   ],
   "source": [
    "df1['max_power'].unique()"
   ]
  },
  {
   "cell_type": "code",
   "execution_count": 34,
   "id": "8dea2578",
   "metadata": {},
   "outputs": [
    {
     "data": {
      "text/plain": [
       "<AxesSubplot:ylabel='max_power'>"
      ]
     },
     "execution_count": 34,
     "metadata": {},
     "output_type": "execute_result"
    },
    {
     "data": {
      "image/png": "[encoded data removed]",
      "text/plain": [
       "<Figure size 432x288 with 1 Axes>"
      ]
     },
     "metadata": {
      "needs_background": "light"
     },
     "output_type": "display_data"
    }
   ],
   "source": [
    "df1['max_power'].value_counts().sort_values().plot(kind='barh',xlabel='max_power')"
   ]
  },
  {
   "cell_type": "markdown",
   "id": "b2f17cbe",
   "metadata": {},
   "source": [
    "### 3.13 engine_type"
   ]
  },
  {
   "cell_type": "code",
   "execution_count": 35,
   "id": "04d7660e",
   "metadata": {},
   "outputs": [
    {
     "data": {
      "text/plain": [
       "array(['F8D Petrol Engine', '1.2 L K12N Dualjet', '1.0 SCe',\n",
       "       '1.5 L U2 CRDi', '1.5 Turbocharged Revotorq', 'K Series Dual jet',\n",
       "       '1.2 L K Series Engine', 'K10C', 'i-DTEC', 'G12B',\n",
       "       '1.5 Turbocharged Revotron'], dtype=object)"
      ]
     },
     "execution_count": 35,
     "metadata": {},
     "output_type": "execute_result"
    }
   ],
   "source": [
    "df1['engine_type'].unique()"
   ]
  },
  {
   "cell_type": "code",
   "execution_count": 36,
   "id": "1c73013a",
   "metadata": {},
   "outputs": [
    {
     "data": {
      "text/plain": [
       "<AxesSubplot:ylabel='engine_type'>"
      ]
     },
     "execution_count": 36,
     "metadata": {},
     "output_type": "execute_result"
    },
    {
     "data": {
      "image/png": "[encoded data removed]",
      "text/plain": [
       "<Figure size 432x288 with 1 Axes>"
      ]
     },
     "metadata": {
      "needs_background": "light"
     },
     "output_type": "display_data"
    }
   ],
   "source": [
    "df1['engine_type'].value_counts().sort_values().plot(kind='barh',xlabel='engine_type')"
   ]
  },
  {
   "cell_type": "markdown",
   "id": "38ee55db",
   "metadata": {},
   "source": [
    "### 3.14 airbags\n",
    "Number of airbags installed in the car\n"
   ]
  },
  {
   "cell_type": "code",
   "execution_count": 37,
   "id": "450f579c",
   "metadata": {},
   "outputs": [
    {
     "data": {
      "text/plain": [
       "array([2, 6, 1], dtype=int64)"
      ]
     },
     "execution_count": 37,
     "metadata": {},
     "output_type": "execute_result"
    }
   ],
   "source": [
    "df1['airbags'].unique()"
   ]
  },
  {
   "cell_type": "code",
   "execution_count": 38,
   "id": "3d83cf1b",
   "metadata": {},
   "outputs": [
    {
     "data": {
      "text/plain": [
       "<AxesSubplot:ylabel='no of airbags'>"
      ]
     },
     "execution_count": 38,
     "metadata": {},
     "output_type": "execute_result"
    },
    {
     "data": {
      "image/png": "[encoded data removed]",
      "text/plain": [
       "<Figure size 720x432 with 1 Axes>"
      ]
     },
     "metadata": {
      "needs_background": "light"
     },
     "output_type": "display_data"
    }
   ],
   "source": [
    "df1['airbags'].value_counts().sort_values().plot(kind='barh',xlabel='no of airbags',figsize=(10,6))"
   ]
  },
  {
   "cell_type": "code",
   "execution_count": 39,
   "id": "3301bcc1",
   "metadata": {},
   "outputs": [
    {
     "data": {
      "text/plain": [
       "2    40425\n",
       "6    16958\n",
       "1     1209\n",
       "Name: airbags, dtype: int64"
      ]
     },
     "execution_count": 39,
     "metadata": {},
     "output_type": "execute_result"
    }
   ],
   "source": [
    "df1['airbags'].value_counts()"
   ]
  },
  {
   "cell_type": "markdown",
   "id": "cae2973b",
   "metadata": {},
   "source": [
    "### 3.15 is_esc\n",
    "Boolean flag indicating whether Electronic Stability Control (ESC) is present in the car or not.\n"
   ]
  },
  {
   "cell_type": "code",
   "execution_count": 40,
   "id": "3169e3d0",
   "metadata": {},
   "outputs": [
    {
     "data": {
      "text/plain": [
       "array(['No', 'Yes'], dtype=object)"
      ]
     },
     "execution_count": 40,
     "metadata": {},
     "output_type": "execute_result"
    }
   ],
   "source": [
    "df1['is_esc'].unique()"
   ]
  },
  {
   "cell_type": "code",
   "execution_count": 41,
   "id": "0c054f67",
   "metadata": {},
   "outputs": [
    {
     "data": {
      "text/plain": [
       "<AxesSubplot:>"
      ]
     },
     "execution_count": 41,
     "metadata": {},
     "output_type": "execute_result"
    },
    {
     "data": {
      "image/png": "[encoded data removed]",
      "text/plain": [
       "<Figure size 432x288 with 1 Axes>"
      ]
     },
     "metadata": {
      "needs_background": "light"
     },
     "output_type": "display_data"
    }
   ],
   "source": [
    "df1['is_esc'].value_counts().plot(kind='bar')"
   ]
  },
  {
   "cell_type": "code",
   "execution_count": 42,
   "id": "6a279401",
   "metadata": {},
   "outputs": [
    {
     "data": {
      "text/plain": [
       "<AxesSubplot:xlabel='is_esc,is_claim'>"
      ]
     },
     "execution_count": 42,
     "metadata": {},
     "output_type": "execute_result"
    },
    {
     "data": {
      "image/png": "[encoded data removed]",
      "text/plain": [
       "<Figure size 432x288 with 1 Axes>"
      ]
     },
     "metadata": {
      "needs_background": "light"
     },
     "output_type": "display_data"
    }
   ],
   "source": [
    "df1.groupby(['is_esc','is_claim']).count()['policy_id'].plot(kind='bar')"
   ]
  },
  {
   "cell_type": "markdown",
   "id": "139be435",
   "metadata": {},
   "source": [
    "### 3.16 is_adjustable_steering\n",
    "Boolean flag indicating whether the steering wheel of the car is adjustable or not.\n"
   ]
  },
  {
   "cell_type": "code",
   "execution_count": 43,
   "id": "9736bbfb",
   "metadata": {},
   "outputs": [
    {
     "data": {
      "text/plain": [
       "array(['No', 'Yes'], dtype=object)"
      ]
     },
     "execution_count": 43,
     "metadata": {},
     "output_type": "execute_result"
    }
   ],
   "source": [
    "df1['is_adjustable_steering'].unique()"
   ]
  },
  {
   "cell_type": "code",
   "execution_count": 44,
   "id": "26488bad",
   "metadata": {},
   "outputs": [
    {
     "data": {
      "text/plain": [
       "<AxesSubplot:ylabel='is_adjustable_steering,is_claim'>"
      ]
     },
     "execution_count": 44,
     "metadata": {},
     "output_type": "execute_result"
    },
    {
     "data": {
      "image/png": "[encoded data removed]",
      "text/plain": [
       "<Figure size 432x288 with 1 Axes>"
      ]
     },
     "metadata": {
      "needs_background": "light"
     },
     "output_type": "display_data"
    }
   ],
   "source": [
    "df1.groupby(['is_adjustable_steering','is_claim']).count()['policy_id'].plot(kind='barh')"
   ]
  },
  {
   "cell_type": "markdown",
   "id": "9b9aea05",
   "metadata": {},
   "source": [
    "### 3.17 is_tpms\n",
    "Boolean flag indicating whether Tyre Pressure Monitoring System (TPMS) is present in the car or not."
   ]
  },
  {
   "cell_type": "code",
   "execution_count": 45,
   "id": "9b7f5dfc",
   "metadata": {},
   "outputs": [
    {
     "data": {
      "text/plain": [
       "array(['No', 'Yes'], dtype=object)"
      ]
     },
     "execution_count": 45,
     "metadata": {},
     "output_type": "execute_result"
    }
   ],
   "source": [
    "df1['is_tpms'].unique()"
   ]
  },
  {
   "cell_type": "code",
   "execution_count": 46,
   "id": "a2ff0b23",
   "metadata": {},
   "outputs": [
    {
     "data": {
      "text/plain": [
       "<AxesSubplot:ylabel='is_tpms,is_claim'>"
      ]
     },
     "execution_count": 46,
     "metadata": {},
     "output_type": "execute_result"
    },
    {
     "data": {
      "image/png": "[encoded data removed]",
      "text/plain": [
       "<Figure size 432x288 with 1 Axes>"
      ]
     },
     "metadata": {
      "needs_background": "light"
     },
     "output_type": "display_data"
    }
   ],
   "source": [
    "df1.groupby(['is_tpms','is_claim']).count()['policy_id'].plot(kind='barh')"
   ]
  },
  {
   "cell_type": "markdown",
   "id": "a47e5088",
   "metadata": {},
   "source": [
    "### 3.18 is_parking_sensors\n",
    "Boolean flag indicating whether parking sensors are present in the car or not.\n"
   ]
  },
  {
   "cell_type": "code",
   "execution_count": 47,
   "id": "52c5def0",
   "metadata": {},
   "outputs": [
    {
     "data": {
      "text/plain": [
       "<AxesSubplot:ylabel='is_parking_sensors,is_claim'>"
      ]
     },
     "execution_count": 47,
     "metadata": {},
     "output_type": "execute_result"
    },
    {
     "data": {
      "image/png": "[encoded data removed]",
      "text/plain": [
       "<Figure size 432x288 with 1 Axes>"
      ]
     },
     "metadata": {
      "needs_background": "light"
     },
     "output_type": "display_data"
    }
   ],
   "source": [
    "df1.groupby(['is_parking_sensors','is_claim']).count()['policy_id'].plot(kind='barh')"
   ]
  },
  {
   "cell_type": "markdown",
   "id": "f13b5e8b",
   "metadata": {},
   "source": [
    "### 3.19 is_parking_camera\n",
    "Boolean flag indicating whether the parking camera is present in the car or not.\n"
   ]
  },
  {
   "cell_type": "code",
   "execution_count": 48,
   "id": "bb2b45f8",
   "metadata": {},
   "outputs": [
    {
     "data": {
      "text/plain": [
       "array(['No', 'Yes'], dtype=object)"
      ]
     },
     "execution_count": 48,
     "metadata": {},
     "output_type": "execute_result"
    }
   ],
   "source": [
    "df1['is_parking_camera'].unique()"
   ]
  },
  {
   "cell_type": "code",
   "execution_count": 49,
   "id": "0bb13494",
   "metadata": {},
   "outputs": [
    {
     "data": {
      "text/plain": [
       "<AxesSubplot:ylabel='is_parking_camera,is_claim'>"
      ]
     },
     "execution_count": 49,
     "metadata": {},
     "output_type": "execute_result"
    },
    {
     "data": {
      "image/png": "[encoded data removed]",
      "text/plain": [
       "<Figure size 432x288 with 1 Axes>"
      ]
     },
     "metadata": {
      "needs_background": "light"
     },
     "output_type": "display_data"
    }
   ],
   "source": [
    "df1.groupby(['is_parking_camera','is_claim']).count()['policy_id'].plot(kind='barh')"
   ]
  },
  {
   "cell_type": "markdown",
   "id": "ccb5a9f2",
   "metadata": {},
   "source": [
    "### 3.20 rear_brakes_type\n",
    "Type of brakes used in the rear of the car\n"
   ]
  },
  {
   "cell_type": "code",
   "execution_count": 50,
   "id": "6730bb9b",
   "metadata": {},
   "outputs": [
    {
     "data": {
      "text/plain": [
       "array(['Drum', 'Disc'], dtype=object)"
      ]
     },
     "execution_count": 50,
     "metadata": {},
     "output_type": "execute_result"
    }
   ],
   "source": [
    "df1['rear_brakes_type'].unique()"
   ]
  },
  {
   "cell_type": "code",
   "execution_count": 51,
   "id": "75a972ab",
   "metadata": {},
   "outputs": [
    {
     "data": {
      "text/plain": [
       "<AxesSubplot:>"
      ]
     },
     "execution_count": 51,
     "metadata": {},
     "output_type": "execute_result"
    },
    {
     "data": {
      "image/png": "[encoded data removed]",
      "text/plain": [
       "<Figure size 432x288 with 1 Axes>"
      ]
     },
     "metadata": {
      "needs_background": "light"
     },
     "output_type": "display_data"
    }
   ],
   "source": [
    "df1['rear_brakes_type'].value_counts().plot(kind='bar')"
   ]
  },
  {
   "cell_type": "code",
   "execution_count": 52,
   "id": "9f82350f",
   "metadata": {},
   "outputs": [
    {
     "data": {
      "text/plain": [
       "<AxesSubplot:ylabel='rear_brakes_type,is_claim'>"
      ]
     },
     "execution_count": 52,
     "metadata": {},
     "output_type": "execute_result"
    },
    {
     "data": {
      "image/png": "[encoded data removed]",
      "text/plain": [
       "<Figure size 432x288 with 1 Axes>"
      ]
     },
     "metadata": {
      "needs_background": "light"
     },
     "output_type": "display_data"
    }
   ],
   "source": [
    "df1.groupby(['rear_brakes_type','is_claim']).count()['policy_id'].plot(kind='barh')"
   ]
  },
  {
   "cell_type": "markdown",
   "id": "143d62ed",
   "metadata": {},
   "source": [
    "### 3.21 displacement\n",
    "Engine displacement of the car (cc)"
   ]
  },
  {
   "cell_type": "code",
   "execution_count": 53,
   "id": "1faca62d",
   "metadata": {},
   "outputs": [
    {
     "data": {
      "text/plain": [
       "array([ 796, 1197,  999, 1493, 1497,  998, 1498, 1196, 1199], dtype=int64)"
      ]
     },
     "execution_count": 53,
     "metadata": {},
     "output_type": "execute_result"
    }
   ],
   "source": [
    "df1['displacement'].unique()"
   ]
  },
  {
   "cell_type": "code",
   "execution_count": 54,
   "id": "a200b147",
   "metadata": {},
   "outputs": [
    {
     "data": {
      "text/plain": [
       "<AxesSubplot:>"
      ]
     },
     "execution_count": 54,
     "metadata": {},
     "output_type": "execute_result"
    },
    {
     "data": {
      "image/png": "[encoded data removed]",
      "text/plain": [
       "<Figure size 432x288 with 1 Axes>"
      ]
     },
     "metadata": {
      "needs_background": "light"
     },
     "output_type": "display_data"
    }
   ],
   "source": [
    "df1['displacement'].value_counts().sort_values().plot(kind='barh')"
   ]
  },
  {
   "cell_type": "markdown",
   "id": "fb907973",
   "metadata": {},
   "source": [
    "### 3.22 cylinder\n",
    "Number of cylinders present in the engine of the car"
   ]
  },
  {
   "cell_type": "code",
   "execution_count": 55,
   "id": "7a530e5d",
   "metadata": {},
   "outputs": [
    {
     "data": {
      "text/plain": [
       "array([3, 4], dtype=int64)"
      ]
     },
     "execution_count": 55,
     "metadata": {},
     "output_type": "execute_result"
    }
   ],
   "source": [
    "df1['cylinder'].unique()"
   ]
  },
  {
   "cell_type": "code",
   "execution_count": 56,
   "id": "87d7b31a",
   "metadata": {},
   "outputs": [
    {
     "data": {
      "text/plain": [
       "<AxesSubplot:>"
      ]
     },
     "execution_count": 56,
     "metadata": {},
     "output_type": "execute_result"
    },
    {
     "data": {
      "image/png": "[encoded data removed]",
      "text/plain": [
       "<Figure size 432x288 with 1 Axes>"
      ]
     },
     "metadata": {
      "needs_background": "light"
     },
     "output_type": "display_data"
    }
   ],
   "source": [
    "df1['cylinder'].value_counts().plot(kind='bar')"
   ]
  },
  {
   "cell_type": "code",
   "execution_count": 57,
   "id": "ba443bf7",
   "metadata": {},
   "outputs": [
    {
     "data": {
      "text/plain": [
       "<AxesSubplot:ylabel='cylinder,is_claim'>"
      ]
     },
     "execution_count": 57,
     "metadata": {},
     "output_type": "execute_result"
    },
    {
     "data": {
      "image/png": "[encoded data removed]",
      "text/plain": [
       "<Figure size 432x288 with 1 Axes>"
      ]
     },
     "metadata": {
      "needs_background": "light"
     },
     "output_type": "display_data"
    }
   ],
   "source": [
    "df1.groupby(['cylinder','is_claim']).count()['policy_id'].plot(kind='barh')"
   ]
  },
  {
   "cell_type": "markdown",
   "id": "70825e56",
   "metadata": {},
   "source": [
    "### 3.23 transmission_type\n",
    "Transmission type of the car"
   ]
  },
  {
   "cell_type": "code",
   "execution_count": 58,
   "id": "513dd8cd",
   "metadata": {},
   "outputs": [
    {
     "data": {
      "text/plain": [
       "array(['Manual', 'Automatic'], dtype=object)"
      ]
     },
     "execution_count": 58,
     "metadata": {},
     "output_type": "execute_result"
    }
   ],
   "source": [
    "df1['transmission_type'].unique()"
   ]
  },
  {
   "cell_type": "code",
   "execution_count": 59,
   "id": "a9ef5a4f",
   "metadata": {},
   "outputs": [
    {
     "data": {
      "text/plain": [
       "<AxesSubplot:>"
      ]
     },
     "execution_count": 59,
     "metadata": {},
     "output_type": "execute_result"
    },
    {
     "data": {
      "image/png": "[encoded data removed]",
      "text/plain": [
       "<Figure size 432x288 with 1 Axes>"
      ]
     },
     "metadata": {
      "needs_background": "light"
     },
     "output_type": "display_data"
    }
   ],
   "source": [
    "df1['transmission_type'].value_counts().plot(kind = 'bar')"
   ]
  },
  {
   "cell_type": "code",
   "execution_count": 60,
   "id": "e23b4541",
   "metadata": {},
   "outputs": [
    {
     "data": {
      "text/plain": [
       "<AxesSubplot:ylabel='transmission_type,is_claim'>"
      ]
     },
     "execution_count": 60,
     "metadata": {},
     "output_type": "execute_result"
    },
    {
     "data": {
      "image/png": "[encoded data removed]",
      "text/plain": [
       "<Figure size 432x288 with 1 Axes>"
      ]
     },
     "metadata": {
      "needs_background": "light"
     },
     "output_type": "display_data"
    }
   ],
   "source": [
    "df1.groupby(['transmission_type','is_claim']).count()['policy_id'].plot(kind='barh')"
   ]
  },
  {
   "cell_type": "markdown",
   "id": "b8318219",
   "metadata": {},
   "source": [
    "### 3.24 gear_box\n",
    "Number of gears in the car"
   ]
  },
  {
   "cell_type": "code",
   "execution_count": 61,
   "id": "65fc0c69",
   "metadata": {},
   "outputs": [
    {
     "data": {
      "text/plain": [
       "array([5, 6], dtype=int64)"
      ]
     },
     "execution_count": 61,
     "metadata": {},
     "output_type": "execute_result"
    }
   ],
   "source": [
    "df1['gear_box'].unique()"
   ]
  },
  {
   "cell_type": "code",
   "execution_count": 62,
   "id": "58368915",
   "metadata": {},
   "outputs": [
    {
     "data": {
      "text/plain": [
       "<AxesSubplot:>"
      ]
     },
     "execution_count": 62,
     "metadata": {},
     "output_type": "execute_result"
    },
    {
     "data": {
      "image/png": "[encoded data removed]",
      "text/plain": [
       "<Figure size 432x288 with 1 Axes>"
      ]
     },
     "metadata": {
      "needs_background": "light"
     },
     "output_type": "display_data"
    }
   ],
   "source": [
    "df1['gear_box'].value_counts().plot(kind='bar')"
   ]
  },
  {
   "cell_type": "code",
   "execution_count": 63,
   "id": "59c2f0db",
   "metadata": {},
   "outputs": [],
   "source": [
    "# sns.barplot(x = 'gear_box',y = 'policy_id',data = df1,hue='is_claim')"
   ]
  },
  {
   "cell_type": "markdown",
   "id": "a1352706",
   "metadata": {},
   "source": [
    "### 3.25 steering_type\n",
    "Type of the power steering present in the car\n"
   ]
  },
  {
   "cell_type": "code",
   "execution_count": 64,
   "id": "ca94b6a1",
   "metadata": {},
   "outputs": [
    {
     "data": {
      "text/plain": [
       "array(['Power', 'Electric', 'Manual'], dtype=object)"
      ]
     },
     "execution_count": 64,
     "metadata": {},
     "output_type": "execute_result"
    }
   ],
   "source": [
    "df1['steering_type'].unique()"
   ]
  },
  {
   "cell_type": "code",
   "execution_count": 65,
   "id": "a33fffd0",
   "metadata": {},
   "outputs": [
    {
     "data": {
      "text/plain": [
       "<AxesSubplot:>"
      ]
     },
     "execution_count": 65,
     "metadata": {},
     "output_type": "execute_result"
    },
    {
     "data": {
      "image/png": "[encoded data removed]",
      "text/plain": [
       "<Figure size 432x288 with 1 Axes>"
      ]
     },
     "metadata": {
      "needs_background": "light"
     },
     "output_type": "display_data"
    }
   ],
   "source": [
    "df1['steering_type'].value_counts().plot(kind='bar')"
   ]
  },
  {
   "cell_type": "markdown",
   "id": "6ae44cf2",
   "metadata": {},
   "source": [
    "### 3.26 turning_radius\n",
    "The space a vehicle needs to make a certain turn (Meters)\n"
   ]
  },
  {
   "cell_type": "code",
   "execution_count": 66,
   "id": "a091f63b",
   "metadata": {},
   "outputs": [
    {
     "data": {
      "text/plain": [
       "array([4.6 , 4.8 , 5.  , 5.2 , 4.85, 4.7 , 4.9 , 4.5 , 5.1 ])"
      ]
     },
     "execution_count": 66,
     "metadata": {},
     "output_type": "execute_result"
    }
   ],
   "source": [
    "df1['turning_radius'].unique() # 9 turning_radius"
   ]
  },
  {
   "cell_type": "code",
   "execution_count": 67,
   "id": "6cb1f63d",
   "metadata": {},
   "outputs": [
    {
     "data": {
      "text/plain": [
       "<AxesSubplot:>"
      ]
     },
     "execution_count": 67,
     "metadata": {},
     "output_type": "execute_result"
    },
    {
     "data": {
      "image/png": "[encoded data removed]",
      "text/plain": [
       "<Figure size 432x288 with 1 Axes>"
      ]
     },
     "metadata": {
      "needs_background": "light"
     },
     "output_type": "display_data"
    }
   ],
   "source": [
    " df1['turning_radius'].value_counts().plot(kind='barh')"
   ]
  },
  {
   "cell_type": "markdown",
   "id": "558d5042",
   "metadata": {},
   "source": [
    "### 3.27 length\n",
    "Length of the car (Millimetre)"
   ]
  },
  {
   "cell_type": "code",
   "execution_count": 68,
   "id": "9eb6e87e",
   "metadata": {},
   "outputs": [
    {
     "data": {
      "text/plain": [
       "array([3445, 3995, 3731, 4300, 3990, 3845, 3655, 3675, 3993], dtype=int64)"
      ]
     },
     "execution_count": 68,
     "metadata": {},
     "output_type": "execute_result"
    }
   ],
   "source": [
    "df1['length'].unique()"
   ]
  },
  {
   "cell_type": "code",
   "execution_count": 69,
   "id": "9991def2",
   "metadata": {},
   "outputs": [
    {
     "data": {
      "text/plain": [
       "<AxesSubplot:>"
      ]
     },
     "execution_count": 69,
     "metadata": {},
     "output_type": "execute_result"
    },
    {
     "data": {
      "image/png": "[encoded data removed]",
      "text/plain": [
       "<Figure size 432x288 with 1 Axes>"
      ]
     },
     "metadata": {
      "needs_background": "light"
     },
     "output_type": "display_data"
    }
   ],
   "source": [
    "df1['length'].value_counts().plot(kind='bar')"
   ]
  },
  {
   "cell_type": "markdown",
   "id": "7940f433",
   "metadata": {},
   "source": [
    "### 3.28 width\n",
    "Width of the car (Millimetre)"
   ]
  },
  {
   "cell_type": "code",
   "execution_count": 70,
   "id": "a39f45e3",
   "metadata": {},
   "outputs": [
    {
     "data": {
      "text/plain": [
       "<AxesSubplot:>"
      ]
     },
     "execution_count": 70,
     "metadata": {},
     "output_type": "execute_result"
    },
    {
     "data": {
      "image/png": "[encoded data removed]",
      "text/plain": [
       "<Figure size 432x288 with 1 Axes>"
      ]
     },
     "metadata": {
      "needs_background": "light"
     },
     "output_type": "display_data"
    }
   ],
   "source": [
    "df1['width'].value_counts().plot(kind='bar')"
   ]
  },
  {
   "cell_type": "markdown",
   "id": "43519384",
   "metadata": {},
   "source": [
    "### 3.29 height\n",
    "Height of the car (Millimetre)"
   ]
  },
  {
   "cell_type": "code",
   "execution_count": 71,
   "id": "d0aadafd",
   "metadata": {},
   "outputs": [
    {
     "data": {
      "text/plain": [
       "<AxesSubplot:>"
      ]
     },
     "execution_count": 71,
     "metadata": {},
     "output_type": "execute_result"
    },
    {
     "data": {
      "image/png": "[encoded data removed]",
      "text/plain": [
       "<Figure size 432x288 with 1 Axes>"
      ]
     },
     "metadata": {
      "needs_background": "light"
     },
     "output_type": "display_data"
    }
   ],
   "source": [
    "df1['height'].value_counts().plot(kind='bar')"
   ]
  },
  {
   "cell_type": "markdown",
   "id": "d9b7f57c",
   "metadata": {},
   "source": [
    "### 3.30 gross_weight\n",
    "The maximum allowable weight of the fully-loaded car, including passengers, cargo and equipment (Kg)\n"
   ]
  },
  {
   "cell_type": "code",
   "execution_count": 72,
   "id": "8289324a",
   "metadata": {},
   "outputs": [
    {
     "data": {
      "text/plain": [
       "<AxesSubplot:>"
      ]
     },
     "execution_count": 72,
     "metadata": {},
     "output_type": "execute_result"
    },
    {
     "data": {
      "image/png": "[encoded data removed]",
      "text/plain": [
       "<Figure size 432x288 with 1 Axes>"
      ]
     },
     "metadata": {
      "needs_background": "light"
     },
     "output_type": "display_data"
    }
   ],
   "source": [
    "df1['gross_weight'].value_counts().plot(kind='barh')"
   ]
  },
  {
   "cell_type": "markdown",
   "id": "a9333ff5",
   "metadata": {},
   "source": [
    "### 3.31 is_front_fog_lights\n",
    "Boolean flag indicating whether front fog lights are available in the car or not."
   ]
  },
  {
   "cell_type": "code",
   "execution_count": 73,
   "id": "d86d192f",
   "metadata": {},
   "outputs": [
    {
     "data": {
      "text/plain": [
       "array(['No', 'Yes'], dtype=object)"
      ]
     },
     "execution_count": 73,
     "metadata": {},
     "output_type": "execute_result"
    }
   ],
   "source": [
    "df1['is_front_fog_lights'].unique()"
   ]
  },
  {
   "cell_type": "code",
   "execution_count": 74,
   "id": "3e9cd08d",
   "metadata": {},
   "outputs": [
    {
     "data": {
      "text/plain": [
       "<AxesSubplot:>"
      ]
     },
     "execution_count": 74,
     "metadata": {},
     "output_type": "execute_result"
    },
    {
     "data": {
      "image/png": "[encoded data removed]",
      "text/plain": [
       "<Figure size 432x288 with 1 Axes>"
      ]
     },
     "metadata": {
      "needs_background": "light"
     },
     "output_type": "display_data"
    }
   ],
   "source": [
    "df1['is_front_fog_lights'].value_counts().plot(kind='bar')"
   ]
  },
  {
   "cell_type": "code",
   "execution_count": 75,
   "id": "2325e236",
   "metadata": {},
   "outputs": [
    {
     "data": {
      "text/plain": [
       "<AxesSubplot:ylabel='is_front_fog_lights,is_claim'>"
      ]
     },
     "execution_count": 75,
     "metadata": {},
     "output_type": "execute_result"
    },
    {
     "data": {
      "image/png": "[encoded data removed]",
      "text/plain": [
       "<Figure size 432x288 with 1 Axes>"
      ]
     },
     "metadata": {
      "needs_background": "light"
     },
     "output_type": "display_data"
    }
   ],
   "source": [
    "df1.groupby(['is_front_fog_lights','is_claim']).count()['policy_id'].plot(kind='barh')"
   ]
  },
  {
   "cell_type": "markdown",
   "id": "35d19389",
   "metadata": {},
   "source": [
    "### 3.32 is_rear_window_wiper\n",
    "Boolean flag indicating whether the rear window wiper is available in the car or not.\n"
   ]
  },
  {
   "cell_type": "code",
   "execution_count": 76,
   "id": "40ea7c94",
   "metadata": {},
   "outputs": [
    {
     "data": {
      "text/plain": [
       "array(['No', 'Yes'], dtype=object)"
      ]
     },
     "execution_count": 76,
     "metadata": {},
     "output_type": "execute_result"
    }
   ],
   "source": [
    "df1['is_rear_window_wiper'].unique()"
   ]
  },
  {
   "cell_type": "code",
   "execution_count": 77,
   "id": "320f70b4",
   "metadata": {},
   "outputs": [
    {
     "data": {
      "text/plain": [
       "<AxesSubplot:ylabel='is_rear_window_wiper,is_claim'>"
      ]
     },
     "execution_count": 77,
     "metadata": {},
     "output_type": "execute_result"
    },
    {
     "data": {
      "image/png": "[encoded data removed]",
      "text/plain": [
       "<Figure size 432x288 with 1 Axes>"
      ]
     },
     "metadata": {
      "needs_background": "light"
     },
     "output_type": "display_data"
    }
   ],
   "source": [
    "df1.groupby(['is_rear_window_wiper','is_claim']).count()['policy_id'].plot(kind='barh')"
   ]
  },
  {
   "cell_type": "markdown",
   "id": "588437e6",
   "metadata": {},
   "source": [
    "### 3.33 is_rear_window_washer\n",
    "Boolean flag indicating whether the rear window washer is available in the car or not."
   ]
  },
  {
   "cell_type": "code",
   "execution_count": 78,
   "id": "dda85ec9",
   "metadata": {},
   "outputs": [
    {
     "data": {
      "text/plain": [
       "<AxesSubplot:ylabel='is_rear_window_washer,is_claim'>"
      ]
     },
     "execution_count": 78,
     "metadata": {},
     "output_type": "execute_result"
    },
    {
     "data": {
      "image/png": "[encoded data removed]",
      "text/plain": [
       "<Figure size 432x288 with 1 Axes>"
      ]
     },
     "metadata": {
      "needs_background": "light"
     },
     "output_type": "display_data"
    }
   ],
   "source": [
    "df1.groupby(['is_rear_window_washer','is_claim']).count()['policy_id'].plot(kind='barh')"
   ]
  },
  {
   "cell_type": "markdown",
   "id": "1bcc6d2a",
   "metadata": {},
   "source": [
    "### 3.34 is_rear_window_defogger\n",
    "\n",
    "Boolean flag indicating whether rear window defogger is available in the car or not.\n"
   ]
  },
  {
   "cell_type": "code",
   "execution_count": 79,
   "id": "ce37596d",
   "metadata": {},
   "outputs": [
    {
     "data": {
      "text/plain": [
       "<AxesSubplot:ylabel='is_rear_window_defogger,is_claim'>"
      ]
     },
     "execution_count": 79,
     "metadata": {},
     "output_type": "execute_result"
    },
    {
     "data": {
      "image/png": "[encoded data removed]",
      "text/plain": [
       "<Figure size 432x288 with 1 Axes>"
      ]
     },
     "metadata": {
      "needs_background": "light"
     },
     "output_type": "display_data"
    }
   ],
   "source": [
    "df1.groupby(['is_rear_window_defogger','is_claim']).count()['policy_id'].plot(kind='barh')"
   ]
  },
  {
   "cell_type": "markdown",
   "id": "fd534712",
   "metadata": {},
   "source": [
    "### 3.35 is_brake_assist\n",
    "\n",
    "Boolean flag indicating whether the brake assistance feature is available in the car or not.\n"
   ]
  },
  {
   "cell_type": "code",
   "execution_count": 80,
   "id": "0f1098f1",
   "metadata": {},
   "outputs": [
    {
     "data": {
      "text/plain": [
       "<AxesSubplot:ylabel='is_brake_assist,is_claim'>"
      ]
     },
     "execution_count": 80,
     "metadata": {},
     "output_type": "execute_result"
    },
    {
     "data": {
      "image/png": "[encoded data removed]",
      "text/plain": [
       "<Figure size 432x288 with 1 Axes>"
      ]
     },
     "metadata": {
      "needs_background": "light"
     },
     "output_type": "display_data"
    }
   ],
   "source": [
    "df1.groupby(['is_brake_assist','is_claim']).count()['policy_id'].plot(kind='barh')"
   ]
  },
  {
   "cell_type": "markdown",
   "id": "5a6e17a2",
   "metadata": {},
   "source": [
    "### 3.36 is_power_door_locks\n",
    "\n",
    "Boolean flag indicating whether a power door lock is available in the car or not.\n"
   ]
  },
  {
   "cell_type": "code",
   "execution_count": 81,
   "id": "7547a08f",
   "metadata": {},
   "outputs": [
    {
     "data": {
      "text/plain": [
       "<AxesSubplot:ylabel='is_power_door_locks,is_claim'>"
      ]
     },
     "execution_count": 81,
     "metadata": {},
     "output_type": "execute_result"
    },
    {
     "data": {
      "image/png": "[encoded data removed]",
      "text/plain": [
       "<Figure size 432x288 with 1 Axes>"
      ]
     },
     "metadata": {
      "needs_background": "light"
     },
     "output_type": "display_data"
    }
   ],
   "source": [
    "df1.groupby(['is_power_door_locks','is_claim']).count()['policy_id'].plot(kind='barh')"
   ]
  },
  {
   "cell_type": "markdown",
   "id": "e0b2f65f",
   "metadata": {},
   "source": [
    "### 3.37 is_central_locking\n",
    "\n",
    "Boolean flag indicating whether the central locking feature is available in the car or not.\n"
   ]
  },
  {
   "cell_type": "code",
   "execution_count": 82,
   "id": "41113f84",
   "metadata": {},
   "outputs": [
    {
     "data": {
      "text/plain": [
       "<AxesSubplot:ylabel='is_central_locking,is_claim'>"
      ]
     },
     "execution_count": 82,
     "metadata": {},
     "output_type": "execute_result"
    },
    {
     "data": {
      "image/png": "[encoded data removed]",
      "text/plain": [
       "<Figure size 432x288 with 1 Axes>"
      ]
     },
     "metadata": {
      "needs_background": "light"
     },
     "output_type": "display_data"
    }
   ],
   "source": [
    "df1.groupby(['is_central_locking','is_claim']).count()['policy_id'].plot(kind='barh')"
   ]
  },
  {
   "cell_type": "markdown",
   "id": "cda8f1f0",
   "metadata": {},
   "source": [
    "### 3.38 is_power_steering\n",
    "\n",
    "Boolean flag indicating whether power steering is available in the car or not."
   ]
  },
  {
   "cell_type": "code",
   "execution_count": 83,
   "id": "fb293d75",
   "metadata": {},
   "outputs": [
    {
     "data": {
      "text/plain": [
       "<AxesSubplot:ylabel='is_power_steering,is_claim'>"
      ]
     },
     "execution_count": 83,
     "metadata": {},
     "output_type": "execute_result"
    },
    {
     "data": {
      "image/png": "[encoded data removed]",
      "text/plain": [
       "<Figure size 432x288 with 1 Axes>"
      ]
     },
     "metadata": {
      "needs_background": "light"
     },
     "output_type": "display_data"
    }
   ],
   "source": [
    "df1.groupby(['is_power_steering','is_claim']).count()['policy_id'].plot(kind='barh')"
   ]
  },
  {
   "cell_type": "markdown",
   "id": "874903db",
   "metadata": {},
   "source": [
    "### 3.39 is_driver_seat_height_adjustable\n",
    "\n",
    "Boolean flag indicating whether the height of the driver seat is adjustable or not.\n"
   ]
  },
  {
   "cell_type": "code",
   "execution_count": 84,
   "id": "6cabc6e6",
   "metadata": {},
   "outputs": [
    {
     "data": {
      "text/plain": [
       "<AxesSubplot:ylabel='is_driver_seat_height_adjustable,is_claim'>"
      ]
     },
     "execution_count": 84,
     "metadata": {},
     "output_type": "execute_result"
    },
    {
     "data": {
      "image/png": "[encoded data removed]",
      "text/plain": [
       "<Figure size 432x288 with 1 Axes>"
      ]
     },
     "metadata": {
      "needs_background": "light"
     },
     "output_type": "display_data"
    }
   ],
   "source": [
    "df1.groupby(['is_driver_seat_height_adjustable','is_claim']).count()['policy_id'].plot(kind='barh')"
   ]
  },
  {
   "cell_type": "markdown",
   "id": "74a5af5d",
   "metadata": {},
   "source": [
    "### 3.40 is_day_night_rear_view_mirror\n",
    "\n",
    "Boolean flag indicating whether day & night rearview mirror is present in the car or not.\n"
   ]
  },
  {
   "cell_type": "code",
   "execution_count": 85,
   "id": "79b7db28",
   "metadata": {},
   "outputs": [
    {
     "data": {
      "text/plain": [
       "<AxesSubplot:ylabel='is_day_night_rear_view_mirror,is_claim'>"
      ]
     },
     "execution_count": 85,
     "metadata": {},
     "output_type": "execute_result"
    },
    {
     "data": {
      "image/png": "[encoded data removed]",
      "text/plain": [
       "<Figure size 432x288 with 1 Axes>"
      ]
     },
     "metadata": {
      "needs_background": "light"
     },
     "output_type": "display_data"
    }
   ],
   "source": [
    "df1.groupby(['is_day_night_rear_view_mirror','is_claim']).count()['policy_id'].plot(kind='barh')"
   ]
  },
  {
   "cell_type": "markdown",
   "id": "bcf41829",
   "metadata": {},
   "source": [
    "### 3.41 is_ecw\n",
    "Boolean flag indicating whether Engine Check Warning (ECW) is available in the car or not.\n"
   ]
  },
  {
   "cell_type": "code",
   "execution_count": 86,
   "id": "1eb92f2c",
   "metadata": {},
   "outputs": [
    {
     "data": {
      "text/plain": [
       "<AxesSubplot:ylabel='is_ecw,is_claim'>"
      ]
     },
     "execution_count": 86,
     "metadata": {},
     "output_type": "execute_result"
    },
    {
     "data": {
      "image/png": "[encoded data removed]",
      "text/plain": [
       "<Figure size 432x288 with 1 Axes>"
      ]
     },
     "metadata": {
      "needs_background": "light"
     },
     "output_type": "display_data"
    }
   ],
   "source": [
    "df1.groupby(['is_ecw','is_claim']).count()['policy_id'].plot(kind='barh')"
   ]
  },
  {
   "cell_type": "markdown",
   "id": "def96649",
   "metadata": {},
   "source": [
    "### 3.42 is_speed_alert\n",
    "Boolean flag indicating whether the speed alert system is available in the car or not.\n"
   ]
  },
  {
   "cell_type": "code",
   "execution_count": 87,
   "id": "634f1bfb",
   "metadata": {},
   "outputs": [
    {
     "data": {
      "text/plain": [
       "<AxesSubplot:ylabel='is_speed_alert,is_claim'>"
      ]
     },
     "execution_count": 87,
     "metadata": {},
     "output_type": "execute_result"
    },
    {
     "data": {
      "image/png": "[encoded data removed]",
      "text/plain": [
       "<Figure size 432x288 with 1 Axes>"
      ]
     },
     "metadata": {
      "needs_background": "light"
     },
     "output_type": "display_data"
    }
   ],
   "source": [
    "df1.groupby(['is_speed_alert','is_claim']).count()['policy_id'].plot(kind='barh')"
   ]
  },
  {
   "cell_type": "markdown",
   "id": "afdae015",
   "metadata": {},
   "source": [
    "### 3.43 ncap_rating\n",
    "\n",
    "Safety rating given by NCAP (out of 5)\n"
   ]
  },
  {
   "cell_type": "code",
   "execution_count": 88,
   "id": "d95b2338",
   "metadata": {},
   "outputs": [
    {
     "data": {
      "text/plain": [
       "array([0, 2, 3, 5, 4], dtype=int64)"
      ]
     },
     "execution_count": 88,
     "metadata": {},
     "output_type": "execute_result"
    }
   ],
   "source": [
    "df1['ncap_rating'].unique()"
   ]
  },
  {
   "cell_type": "code",
   "execution_count": 89,
   "id": "e9b3a3a9",
   "metadata": {},
   "outputs": [
    {
     "data": {
      "text/plain": [
       "5     1961\n",
       "4     2114\n",
       "3    14018\n",
       "0    19097\n",
       "2    21402\n",
       "Name: ncap_rating, dtype: int64"
      ]
     },
     "execution_count": 89,
     "metadata": {},
     "output_type": "execute_result"
    }
   ],
   "source": [
    "df1['ncap_rating'].value_counts().sort_values()"
   ]
  },
  {
   "cell_type": "code",
   "execution_count": 90,
   "id": "455911b5",
   "metadata": {},
   "outputs": [
    {
     "data": {
      "text/plain": [
       "<AxesSubplot:ylabel='ncap_rating,is_claim'>"
      ]
     },
     "execution_count": 90,
     "metadata": {},
     "output_type": "execute_result"
    },
    {
     "data": {
      "image/png": "[encoded data removed]",
      "text/plain": [
       "<Figure size 432x288 with 1 Axes>"
      ]
     },
     "metadata": {
      "needs_background": "light"
     },
     "output_type": "display_data"
    }
   ],
   "source": [
    "df1.groupby(['ncap_rating','is_claim']).count()['policy_id'].plot(kind='barh')"
   ]
  },
  {
   "cell_type": "markdown",
   "id": "207bdcb1",
   "metadata": {},
   "source": [
    "### 3.44 is_claim\n",
    "\n",
    "Outcome: Boolean flag indicating whether the policyholder file a claim in the next 6 months or not."
   ]
  },
  {
   "cell_type": "code",
   "execution_count": 91,
   "id": "60e8cde8",
   "metadata": {},
   "outputs": [
    {
     "data": {
      "text/plain": [
       "0    54844\n",
       "1     3748\n",
       "Name: is_claim, dtype: int64"
      ]
     },
     "execution_count": 91,
     "metadata": {},
     "output_type": "execute_result"
    }
   ],
   "source": [
    "df1['is_claim'].value_counts() # balancing  is required"
   ]
  },
  {
   "cell_type": "markdown",
   "id": "bb80d01f",
   "metadata": {},
   "source": [
    "# 4. Feature Engineering"
   ]
  },
  {
   "cell_type": "code",
   "execution_count": 9,
   "id": "99c57b0e",
   "metadata": {},
   "outputs": [],
   "source": [
    "df1 = data_train.copy()"
   ]
  },
  {
   "cell_type": "code",
   "execution_count": 10,
   "id": "791e500a",
   "metadata": {},
   "outputs": [
    {
     "data": {
      "text/html": [
       "<div>\n",
       "<style scoped>\n",
       "    .dataframe tbody tr th:only-of-type {\n",
       "        vertical-align: middle;\n",
       "    }\n",
       "\n",
       "    .dataframe tbody tr th {\n",
       "        vertical-align: top;\n",
       "    }\n",
       "\n",
       "    .dataframe thead th {\n",
       "        text-align: right;\n",
       "    }\n",
       "</style>\n",
       "<table border=\"1\" class=\"dataframe\">\n",
       "  <thead>\n",
       "    <tr style=\"text-align: right;\">\n",
       "      <th></th>\n",
       "      <th>policy_tenure</th>\n",
       "      <th>age_of_car</th>\n",
       "      <th>age_of_policyholder</th>\n",
       "      <th>area_cluster</th>\n",
       "      <th>population_density</th>\n",
       "      <th>make</th>\n",
       "      <th>segment</th>\n",
       "      <th>model</th>\n",
       "      <th>fuel_type</th>\n",
       "      <th>max_torque</th>\n",
       "      <th>max_power</th>\n",
       "      <th>engine_type</th>\n",
       "      <th>airbags</th>\n",
       "      <th>is_esc</th>\n",
       "      <th>is_adjustable_steering</th>\n",
       "      <th>is_tpms</th>\n",
       "      <th>is_parking_sensors</th>\n",
       "      <th>is_parking_camera</th>\n",
       "      <th>rear_brakes_type</th>\n",
       "      <th>displacement</th>\n",
       "      <th>cylinder</th>\n",
       "      <th>transmission_type</th>\n",
       "      <th>gear_box</th>\n",
       "      <th>steering_type</th>\n",
       "      <th>turning_radius</th>\n",
       "      <th>length</th>\n",
       "      <th>width</th>\n",
       "      <th>height</th>\n",
       "      <th>gross_weight</th>\n",
       "      <th>is_front_fog_lights</th>\n",
       "      <th>is_rear_window_wiper</th>\n",
       "      <th>is_rear_window_washer</th>\n",
       "      <th>is_rear_window_defogger</th>\n",
       "      <th>is_brake_assist</th>\n",
       "      <th>is_power_door_locks</th>\n",
       "      <th>is_central_locking</th>\n",
       "      <th>is_power_steering</th>\n",
       "      <th>is_driver_seat_height_adjustable</th>\n",
       "      <th>is_day_night_rear_view_mirror</th>\n",
       "      <th>is_ecw</th>\n",
       "      <th>is_speed_alert</th>\n",
       "      <th>ncap_rating</th>\n",
       "      <th>is_claim</th>\n",
       "    </tr>\n",
       "  </thead>\n",
       "  <tbody>\n",
       "    <tr>\n",
       "      <th>0</th>\n",
       "      <td>0.515874</td>\n",
       "      <td>0.05</td>\n",
       "      <td>0.644231</td>\n",
       "      <td>C1</td>\n",
       "      <td>4990</td>\n",
       "      <td>1</td>\n",
       "      <td>A</td>\n",
       "      <td>M1</td>\n",
       "      <td>CNG</td>\n",
       "      <td>60Nm@3500rpm</td>\n",
       "      <td>40.36bhp@6000rpm</td>\n",
       "      <td>F8D Petrol Engine</td>\n",
       "      <td>2</td>\n",
       "      <td>No</td>\n",
       "      <td>No</td>\n",
       "      <td>No</td>\n",
       "      <td>Yes</td>\n",
       "      <td>No</td>\n",
       "      <td>Drum</td>\n",
       "      <td>796</td>\n",
       "      <td>3</td>\n",
       "      <td>Manual</td>\n",
       "      <td>5</td>\n",
       "      <td>Power</td>\n",
       "      <td>4.6</td>\n",
       "      <td>3445</td>\n",
       "      <td>1515</td>\n",
       "      <td>1475</td>\n",
       "      <td>1185</td>\n",
       "      <td>No</td>\n",
       "      <td>No</td>\n",
       "      <td>No</td>\n",
       "      <td>No</td>\n",
       "      <td>No</td>\n",
       "      <td>No</td>\n",
       "      <td>No</td>\n",
       "      <td>Yes</td>\n",
       "      <td>No</td>\n",
       "      <td>No</td>\n",
       "      <td>No</td>\n",
       "      <td>Yes</td>\n",
       "      <td>0</td>\n",
       "      <td>0</td>\n",
       "    </tr>\n",
       "    <tr>\n",
       "      <th>1</th>\n",
       "      <td>0.672619</td>\n",
       "      <td>0.02</td>\n",
       "      <td>0.375000</td>\n",
       "      <td>C2</td>\n",
       "      <td>27003</td>\n",
       "      <td>1</td>\n",
       "      <td>A</td>\n",
       "      <td>M1</td>\n",
       "      <td>CNG</td>\n",
       "      <td>60Nm@3500rpm</td>\n",
       "      <td>40.36bhp@6000rpm</td>\n",
       "      <td>F8D Petrol Engine</td>\n",
       "      <td>2</td>\n",
       "      <td>No</td>\n",
       "      <td>No</td>\n",
       "      <td>No</td>\n",
       "      <td>Yes</td>\n",
       "      <td>No</td>\n",
       "      <td>Drum</td>\n",
       "      <td>796</td>\n",
       "      <td>3</td>\n",
       "      <td>Manual</td>\n",
       "      <td>5</td>\n",
       "      <td>Power</td>\n",
       "      <td>4.6</td>\n",
       "      <td>3445</td>\n",
       "      <td>1515</td>\n",
       "      <td>1475</td>\n",
       "      <td>1185</td>\n",
       "      <td>No</td>\n",
       "      <td>No</td>\n",
       "      <td>No</td>\n",
       "      <td>No</td>\n",
       "      <td>No</td>\n",
       "      <td>No</td>\n",
       "      <td>No</td>\n",
       "      <td>Yes</td>\n",
       "      <td>No</td>\n",
       "      <td>No</td>\n",
       "      <td>No</td>\n",
       "      <td>Yes</td>\n",
       "      <td>0</td>\n",
       "      <td>0</td>\n",
       "    </tr>\n",
       "    <tr>\n",
       "      <th>2</th>\n",
       "      <td>0.841110</td>\n",
       "      <td>0.02</td>\n",
       "      <td>0.384615</td>\n",
       "      <td>C3</td>\n",
       "      <td>4076</td>\n",
       "      <td>1</td>\n",
       "      <td>A</td>\n",
       "      <td>M1</td>\n",
       "      <td>CNG</td>\n",
       "      <td>60Nm@3500rpm</td>\n",
       "      <td>40.36bhp@6000rpm</td>\n",
       "      <td>F8D Petrol Engine</td>\n",
       "      <td>2</td>\n",
       "      <td>No</td>\n",
       "      <td>No</td>\n",
       "      <td>No</td>\n",
       "      <td>Yes</td>\n",
       "      <td>No</td>\n",
       "      <td>Drum</td>\n",
       "      <td>796</td>\n",
       "      <td>3</td>\n",
       "      <td>Manual</td>\n",
       "      <td>5</td>\n",
       "      <td>Power</td>\n",
       "      <td>4.6</td>\n",
       "      <td>3445</td>\n",
       "      <td>1515</td>\n",
       "      <td>1475</td>\n",
       "      <td>1185</td>\n",
       "      <td>No</td>\n",
       "      <td>No</td>\n",
       "      <td>No</td>\n",
       "      <td>No</td>\n",
       "      <td>No</td>\n",
       "      <td>No</td>\n",
       "      <td>No</td>\n",
       "      <td>Yes</td>\n",
       "      <td>No</td>\n",
       "      <td>No</td>\n",
       "      <td>No</td>\n",
       "      <td>Yes</td>\n",
       "      <td>0</td>\n",
       "      <td>0</td>\n",
       "    </tr>\n",
       "    <tr>\n",
       "      <th>3</th>\n",
       "      <td>0.900277</td>\n",
       "      <td>0.11</td>\n",
       "      <td>0.432692</td>\n",
       "      <td>C4</td>\n",
       "      <td>21622</td>\n",
       "      <td>1</td>\n",
       "      <td>C1</td>\n",
       "      <td>M2</td>\n",
       "      <td>Petrol</td>\n",
       "      <td>113Nm@4400rpm</td>\n",
       "      <td>88.50bhp@6000rpm</td>\n",
       "      <td>1.2 L K12N Dualjet</td>\n",
       "      <td>2</td>\n",
       "      <td>Yes</td>\n",
       "      <td>Yes</td>\n",
       "      <td>No</td>\n",
       "      <td>Yes</td>\n",
       "      <td>Yes</td>\n",
       "      <td>Drum</td>\n",
       "      <td>1197</td>\n",
       "      <td>4</td>\n",
       "      <td>Automatic</td>\n",
       "      <td>5</td>\n",
       "      <td>Electric</td>\n",
       "      <td>4.8</td>\n",
       "      <td>3995</td>\n",
       "      <td>1735</td>\n",
       "      <td>1515</td>\n",
       "      <td>1335</td>\n",
       "      <td>Yes</td>\n",
       "      <td>No</td>\n",
       "      <td>No</td>\n",
       "      <td>Yes</td>\n",
       "      <td>Yes</td>\n",
       "      <td>Yes</td>\n",
       "      <td>Yes</td>\n",
       "      <td>Yes</td>\n",
       "      <td>Yes</td>\n",
       "      <td>Yes</td>\n",
       "      <td>Yes</td>\n",
       "      <td>Yes</td>\n",
       "      <td>2</td>\n",
       "      <td>0</td>\n",
       "    </tr>\n",
       "    <tr>\n",
       "      <th>4</th>\n",
       "      <td>0.596403</td>\n",
       "      <td>0.11</td>\n",
       "      <td>0.634615</td>\n",
       "      <td>C5</td>\n",
       "      <td>34738</td>\n",
       "      <td>2</td>\n",
       "      <td>A</td>\n",
       "      <td>M3</td>\n",
       "      <td>Petrol</td>\n",
       "      <td>91Nm@4250rpm</td>\n",
       "      <td>67.06bhp@5500rpm</td>\n",
       "      <td>1.0 SCe</td>\n",
       "      <td>2</td>\n",
       "      <td>No</td>\n",
       "      <td>No</td>\n",
       "      <td>No</td>\n",
       "      <td>No</td>\n",
       "      <td>Yes</td>\n",
       "      <td>Drum</td>\n",
       "      <td>999</td>\n",
       "      <td>3</td>\n",
       "      <td>Automatic</td>\n",
       "      <td>5</td>\n",
       "      <td>Electric</td>\n",
       "      <td>5.0</td>\n",
       "      <td>3731</td>\n",
       "      <td>1579</td>\n",
       "      <td>1490</td>\n",
       "      <td>1155</td>\n",
       "      <td>No</td>\n",
       "      <td>No</td>\n",
       "      <td>No</td>\n",
       "      <td>No</td>\n",
       "      <td>No</td>\n",
       "      <td>Yes</td>\n",
       "      <td>Yes</td>\n",
       "      <td>Yes</td>\n",
       "      <td>No</td>\n",
       "      <td>Yes</td>\n",
       "      <td>Yes</td>\n",
       "      <td>Yes</td>\n",
       "      <td>2</td>\n",
       "      <td>0</td>\n",
       "    </tr>\n",
       "  </tbody>\n",
       "</table>\n",
       "</div>"
      ],
      "text/plain": [
       "   policy_tenure  age_of_car  age_of_policyholder area_cluster  \\\n",
       "0       0.515874        0.05             0.644231           C1   \n",
       "1       0.672619        0.02             0.375000           C2   \n",
       "2       0.841110        0.02             0.384615           C3   \n",
       "3       0.900277        0.11             0.432692           C4   \n",
       "4       0.596403        0.11             0.634615           C5   \n",
       "\n",
       "   population_density  make segment model fuel_type     max_torque  \\\n",
       "0                4990     1       A    M1       CNG   60Nm@3500rpm   \n",
       "1               27003     1       A    M1       CNG   60Nm@3500rpm   \n",
       "2                4076     1       A    M1       CNG   60Nm@3500rpm   \n",
       "3               21622     1      C1    M2    Petrol  113Nm@4400rpm   \n",
       "4               34738     2       A    M3    Petrol   91Nm@4250rpm   \n",
       "\n",
       "          max_power         engine_type  airbags is_esc  \\\n",
       "0  40.36bhp@6000rpm   F8D Petrol Engine        2     No   \n",
       "1  40.36bhp@6000rpm   F8D Petrol Engine        2     No   \n",
       "2  40.36bhp@6000rpm   F8D Petrol Engine        2     No   \n",
       "3  88.50bhp@6000rpm  1.2 L K12N Dualjet        2    Yes   \n",
       "4  67.06bhp@5500rpm             1.0 SCe        2     No   \n",
       "\n",
       "  is_adjustable_steering is_tpms is_parking_sensors is_parking_camera  \\\n",
       "0                     No      No                Yes                No   \n",
       "1                     No      No                Yes                No   \n",
       "2                     No      No                Yes                No   \n",
       "3                    Yes      No                Yes               Yes   \n",
       "4                     No      No                 No               Yes   \n",
       "\n",
       "  rear_brakes_type  displacement  cylinder transmission_type  gear_box  \\\n",
       "0             Drum           796         3            Manual         5   \n",
       "1             Drum           796         3            Manual         5   \n",
       "2             Drum           796         3            Manual         5   \n",
       "3             Drum          1197         4         Automatic         5   \n",
       "4             Drum           999         3         Automatic         5   \n",
       "\n",
       "  steering_type  turning_radius  length  width  height  gross_weight  \\\n",
       "0         Power             4.6    3445   1515    1475          1185   \n",
       "1         Power             4.6    3445   1515    1475          1185   \n",
       "2         Power             4.6    3445   1515    1475          1185   \n",
       "3      Electric             4.8    3995   1735    1515          1335   \n",
       "4      Electric             5.0    3731   1579    1490          1155   \n",
       "\n",
       "  is_front_fog_lights is_rear_window_wiper is_rear_window_washer  \\\n",
       "0                  No                   No                    No   \n",
       "1                  No                   No                    No   \n",
       "2                  No                   No                    No   \n",
       "3                 Yes                   No                    No   \n",
       "4                  No                   No                    No   \n",
       "\n",
       "  is_rear_window_defogger is_brake_assist is_power_door_locks  \\\n",
       "0                      No              No                  No   \n",
       "1                      No              No                  No   \n",
       "2                      No              No                  No   \n",
       "3                     Yes             Yes                 Yes   \n",
       "4                      No              No                 Yes   \n",
       "\n",
       "  is_central_locking is_power_steering is_driver_seat_height_adjustable  \\\n",
       "0                 No               Yes                               No   \n",
       "1                 No               Yes                               No   \n",
       "2                 No               Yes                               No   \n",
       "3                Yes               Yes                              Yes   \n",
       "4                Yes               Yes                               No   \n",
       "\n",
       "  is_day_night_rear_view_mirror is_ecw is_speed_alert  ncap_rating  is_claim  \n",
       "0                            No     No            Yes            0         0  \n",
       "1                            No     No            Yes            0         0  \n",
       "2                            No     No            Yes            0         0  \n",
       "3                           Yes    Yes            Yes            2         0  \n",
       "4                           Yes    Yes            Yes            2         0  "
      ]
     },
     "execution_count": 10,
     "metadata": {},
     "output_type": "execute_result"
    }
   ],
   "source": [
    "df1.drop('policy_id',axis=1,inplace=True)\n",
    "df1.head()"
   ]
  },
  {
   "cell_type": "code",
   "execution_count": 11,
   "id": "1c786fdf",
   "metadata": {},
   "outputs": [
    {
     "data": {
      "text/plain": [
       "Index(['policy_tenure', 'age_of_car', 'age_of_policyholder',\n",
       "       'population_density', 'make', 'airbags', 'displacement', 'cylinder',\n",
       "       'gear_box', 'turning_radius', 'length', 'width', 'height',\n",
       "       'gross_weight', 'ncap_rating', 'is_claim'],\n",
       "      dtype='object')"
      ]
     },
     "execution_count": 11,
     "metadata": {},
     "output_type": "execute_result"
    }
   ],
   "source": [
    "# Numerical Columns\n",
    "numerical_col = df1.select_dtypes([float,int]).columns\n",
    "numerical_col"
   ]
  },
  {
   "cell_type": "code",
   "execution_count": 12,
   "id": "5994a3c4",
   "metadata": {},
   "outputs": [
    {
     "name": "stdout",
     "output_type": "stream",
     "text": [
      "Index(['area_cluster', 'segment', 'model', 'fuel_type', 'max_torque',\n",
      "       'max_power', 'engine_type', 'is_esc', 'is_adjustable_steering',\n",
      "       'is_tpms', 'is_parking_sensors', 'is_parking_camera',\n",
      "       'rear_brakes_type', 'transmission_type', 'steering_type',\n",
      "       'is_front_fog_lights', 'is_rear_window_wiper', 'is_rear_window_washer',\n",
      "       'is_rear_window_defogger', 'is_brake_assist', 'is_power_door_locks',\n",
      "       'is_central_locking', 'is_power_steering',\n",
      "       'is_driver_seat_height_adjustable', 'is_day_night_rear_view_mirror',\n",
      "       'is_ecw', 'is_speed_alert'],\n",
      "      dtype='object')\n"
     ]
    }
   ],
   "source": [
    "# Categorical Columns\n",
    "categorical_col = df1.select_dtypes(object).columns\n",
    "print(categorical_col)"
   ]
  },
  {
   "cell_type": "code",
   "execution_count": 13,
   "id": "c91dc472",
   "metadata": {},
   "outputs": [],
   "source": [
    "# Segreating Categorical Columns\n",
    "dummies_col = ['segment', 'model', 'fuel_type','engine_type','rear_brakes_type']\n",
    "ordinal_col = ['transmission_type','steering_type']"
   ]
  },
  {
   "cell_type": "code",
   "execution_count": 14,
   "id": "ef0d94db",
   "metadata": {},
   "outputs": [],
   "source": [
    "# One Hot Encoding\n",
    "df1 = pd.get_dummies(df1,columns=dummies_col)"
   ]
  },
  {
   "cell_type": "code",
   "execution_count": 15,
   "id": "9dc65e88",
   "metadata": {},
   "outputs": [],
   "source": [
    "# Ordinal Encoding\n",
    "df1['transmission_type'] = df1['transmission_type'].replace({'Manual':0, 'Automatic':1})\n",
    "df1['steering_type'] = df1['steering_type'].replace({'Manual':0,'Power':1, 'Electric':2})"
   ]
  },
  {
   "cell_type": "code",
   "execution_count": 16,
   "id": "dad000ac",
   "metadata": {},
   "outputs": [],
   "source": [
    "# replacing {'Yes','No'}\n",
    "df1.replace({'Yes':1,'No':0},inplace=True)"
   ]
  },
  {
   "cell_type": "code",
   "execution_count": 17,
   "id": "8cf28fec",
   "metadata": {},
   "outputs": [],
   "source": [
    "# Encoding cluster feature\n",
    "df1['area_cluster'] = df1['area_cluster'].apply(lambda x : int(x.replace('C','')))"
   ]
  },
  {
   "cell_type": "code",
   "execution_count": 18,
   "id": "308d8442",
   "metadata": {},
   "outputs": [],
   "source": [
    "# Encoding max_torque feature\n",
    "def max_torque(data):\n",
    "    L   = data.split('@')\n",
    "    nm  = float(L[0].replace('Nm',''))\n",
    "    rpm = float(L[1].replace('rpm',''))\n",
    "    return rpm / nm\n",
    "df1['rpm_per_torque'] = df1['max_torque'].apply(max_torque)"
   ]
  },
  {
   "cell_type": "code",
   "execution_count": 19,
   "id": "7bff70ed",
   "metadata": {},
   "outputs": [],
   "source": [
    "# Encoding max_power feature\n",
    "def max_power(data):\n",
    "    L   = data.split('@')\n",
    "    bhp = float(L[0].replace('bhp',''))\n",
    "    rpm = float(L[1].replace('rpm',''))\n",
    "    return rpm / bhp\n",
    "df1['rpm_per_power'] = df1['max_power'].apply(max_power)"
   ]
  },
  {
   "cell_type": "code",
   "execution_count": 20,
   "id": "11048f46",
   "metadata": {},
   "outputs": [],
   "source": [
    "df1.drop(['max_torque','max_power'],axis=1,inplace=True)"
   ]
  },
  {
   "cell_type": "code",
   "execution_count": 21,
   "id": "28cd764a",
   "metadata": {},
   "outputs": [
    {
     "data": {
      "text/plain": [
       "0    54844\n",
       "1     3748\n",
       "Name: is_claim, dtype: int64"
      ]
     },
     "execution_count": 21,
     "metadata": {},
     "output_type": "execute_result"
    }
   ],
   "source": [
    "df1['is_claim'].value_counts()"
   ]
  },
  {
   "cell_type": "code",
   "execution_count": 22,
   "id": "1189a55d",
   "metadata": {},
   "outputs": [
    {
     "data": {
      "text/plain": [
       "<AxesSubplot:ylabel='is_claim'>"
      ]
     },
     "execution_count": 22,
     "metadata": {},
     "output_type": "execute_result"
    },
    {
     "data": {
      "image/png": "[encoded data removed]",
      "text/plain": [
       "<Figure size 360x360 with 1 Axes>"
      ]
     },
     "metadata": {},
     "output_type": "display_data"
    }
   ],
   "source": [
    "df1['is_claim'].value_counts().plot(kind='pie',figsize=(5,5))"
   ]
  },
  {
   "cell_type": "code",
   "execution_count": 23,
   "id": "907fbf4d",
   "metadata": {},
   "outputs": [
    {
     "data": {
      "text/html": [
       "<div>\n",
       "<style scoped>\n",
       "    .dataframe tbody tr th:only-of-type {\n",
       "        vertical-align: middle;\n",
       "    }\n",
       "\n",
       "    .dataframe tbody tr th {\n",
       "        vertical-align: top;\n",
       "    }\n",
       "\n",
       "    .dataframe thead th {\n",
       "        text-align: right;\n",
       "    }\n",
       "</style>\n",
       "<table border=\"1\" class=\"dataframe\">\n",
       "  <thead>\n",
       "    <tr style=\"text-align: right;\">\n",
       "      <th></th>\n",
       "      <th>policy_tenure</th>\n",
       "      <th>age_of_car</th>\n",
       "      <th>age_of_policyholder</th>\n",
       "      <th>area_cluster</th>\n",
       "      <th>population_density</th>\n",
       "      <th>make</th>\n",
       "      <th>airbags</th>\n",
       "      <th>is_esc</th>\n",
       "      <th>is_adjustable_steering</th>\n",
       "      <th>is_tpms</th>\n",
       "      <th>is_parking_sensors</th>\n",
       "      <th>is_parking_camera</th>\n",
       "      <th>displacement</th>\n",
       "      <th>cylinder</th>\n",
       "      <th>transmission_type</th>\n",
       "      <th>gear_box</th>\n",
       "      <th>steering_type</th>\n",
       "      <th>turning_radius</th>\n",
       "      <th>length</th>\n",
       "      <th>width</th>\n",
       "      <th>height</th>\n",
       "      <th>gross_weight</th>\n",
       "      <th>is_front_fog_lights</th>\n",
       "      <th>is_rear_window_wiper</th>\n",
       "      <th>is_rear_window_washer</th>\n",
       "      <th>is_rear_window_defogger</th>\n",
       "      <th>is_brake_assist</th>\n",
       "      <th>is_power_door_locks</th>\n",
       "      <th>is_central_locking</th>\n",
       "      <th>is_power_steering</th>\n",
       "      <th>is_driver_seat_height_adjustable</th>\n",
       "      <th>is_day_night_rear_view_mirror</th>\n",
       "      <th>is_ecw</th>\n",
       "      <th>is_speed_alert</th>\n",
       "      <th>ncap_rating</th>\n",
       "      <th>is_claim</th>\n",
       "      <th>segment_A</th>\n",
       "      <th>segment_B1</th>\n",
       "      <th>segment_B2</th>\n",
       "      <th>segment_C1</th>\n",
       "      <th>segment_C2</th>\n",
       "      <th>segment_Utility</th>\n",
       "      <th>model_M1</th>\n",
       "      <th>model_M10</th>\n",
       "      <th>model_M11</th>\n",
       "      <th>model_M2</th>\n",
       "      <th>model_M3</th>\n",
       "      <th>model_M4</th>\n",
       "      <th>model_M5</th>\n",
       "      <th>model_M6</th>\n",
       "      <th>model_M7</th>\n",
       "      <th>model_M8</th>\n",
       "      <th>model_M9</th>\n",
       "      <th>fuel_type_CNG</th>\n",
       "      <th>fuel_type_Diesel</th>\n",
       "      <th>fuel_type_Petrol</th>\n",
       "      <th>engine_type_1.0 SCe</th>\n",
       "      <th>engine_type_1.2 L K Series Engine</th>\n",
       "      <th>engine_type_1.2 L K12N Dualjet</th>\n",
       "      <th>engine_type_1.5 L U2 CRDi</th>\n",
       "      <th>engine_type_1.5 Turbocharged Revotorq</th>\n",
       "      <th>engine_type_1.5 Turbocharged Revotron</th>\n",
       "      <th>engine_type_F8D Petrol Engine</th>\n",
       "      <th>engine_type_G12B</th>\n",
       "      <th>engine_type_K Series Dual jet</th>\n",
       "      <th>engine_type_K10C</th>\n",
       "      <th>engine_type_i-DTEC</th>\n",
       "      <th>rear_brakes_type_Disc</th>\n",
       "      <th>rear_brakes_type_Drum</th>\n",
       "      <th>rpm_per_torque</th>\n",
       "      <th>rpm_per_power</th>\n",
       "    </tr>\n",
       "  </thead>\n",
       "  <tbody>\n",
       "    <tr>\n",
       "      <th>0</th>\n",
       "      <td>0.515874</td>\n",
       "      <td>0.05</td>\n",
       "      <td>0.644231</td>\n",
       "      <td>1</td>\n",
       "      <td>4990</td>\n",
       "      <td>1</td>\n",
       "      <td>2</td>\n",
       "      <td>0</td>\n",
       "      <td>0</td>\n",
       "      <td>0</td>\n",
       "      <td>1</td>\n",
       "      <td>0</td>\n",
       "      <td>796</td>\n",
       "      <td>3</td>\n",
       "      <td>0</td>\n",
       "      <td>5</td>\n",
       "      <td>1</td>\n",
       "      <td>4.6</td>\n",
       "      <td>3445</td>\n",
       "      <td>1515</td>\n",
       "      <td>1475</td>\n",
       "      <td>1185</td>\n",
       "      <td>0</td>\n",
       "      <td>0</td>\n",
       "      <td>0</td>\n",
       "      <td>0</td>\n",
       "      <td>0</td>\n",
       "      <td>0</td>\n",
       "      <td>0</td>\n",
       "      <td>1</td>\n",
       "      <td>0</td>\n",
       "      <td>0</td>\n",
       "      <td>0</td>\n",
       "      <td>1</td>\n",
       "      <td>0</td>\n",
       "      <td>0</td>\n",
       "      <td>1</td>\n",
       "      <td>0</td>\n",
       "      <td>0</td>\n",
       "      <td>0</td>\n",
       "      <td>0</td>\n",
       "      <td>0</td>\n",
       "      <td>1</td>\n",
       "      <td>0</td>\n",
       "      <td>0</td>\n",
       "      <td>0</td>\n",
       "      <td>0</td>\n",
       "      <td>0</td>\n",
       "      <td>0</td>\n",
       "      <td>0</td>\n",
       "      <td>0</td>\n",
       "      <td>0</td>\n",
       "      <td>0</td>\n",
       "      <td>1</td>\n",
       "      <td>0</td>\n",
       "      <td>0</td>\n",
       "      <td>0</td>\n",
       "      <td>0</td>\n",
       "      <td>0</td>\n",
       "      <td>0</td>\n",
       "      <td>0</td>\n",
       "      <td>0</td>\n",
       "      <td>1</td>\n",
       "      <td>0</td>\n",
       "      <td>0</td>\n",
       "      <td>0</td>\n",
       "      <td>0</td>\n",
       "      <td>0</td>\n",
       "      <td>1</td>\n",
       "      <td>58.333333</td>\n",
       "      <td>148.662042</td>\n",
       "    </tr>\n",
       "    <tr>\n",
       "      <th>1</th>\n",
       "      <td>0.672619</td>\n",
       "      <td>0.02</td>\n",
       "      <td>0.375000</td>\n",
       "      <td>2</td>\n",
       "      <td>27003</td>\n",
       "      <td>1</td>\n",
       "      <td>2</td>\n",
       "      <td>0</td>\n",
       "      <td>0</td>\n",
       "      <td>0</td>\n",
       "      <td>1</td>\n",
       "      <td>0</td>\n",
       "      <td>796</td>\n",
       "      <td>3</td>\n",
       "      <td>0</td>\n",
       "      <td>5</td>\n",
       "      <td>1</td>\n",
       "      <td>4.6</td>\n",
       "      <td>3445</td>\n",
       "      <td>1515</td>\n",
       "      <td>1475</td>\n",
       "      <td>1185</td>\n",
       "      <td>0</td>\n",
       "      <td>0</td>\n",
       "      <td>0</td>\n",
       "      <td>0</td>\n",
       "      <td>0</td>\n",
       "      <td>0</td>\n",
       "      <td>0</td>\n",
       "      <td>1</td>\n",
       "      <td>0</td>\n",
       "      <td>0</td>\n",
       "      <td>0</td>\n",
       "      <td>1</td>\n",
       "      <td>0</td>\n",
       "      <td>0</td>\n",
       "      <td>1</td>\n",
       "      <td>0</td>\n",
       "      <td>0</td>\n",
       "      <td>0</td>\n",
       "      <td>0</td>\n",
       "      <td>0</td>\n",
       "      <td>1</td>\n",
       "      <td>0</td>\n",
       "      <td>0</td>\n",
       "      <td>0</td>\n",
       "      <td>0</td>\n",
       "      <td>0</td>\n",
       "      <td>0</td>\n",
       "      <td>0</td>\n",
       "      <td>0</td>\n",
       "      <td>0</td>\n",
       "      <td>0</td>\n",
       "      <td>1</td>\n",
       "      <td>0</td>\n",
       "      <td>0</td>\n",
       "      <td>0</td>\n",
       "      <td>0</td>\n",
       "      <td>0</td>\n",
       "      <td>0</td>\n",
       "      <td>0</td>\n",
       "      <td>0</td>\n",
       "      <td>1</td>\n",
       "      <td>0</td>\n",
       "      <td>0</td>\n",
       "      <td>0</td>\n",
       "      <td>0</td>\n",
       "      <td>0</td>\n",
       "      <td>1</td>\n",
       "      <td>58.333333</td>\n",
       "      <td>148.662042</td>\n",
       "    </tr>\n",
       "    <tr>\n",
       "      <th>2</th>\n",
       "      <td>0.841110</td>\n",
       "      <td>0.02</td>\n",
       "      <td>0.384615</td>\n",
       "      <td>3</td>\n",
       "      <td>4076</td>\n",
       "      <td>1</td>\n",
       "      <td>2</td>\n",
       "      <td>0</td>\n",
       "      <td>0</td>\n",
       "      <td>0</td>\n",
       "      <td>1</td>\n",
       "      <td>0</td>\n",
       "      <td>796</td>\n",
       "      <td>3</td>\n",
       "      <td>0</td>\n",
       "      <td>5</td>\n",
       "      <td>1</td>\n",
       "      <td>4.6</td>\n",
       "      <td>3445</td>\n",
       "      <td>1515</td>\n",
       "      <td>1475</td>\n",
       "      <td>1185</td>\n",
       "      <td>0</td>\n",
       "      <td>0</td>\n",
       "      <td>0</td>\n",
       "      <td>0</td>\n",
       "      <td>0</td>\n",
       "      <td>0</td>\n",
       "      <td>0</td>\n",
       "      <td>1</td>\n",
       "      <td>0</td>\n",
       "      <td>0</td>\n",
       "      <td>0</td>\n",
       "      <td>1</td>\n",
       "      <td>0</td>\n",
       "      <td>0</td>\n",
       "      <td>1</td>\n",
       "      <td>0</td>\n",
       "      <td>0</td>\n",
       "      <td>0</td>\n",
       "      <td>0</td>\n",
       "      <td>0</td>\n",
       "      <td>1</td>\n",
       "      <td>0</td>\n",
       "      <td>0</td>\n",
       "      <td>0</td>\n",
       "      <td>0</td>\n",
       "      <td>0</td>\n",
       "      <td>0</td>\n",
       "      <td>0</td>\n",
       "      <td>0</td>\n",
       "      <td>0</td>\n",
       "      <td>0</td>\n",
       "      <td>1</td>\n",
       "      <td>0</td>\n",
       "      <td>0</td>\n",
       "      <td>0</td>\n",
       "      <td>0</td>\n",
       "      <td>0</td>\n",
       "      <td>0</td>\n",
       "      <td>0</td>\n",
       "      <td>0</td>\n",
       "      <td>1</td>\n",
       "      <td>0</td>\n",
       "      <td>0</td>\n",
       "      <td>0</td>\n",
       "      <td>0</td>\n",
       "      <td>0</td>\n",
       "      <td>1</td>\n",
       "      <td>58.333333</td>\n",
       "      <td>148.662042</td>\n",
       "    </tr>\n",
       "    <tr>\n",
       "      <th>3</th>\n",
       "      <td>0.900277</td>\n",
       "      <td>0.11</td>\n",
       "      <td>0.432692</td>\n",
       "      <td>4</td>\n",
       "      <td>21622</td>\n",
       "      <td>1</td>\n",
       "      <td>2</td>\n",
       "      <td>1</td>\n",
       "      <td>1</td>\n",
       "      <td>0</td>\n",
       "      <td>1</td>\n",
       "      <td>1</td>\n",
       "      <td>1197</td>\n",
       "      <td>4</td>\n",
       "      <td>1</td>\n",
       "      <td>5</td>\n",
       "      <td>2</td>\n",
       "      <td>4.8</td>\n",
       "      <td>3995</td>\n",
       "      <td>1735</td>\n",
       "      <td>1515</td>\n",
       "      <td>1335</td>\n",
       "      <td>1</td>\n",
       "      <td>0</td>\n",
       "      <td>0</td>\n",
       "      <td>1</td>\n",
       "      <td>1</td>\n",
       "      <td>1</td>\n",
       "      <td>1</td>\n",
       "      <td>1</td>\n",
       "      <td>1</td>\n",
       "      <td>1</td>\n",
       "      <td>1</td>\n",
       "      <td>1</td>\n",
       "      <td>2</td>\n",
       "      <td>0</td>\n",
       "      <td>0</td>\n",
       "      <td>0</td>\n",
       "      <td>0</td>\n",
       "      <td>1</td>\n",
       "      <td>0</td>\n",
       "      <td>0</td>\n",
       "      <td>0</td>\n",
       "      <td>0</td>\n",
       "      <td>0</td>\n",
       "      <td>1</td>\n",
       "      <td>0</td>\n",
       "      <td>0</td>\n",
       "      <td>0</td>\n",
       "      <td>0</td>\n",
       "      <td>0</td>\n",
       "      <td>0</td>\n",
       "      <td>0</td>\n",
       "      <td>0</td>\n",
       "      <td>0</td>\n",
       "      <td>1</td>\n",
       "      <td>0</td>\n",
       "      <td>0</td>\n",
       "      <td>1</td>\n",
       "      <td>0</td>\n",
       "      <td>0</td>\n",
       "      <td>0</td>\n",
       "      <td>0</td>\n",
       "      <td>0</td>\n",
       "      <td>0</td>\n",
       "      <td>0</td>\n",
       "      <td>0</td>\n",
       "      <td>0</td>\n",
       "      <td>1</td>\n",
       "      <td>38.938053</td>\n",
       "      <td>67.796610</td>\n",
       "    </tr>\n",
       "    <tr>\n",
       "      <th>4</th>\n",
       "      <td>0.596403</td>\n",
       "      <td>0.11</td>\n",
       "      <td>0.634615</td>\n",
       "      <td>5</td>\n",
       "      <td>34738</td>\n",
       "      <td>2</td>\n",
       "      <td>2</td>\n",
       "      <td>0</td>\n",
       "      <td>0</td>\n",
       "      <td>0</td>\n",
       "      <td>0</td>\n",
       "      <td>1</td>\n",
       "      <td>999</td>\n",
       "      <td>3</td>\n",
       "      <td>1</td>\n",
       "      <td>5</td>\n",
       "      <td>2</td>\n",
       "      <td>5.0</td>\n",
       "      <td>3731</td>\n",
       "      <td>1579</td>\n",
       "      <td>1490</td>\n",
       "      <td>1155</td>\n",
       "      <td>0</td>\n",
       "      <td>0</td>\n",
       "      <td>0</td>\n",
       "      <td>0</td>\n",
       "      <td>0</td>\n",
       "      <td>1</td>\n",
       "      <td>1</td>\n",
       "      <td>1</td>\n",
       "      <td>0</td>\n",
       "      <td>1</td>\n",
       "      <td>1</td>\n",
       "      <td>1</td>\n",
       "      <td>2</td>\n",
       "      <td>0</td>\n",
       "      <td>1</td>\n",
       "      <td>0</td>\n",
       "      <td>0</td>\n",
       "      <td>0</td>\n",
       "      <td>0</td>\n",
       "      <td>0</td>\n",
       "      <td>0</td>\n",
       "      <td>0</td>\n",
       "      <td>0</td>\n",
       "      <td>0</td>\n",
       "      <td>1</td>\n",
       "      <td>0</td>\n",
       "      <td>0</td>\n",
       "      <td>0</td>\n",
       "      <td>0</td>\n",
       "      <td>0</td>\n",
       "      <td>0</td>\n",
       "      <td>0</td>\n",
       "      <td>0</td>\n",
       "      <td>1</td>\n",
       "      <td>1</td>\n",
       "      <td>0</td>\n",
       "      <td>0</td>\n",
       "      <td>0</td>\n",
       "      <td>0</td>\n",
       "      <td>0</td>\n",
       "      <td>0</td>\n",
       "      <td>0</td>\n",
       "      <td>0</td>\n",
       "      <td>0</td>\n",
       "      <td>0</td>\n",
       "      <td>0</td>\n",
       "      <td>1</td>\n",
       "      <td>46.703297</td>\n",
       "      <td>82.016105</td>\n",
       "    </tr>\n",
       "  </tbody>\n",
       "</table>\n",
       "</div>"
      ],
      "text/plain": [
       "   policy_tenure  age_of_car  age_of_policyholder  area_cluster  \\\n",
       "0       0.515874        0.05             0.644231             1   \n",
       "1       0.672619        0.02             0.375000             2   \n",
       "2       0.841110        0.02             0.384615             3   \n",
       "3       0.900277        0.11             0.432692             4   \n",
       "4       0.596403        0.11             0.634615             5   \n",
       "\n",
       "   population_density  make  airbags  is_esc  is_adjustable_steering  is_tpms  \\\n",
       "0                4990     1        2       0                       0        0   \n",
       "1               27003     1        2       0                       0        0   \n",
       "2                4076     1        2       0                       0        0   \n",
       "3               21622     1        2       1                       1        0   \n",
       "4               34738     2        2       0                       0        0   \n",
       "\n",
       "   is_parking_sensors  is_parking_camera  displacement  cylinder  \\\n",
       "0                   1                  0           796         3   \n",
       "1                   1                  0           796         3   \n",
       "2                   1                  0           796         3   \n",
       "3                   1                  1          1197         4   \n",
       "4                   0                  1           999         3   \n",
       "\n",
       "   transmission_type  gear_box  steering_type  turning_radius  length  width  \\\n",
       "0                  0         5              1             4.6    3445   1515   \n",
       "1                  0         5              1             4.6    3445   1515   \n",
       "2                  0         5              1             4.6    3445   1515   \n",
       "3                  1         5              2             4.8    3995   1735   \n",
       "4                  1         5              2             5.0    3731   1579   \n",
       "\n",
       "   height  gross_weight  is_front_fog_lights  is_rear_window_wiper  \\\n",
       "0    1475          1185                    0                     0   \n",
       "1    1475          1185                    0                     0   \n",
       "2    1475          1185                    0                     0   \n",
       "3    1515          1335                    1                     0   \n",
       "4    1490          1155                    0                     0   \n",
       "\n",
       "   is_rear_window_washer  is_rear_window_defogger  is_brake_assist  \\\n",
       "0                      0                        0                0   \n",
       "1                      0                        0                0   \n",
       "2                      0                        0                0   \n",
       "3                      0                        1                1   \n",
       "4                      0                        0                0   \n",
       "\n",
       "   is_power_door_locks  is_central_locking  is_power_steering  \\\n",
       "0                    0                   0                  1   \n",
       "1                    0                   0                  1   \n",
       "2                    0                   0                  1   \n",
       "3                    1                   1                  1   \n",
       "4                    1                   1                  1   \n",
       "\n",
       "   is_driver_seat_height_adjustable  is_day_night_rear_view_mirror  is_ecw  \\\n",
       "0                                 0                              0       0   \n",
       "1                                 0                              0       0   \n",
       "2                                 0                              0       0   \n",
       "3                                 1                              1       1   \n",
       "4                                 0                              1       1   \n",
       "\n",
       "   is_speed_alert  ncap_rating  is_claim  segment_A  segment_B1  segment_B2  \\\n",
       "0               1            0         0          1           0           0   \n",
       "1               1            0         0          1           0           0   \n",
       "2               1            0         0          1           0           0   \n",
       "3               1            2         0          0           0           0   \n",
       "4               1            2         0          1           0           0   \n",
       "\n",
       "   segment_C1  segment_C2  segment_Utility  model_M1  model_M10  model_M11  \\\n",
       "0           0           0                0         1          0          0   \n",
       "1           0           0                0         1          0          0   \n",
       "2           0           0                0         1          0          0   \n",
       "3           1           0                0         0          0          0   \n",
       "4           0           0                0         0          0          0   \n",
       "\n",
       "   model_M2  model_M3  model_M4  model_M5  model_M6  model_M7  model_M8  \\\n",
       "0         0         0         0         0         0         0         0   \n",
       "1         0         0         0         0         0         0         0   \n",
       "2         0         0         0         0         0         0         0   \n",
       "3         1         0         0         0         0         0         0   \n",
       "4         0         1         0         0         0         0         0   \n",
       "\n",
       "   model_M9  fuel_type_CNG  fuel_type_Diesel  fuel_type_Petrol  \\\n",
       "0         0              1                 0                 0   \n",
       "1         0              1                 0                 0   \n",
       "2         0              1                 0                 0   \n",
       "3         0              0                 0                 1   \n",
       "4         0              0                 0                 1   \n",
       "\n",
       "   engine_type_1.0 SCe  engine_type_1.2 L K Series Engine  \\\n",
       "0                    0                                  0   \n",
       "1                    0                                  0   \n",
       "2                    0                                  0   \n",
       "3                    0                                  0   \n",
       "4                    1                                  0   \n",
       "\n",
       "   engine_type_1.2 L K12N Dualjet  engine_type_1.5 L U2 CRDi  \\\n",
       "0                               0                          0   \n",
       "1                               0                          0   \n",
       "2                               0                          0   \n",
       "3                               1                          0   \n",
       "4                               0                          0   \n",
       "\n",
       "   engine_type_1.5 Turbocharged Revotorq  \\\n",
       "0                                      0   \n",
       "1                                      0   \n",
       "2                                      0   \n",
       "3                                      0   \n",
       "4                                      0   \n",
       "\n",
       "   engine_type_1.5 Turbocharged Revotron  engine_type_F8D Petrol Engine  \\\n",
       "0                                      0                              1   \n",
       "1                                      0                              1   \n",
       "2                                      0                              1   \n",
       "3                                      0                              0   \n",
       "4                                      0                              0   \n",
       "\n",
       "   engine_type_G12B  engine_type_K Series Dual jet  engine_type_K10C  \\\n",
       "0                 0                              0                 0   \n",
       "1                 0                              0                 0   \n",
       "2                 0                              0                 0   \n",
       "3                 0                              0                 0   \n",
       "4                 0                              0                 0   \n",
       "\n",
       "   engine_type_i-DTEC  rear_brakes_type_Disc  rear_brakes_type_Drum  \\\n",
       "0                   0                      0                      1   \n",
       "1                   0                      0                      1   \n",
       "2                   0                      0                      1   \n",
       "3                   0                      0                      1   \n",
       "4                   0                      0                      1   \n",
       "\n",
       "   rpm_per_torque  rpm_per_power  \n",
       "0       58.333333     148.662042  \n",
       "1       58.333333     148.662042  \n",
       "2       58.333333     148.662042  \n",
       "3       38.938053      67.796610  \n",
       "4       46.703297      82.016105  "
      ]
     },
     "execution_count": 23,
     "metadata": {},
     "output_type": "execute_result"
    }
   ],
   "source": [
    "df1.head()"
   ]
  },
  {
   "cell_type": "markdown",
   "id": "561befad",
   "metadata": {},
   "source": [
    "# 5. Model Training"
   ]
  },
  {
   "cell_type": "code",
   "execution_count": 24,
   "id": "7a986210",
   "metadata": {},
   "outputs": [],
   "source": [
    "def get_evaluation(y_true,y_pred):\n",
    "    con_mat = confusion_matrix(y_true,y_pred)   \n",
    "    report  = classification_report(y_true,y_pred)\n",
    "    print(con_mat)\n",
    "    print(report)"
   ]
  },
  {
   "cell_type": "markdown",
   "id": "9edd7609",
   "metadata": {},
   "source": [
    "### 5.1 Logistic Regression"
   ]
  },
  {
   "cell_type": "code",
   "execution_count": 25,
   "id": "e7c6129f",
   "metadata": {},
   "outputs": [],
   "source": [
    "df_lgr = df1.copy()\n",
    "x = df_lgr.drop('is_claim',axis = 1)\n",
    "y = df_lgr['is_claim']\n",
    "x_train,x_test,y_train,y_test = train_test_split(x,y,test_size=0.25,random_state=45,stratify=y)"
   ]
  },
  {
   "cell_type": "code",
   "execution_count": 26,
   "id": "825ee17c",
   "metadata": {},
   "outputs": [
    {
     "data": {
      "text/html": [
       "<style>#sk-container-id-1 {color: black;background-color: white;}#sk-container-id-1 pre{padding: 0;}#sk-container-id-1 div.sk-toggleable {background-color: white;}#sk-container-id-1 label.sk-toggleable__label {cursor: pointer;display: block;width: 100%;margin-bottom: 0;padding: 0.3em;box-sizing: border-box;text-align: center;}#sk-container-id-1 label.sk-toggleable__label-arrow:before {content: \"▸\";float: left;margin-right: 0.25em;color: #696969;}#sk-container-id-1 label.sk-toggleable__label-arrow:hover:before {color: black;}#sk-container-id-1 div.sk-estimator:hover label.sk-toggleable__label-arrow:before {color: black;}#sk-container-id-1 div.sk-toggleable__content {max-height: 0;max-width: 0;overflow: hidden;text-align: left;background-color: #f0f8ff;}#sk-container-id-1 div.sk-toggleable__content pre {margin: 0.2em;color: black;border-radius: 0.25em;background-color: #f0f8ff;}#sk-container-id-1 input.sk-toggleable__control:checked~div.sk-toggleable__content {max-height: 200px;max-width: 100%;overflow: auto;}#sk-container-id-1 input.sk-toggleable__control:checked~label.sk-toggleable__label-arrow:before {content: \"▾\";}#sk-container-id-1 div.sk-estimator input.sk-toggleable__control:checked~label.sk-toggleable__label {background-color: #d4ebff;}#sk-container-id-1 div.sk-label input.sk-toggleable__control:checked~label.sk-toggleable__label {background-color: #d4ebff;}#sk-container-id-1 input.sk-hidden--visually {border: 0;clip: rect(1px 1px 1px 1px);clip: rect(1px, 1px, 1px, 1px);height: 1px;margin: -1px;overflow: hidden;padding: 0;position: absolute;width: 1px;}#sk-container-id-1 div.sk-estimator {font-family: monospace;background-color: #f0f8ff;border: 1px dotted black;border-radius: 0.25em;box-sizing: border-box;margin-bottom: 0.5em;}#sk-container-id-1 div.sk-estimator:hover {background-color: #d4ebff;}#sk-container-id-1 div.sk-parallel-item::after {content: \"\";width: 100%;border-bottom: 1px solid gray;flex-grow: 1;}#sk-container-id-1 div.sk-label:hover label.sk-toggleable__label {background-color: #d4ebff;}#sk-container-id-1 div.sk-serial::before {content: \"\";position: absolute;border-left: 1px solid gray;box-sizing: border-box;top: 0;bottom: 0;left: 50%;z-index: 0;}#sk-container-id-1 div.sk-serial {display: flex;flex-direction: column;align-items: center;background-color: white;padding-right: 0.2em;padding-left: 0.2em;position: relative;}#sk-container-id-1 div.sk-item {position: relative;z-index: 1;}#sk-container-id-1 div.sk-parallel {display: flex;align-items: stretch;justify-content: center;background-color: white;position: relative;}#sk-container-id-1 div.sk-item::before, #sk-container-id-1 div.sk-parallel-item::before {content: \"\";position: absolute;border-left: 1px solid gray;box-sizing: border-box;top: 0;bottom: 0;left: 50%;z-index: -1;}#sk-container-id-1 div.sk-parallel-item {display: flex;flex-direction: column;z-index: 1;position: relative;background-color: white;}#sk-container-id-1 div.sk-parallel-item:first-child::after {align-self: flex-end;width: 50%;}#sk-container-id-1 div.sk-parallel-item:last-child::after {align-self: flex-start;width: 50%;}#sk-container-id-1 div.sk-parallel-item:only-child::after {width: 0;}#sk-container-id-1 div.sk-dashed-wrapped {border: 1px dashed gray;margin: 0 0.4em 0.5em 0.4em;box-sizing: border-box;padding-bottom: 0.4em;background-color: white;}#sk-container-id-1 div.sk-label label {font-family: monospace;font-weight: bold;display: inline-block;line-height: 1.2em;}#sk-container-id-1 div.sk-label-container {text-align: center;}#sk-container-id-1 div.sk-container {/* jupyter's `normalize.less` sets `[hidden] { display: none; }` but bootstrap.min.css set `[hidden] { display: none !important; }` so we also need the `!important` here to be able to override the default hidden behavior on the sphinx rendered scikit-learn.org. See: https://github.com/scikit-learn/scikit-learn/issues/21755 */display: inline-block !important;position: relative;}#sk-container-id-1 div.sk-text-repr-fallback {display: none;}</style><div id=\"sk-container-id-1\" class=\"sk-top-container\"><div class=\"sk-text-repr-fallback\"><pre>LogisticRegression()</pre><b>In a Jupyter environment, please rerun this cell to show the HTML representation or trust the notebook. <br />On GitHub, the HTML representation is unable to render, please try loading this page with nbviewer.org.</b></div><div class=\"sk-container\" hidden><div class=\"sk-item\"><div class=\"sk-estimator sk-toggleable\"><input class=\"sk-toggleable__control sk-hidden--visually\" id=\"sk-estimator-id-1\" type=\"checkbox\" checked><label for=\"sk-estimator-id-1\" class=\"sk-toggleable__label sk-toggleable__label-arrow\">LogisticRegression</label><div class=\"sk-toggleable__content\"><pre>LogisticRegression()</pre></div></div></div></div></div>"
      ],
      "text/plain": [
       "LogisticRegression()"
      ]
     },
     "execution_count": 26,
     "metadata": {},
     "output_type": "execute_result"
    }
   ],
   "source": [
    "classifier_LR = LogisticRegression()\n",
    "classifier_LR.fit(x_train,y_train)"
   ]
  },
  {
   "cell_type": "code",
   "execution_count": 27,
   "id": "4618d2b5",
   "metadata": {},
   "outputs": [
    {
     "name": "stdout",
     "output_type": "stream",
     "text": [
      "[[41133     0]\n",
      " [ 2811     0]]\n",
      "              precision    recall  f1-score   support\n",
      "\n",
      "           0       0.94      1.00      0.97     41133\n",
      "           1       0.00      0.00      0.00      2811\n",
      "\n",
      "    accuracy                           0.94     43944\n",
      "   macro avg       0.47      0.50      0.48     43944\n",
      "weighted avg       0.88      0.94      0.91     43944\n",
      "\n"
     ]
    }
   ],
   "source": [
    "# Training\n",
    "y_pred = classifier_LR.predict(x_train)\n",
    "get_evaluation(y_train,y_pred)"
   ]
  },
  {
   "cell_type": "code",
   "execution_count": 28,
   "id": "9a55d2cc",
   "metadata": {},
   "outputs": [
    {
     "name": "stdout",
     "output_type": "stream",
     "text": [
      "[[13711     0]\n",
      " [  937     0]]\n",
      "              precision    recall  f1-score   support\n",
      "\n",
      "           0       0.94      1.00      0.97     13711\n",
      "           1       0.00      0.00      0.00       937\n",
      "\n",
      "    accuracy                           0.94     14648\n",
      "   macro avg       0.47      0.50      0.48     14648\n",
      "weighted avg       0.88      0.94      0.91     14648\n",
      "\n"
     ]
    }
   ],
   "source": [
    "# Testing\n",
    "y_pred = classifier_LR.predict(x_test)\n",
    "get_evaluation(y_test,y_pred)"
   ]
  },
  {
   "cell_type": "code",
   "execution_count": 29,
   "id": "68e0b1ad",
   "metadata": {},
   "outputs": [
    {
     "data": {
      "text/plain": [
       "(0.0, 0.0, 0.08624173247355023)"
      ]
     },
     "execution_count": 29,
     "metadata": {},
     "output_type": "execute_result"
    }
   ],
   "source": [
    "# calculating perfect threshold\n",
    "y_pred_proba = classifier_LR.predict_proba(x_train)[:,1]\n",
    "precision,recall,threshold = precision_recall_curve(y_train,y_pred_proba)\n",
    "f1score = (2*precision*recall) /(precision+recall)\n",
    "index = np.argmax(f1score)\n",
    "precision[index],recall[index],threshold[index]"
   ]
  },
  {
   "cell_type": "code",
   "execution_count": 30,
   "id": "0e3f9b87",
   "metadata": {},
   "outputs": [
    {
     "name": "stdout",
     "output_type": "stream",
     "text": [
      "[[13489   222]\n",
      " [  919    18]]\n",
      "              precision    recall  f1-score   support\n",
      "\n",
      "           0       0.94      0.98      0.96     13711\n",
      "           1       0.07      0.02      0.03       937\n",
      "\n",
      "    accuracy                           0.92     14648\n",
      "   macro avg       0.51      0.50      0.50     14648\n",
      "weighted avg       0.88      0.92      0.90     14648\n",
      "\n"
     ]
    }
   ],
   "source": [
    "y_pred_proba_test = classifier_LR.predict_proba(x_test)[:,1]\n",
    "y_pred = np.where(y_pred_proba_test >=0.08,1,0)\n",
    "get_evaluation(y_test,y_pred)"
   ]
  },
  {
   "cell_type": "code",
   "execution_count": 31,
   "id": "c2022364",
   "metadata": {},
   "outputs": [
    {
     "data": {
      "text/plain": [
       "<AxesSubplot:xlabel='Threshold'>"
      ]
     },
     "execution_count": 31,
     "metadata": {},
     "output_type": "execute_result"
    },
    {
     "data": {
      "image/png": "[encoded data removed]",
      "text/plain": [
       "<Figure size 2160x720 with 1 Axes>"
      ]
     },
     "metadata": {
      "needs_background": "light"
     },
     "output_type": "display_data"
    }
   ],
   "source": [
    "pred_prob = classifier_LR.predict_proba(x_train)[:,1]\n",
    "fpr,tpr,threshold = roc_curve(y_train,pred_prob)\n",
    "df_1 = pd.DataFrame({\"Threshold\":threshold,\n",
    "                    \"FPR\":fpr,\n",
    "                    \"FNR\":1-tpr})\n",
    "df_1.plot(x=\"Threshold\",y=[\"FPR\",\"FNR\"],figsize=(30,10))"
   ]
  },
  {
   "cell_type": "code",
   "execution_count": 32,
   "id": "5db97320",
   "metadata": {},
   "outputs": [
    {
     "data": {
      "text/plain": [
       "0.08000000000000002"
      ]
     },
     "execution_count": 32,
     "metadata": {},
     "output_type": "execute_result"
    }
   ],
   "source": [
    "0.2*0.4"
   ]
  },
  {
   "cell_type": "markdown",
   "id": "31dcf1e9",
   "metadata": {},
   "source": [
    "### 5.2 KNN"
   ]
  },
  {
   "cell_type": "markdown",
   "id": "05f87523",
   "metadata": {},
   "source": [
    "#### Scalling"
   ]
  },
  {
   "cell_type": "code",
   "execution_count": 33,
   "id": "ec5032e4",
   "metadata": {},
   "outputs": [],
   "source": [
    "df_knn = df1.copy()"
   ]
  },
  {
   "cell_type": "code",
   "execution_count": 34,
   "id": "3b92e7fd",
   "metadata": {},
   "outputs": [],
   "source": [
    "x = df_knn.drop('is_claim',axis=1)\n",
    "y = df_knn['is_claim']\n",
    "x_train,x_test,y_train,y_test = train_test_split(x,y,test_size=0.25,random_state=45,stratify=y)"
   ]
  },
  {
   "cell_type": "code",
   "execution_count": 35,
   "id": "a3fa1cf4",
   "metadata": {},
   "outputs": [
    {
     "data": {
      "text/html": [
       "<div>\n",
       "<style scoped>\n",
       "    .dataframe tbody tr th:only-of-type {\n",
       "        vertical-align: middle;\n",
       "    }\n",
       "\n",
       "    .dataframe tbody tr th {\n",
       "        vertical-align: top;\n",
       "    }\n",
       "\n",
       "    .dataframe thead th {\n",
       "        text-align: right;\n",
       "    }\n",
       "</style>\n",
       "<table border=\"1\" class=\"dataframe\">\n",
       "  <thead>\n",
       "    <tr style=\"text-align: right;\">\n",
       "      <th></th>\n",
       "      <th>policy_tenure</th>\n",
       "      <th>age_of_car</th>\n",
       "      <th>age_of_policyholder</th>\n",
       "      <th>area_cluster</th>\n",
       "      <th>population_density</th>\n",
       "      <th>make</th>\n",
       "      <th>airbags</th>\n",
       "      <th>is_esc</th>\n",
       "      <th>is_adjustable_steering</th>\n",
       "      <th>is_tpms</th>\n",
       "      <th>is_parking_sensors</th>\n",
       "      <th>is_parking_camera</th>\n",
       "      <th>displacement</th>\n",
       "      <th>cylinder</th>\n",
       "      <th>transmission_type</th>\n",
       "      <th>gear_box</th>\n",
       "      <th>steering_type</th>\n",
       "      <th>turning_radius</th>\n",
       "      <th>length</th>\n",
       "      <th>width</th>\n",
       "      <th>height</th>\n",
       "      <th>gross_weight</th>\n",
       "      <th>is_front_fog_lights</th>\n",
       "      <th>is_rear_window_wiper</th>\n",
       "      <th>is_rear_window_washer</th>\n",
       "      <th>is_rear_window_defogger</th>\n",
       "      <th>is_brake_assist</th>\n",
       "      <th>is_power_door_locks</th>\n",
       "      <th>is_central_locking</th>\n",
       "      <th>is_power_steering</th>\n",
       "      <th>is_driver_seat_height_adjustable</th>\n",
       "      <th>is_day_night_rear_view_mirror</th>\n",
       "      <th>is_ecw</th>\n",
       "      <th>is_speed_alert</th>\n",
       "      <th>ncap_rating</th>\n",
       "      <th>segment_A</th>\n",
       "      <th>segment_B1</th>\n",
       "      <th>segment_B2</th>\n",
       "      <th>segment_C1</th>\n",
       "      <th>segment_C2</th>\n",
       "      <th>segment_Utility</th>\n",
       "      <th>model_M1</th>\n",
       "      <th>model_M10</th>\n",
       "      <th>model_M11</th>\n",
       "      <th>model_M2</th>\n",
       "      <th>model_M3</th>\n",
       "      <th>model_M4</th>\n",
       "      <th>model_M5</th>\n",
       "      <th>model_M6</th>\n",
       "      <th>model_M7</th>\n",
       "      <th>model_M8</th>\n",
       "      <th>model_M9</th>\n",
       "      <th>fuel_type_CNG</th>\n",
       "      <th>fuel_type_Diesel</th>\n",
       "      <th>fuel_type_Petrol</th>\n",
       "      <th>engine_type_1.0 SCe</th>\n",
       "      <th>engine_type_1.2 L K Series Engine</th>\n",
       "      <th>engine_type_1.2 L K12N Dualjet</th>\n",
       "      <th>engine_type_1.5 L U2 CRDi</th>\n",
       "      <th>engine_type_1.5 Turbocharged Revotorq</th>\n",
       "      <th>engine_type_1.5 Turbocharged Revotron</th>\n",
       "      <th>engine_type_F8D Petrol Engine</th>\n",
       "      <th>engine_type_G12B</th>\n",
       "      <th>engine_type_K Series Dual jet</th>\n",
       "      <th>engine_type_K10C</th>\n",
       "      <th>engine_type_i-DTEC</th>\n",
       "      <th>rear_brakes_type_Disc</th>\n",
       "      <th>rear_brakes_type_Drum</th>\n",
       "      <th>rpm_per_torque</th>\n",
       "      <th>rpm_per_power</th>\n",
       "    </tr>\n",
       "  </thead>\n",
       "  <tbody>\n",
       "    <tr>\n",
       "      <th>0</th>\n",
       "      <td>-0.195058</td>\n",
       "      <td>-0.692820</td>\n",
       "      <td>0.485526</td>\n",
       "      <td>0.076344</td>\n",
       "      <td>-0.568330</td>\n",
       "      <td>-0.671154</td>\n",
       "      <td>-0.620316</td>\n",
       "      <td>-0.676754</td>\n",
       "      <td>0.805793</td>\n",
       "      <td>-0.560985</td>\n",
       "      <td>0.205285</td>\n",
       "      <td>-0.801191</td>\n",
       "      <td>0.130609</td>\n",
       "      <td>0.771066</td>\n",
       "      <td>-0.730998</td>\n",
       "      <td>-0.570693</td>\n",
       "      <td>1.161836</td>\n",
       "      <td>-0.231219</td>\n",
       "      <td>-0.017264</td>\n",
       "      <td>0.560294</td>\n",
       "      <td>-0.292307</td>\n",
       "      <td>-0.235750</td>\n",
       "      <td>0.851302</td>\n",
       "      <td>-0.638227</td>\n",
       "      <td>-0.638227</td>\n",
       "      <td>-0.734629</td>\n",
       "      <td>0.905041</td>\n",
       "      <td>0.618075</td>\n",
       "      <td>0.618075</td>\n",
       "      <td>0.145824</td>\n",
       "      <td>0.840337</td>\n",
       "      <td>1.274975</td>\n",
       "      <td>0.618075</td>\n",
       "      <td>0.079646</td>\n",
       "      <td>0.174582</td>\n",
       "      <td>-0.64848</td>\n",
       "      <td>-0.275449</td>\n",
       "      <td>1.484379</td>\n",
       "      <td>-0.255051</td>\n",
       "      <td>-0.560985</td>\n",
       "      <td>-0.145824</td>\n",
       "      <td>-0.585969</td>\n",
       "      <td>-0.145824</td>\n",
       "      <td>-0.079646</td>\n",
       "      <td>-0.136863</td>\n",
       "      <td>-0.205285</td>\n",
       "      <td>-0.560985</td>\n",
       "      <td>-0.165024</td>\n",
       "      <td>1.801268</td>\n",
       "      <td>-0.22957</td>\n",
       "      <td>-0.275449</td>\n",
       "      <td>-0.194323</td>\n",
       "      <td>-0.728873</td>\n",
       "      <td>-0.658196</td>\n",
       "      <td>1.360415</td>\n",
       "      <td>-0.205285</td>\n",
       "      <td>-0.22957</td>\n",
       "      <td>-0.136863</td>\n",
       "      <td>-0.560985</td>\n",
       "      <td>-0.165024</td>\n",
       "      <td>-0.079646</td>\n",
       "      <td>-0.585969</td>\n",
       "      <td>-0.145824</td>\n",
       "      <td>1.801268</td>\n",
       "      <td>-0.275449</td>\n",
       "      <td>-0.194323</td>\n",
       "      <td>-0.560985</td>\n",
       "      <td>0.560985</td>\n",
       "      <td>0.174318</td>\n",
       "      <td>-0.327504</td>\n",
       "    </tr>\n",
       "    <tr>\n",
       "      <th>1</th>\n",
       "      <td>-1.422146</td>\n",
       "      <td>0.185061</td>\n",
       "      <td>-1.238656</td>\n",
       "      <td>1.628704</td>\n",
       "      <td>-1.050438</td>\n",
       "      <td>1.087691</td>\n",
       "      <td>1.562120</td>\n",
       "      <td>1.477642</td>\n",
       "      <td>0.805793</td>\n",
       "      <td>1.782578</td>\n",
       "      <td>0.205285</td>\n",
       "      <td>1.248142</td>\n",
       "      <td>1.242070</td>\n",
       "      <td>0.771066</td>\n",
       "      <td>1.367993</td>\n",
       "      <td>1.752255</td>\n",
       "      <td>-0.732133</td>\n",
       "      <td>1.521985</td>\n",
       "      <td>1.443077</td>\n",
       "      <td>1.050657</td>\n",
       "      <td>1.025670</td>\n",
       "      <td>1.575353</td>\n",
       "      <td>0.851302</td>\n",
       "      <td>1.566840</td>\n",
       "      <td>1.566840</td>\n",
       "      <td>1.361231</td>\n",
       "      <td>0.905041</td>\n",
       "      <td>0.618075</td>\n",
       "      <td>0.618075</td>\n",
       "      <td>0.145824</td>\n",
       "      <td>0.840337</td>\n",
       "      <td>-0.784329</td>\n",
       "      <td>0.618075</td>\n",
       "      <td>0.079646</td>\n",
       "      <td>0.894876</td>\n",
       "      <td>-0.64848</td>\n",
       "      <td>-0.275449</td>\n",
       "      <td>-0.673682</td>\n",
       "      <td>-0.255051</td>\n",
       "      <td>1.782578</td>\n",
       "      <td>-0.145824</td>\n",
       "      <td>-0.585969</td>\n",
       "      <td>-0.145824</td>\n",
       "      <td>-0.079646</td>\n",
       "      <td>-0.136863</td>\n",
       "      <td>-0.205285</td>\n",
       "      <td>1.782578</td>\n",
       "      <td>-0.165024</td>\n",
       "      <td>-0.555164</td>\n",
       "      <td>-0.22957</td>\n",
       "      <td>-0.275449</td>\n",
       "      <td>-0.194323</td>\n",
       "      <td>-0.728873</td>\n",
       "      <td>1.519305</td>\n",
       "      <td>-0.735070</td>\n",
       "      <td>-0.205285</td>\n",
       "      <td>-0.22957</td>\n",
       "      <td>-0.136863</td>\n",
       "      <td>1.782578</td>\n",
       "      <td>-0.165024</td>\n",
       "      <td>-0.079646</td>\n",
       "      <td>-0.585969</td>\n",
       "      <td>-0.145824</td>\n",
       "      <td>-0.555164</td>\n",
       "      <td>-0.275449</td>\n",
       "      <td>-0.194323</td>\n",
       "      <td>1.782578</td>\n",
       "      <td>-1.782578</td>\n",
       "      <td>-1.372848</td>\n",
       "      <td>-1.082979</td>\n",
       "    </tr>\n",
       "    <tr>\n",
       "      <th>2</th>\n",
       "      <td>-1.299788</td>\n",
       "      <td>0.185061</td>\n",
       "      <td>-0.454937</td>\n",
       "      <td>0.076344</td>\n",
       "      <td>-0.568330</td>\n",
       "      <td>-0.671154</td>\n",
       "      <td>-0.620316</td>\n",
       "      <td>-0.676754</td>\n",
       "      <td>0.805793</td>\n",
       "      <td>-0.560985</td>\n",
       "      <td>0.205285</td>\n",
       "      <td>-0.801191</td>\n",
       "      <td>0.130609</td>\n",
       "      <td>0.771066</td>\n",
       "      <td>-0.730998</td>\n",
       "      <td>-0.570693</td>\n",
       "      <td>1.161836</td>\n",
       "      <td>-0.231219</td>\n",
       "      <td>-0.017264</td>\n",
       "      <td>0.560294</td>\n",
       "      <td>-0.292307</td>\n",
       "      <td>-0.235750</td>\n",
       "      <td>0.851302</td>\n",
       "      <td>-0.638227</td>\n",
       "      <td>-0.638227</td>\n",
       "      <td>-0.734629</td>\n",
       "      <td>0.905041</td>\n",
       "      <td>0.618075</td>\n",
       "      <td>0.618075</td>\n",
       "      <td>0.145824</td>\n",
       "      <td>0.840337</td>\n",
       "      <td>1.274975</td>\n",
       "      <td>0.618075</td>\n",
       "      <td>0.079646</td>\n",
       "      <td>0.174582</td>\n",
       "      <td>-0.64848</td>\n",
       "      <td>-0.275449</td>\n",
       "      <td>1.484379</td>\n",
       "      <td>-0.255051</td>\n",
       "      <td>-0.560985</td>\n",
       "      <td>-0.145824</td>\n",
       "      <td>-0.585969</td>\n",
       "      <td>-0.145824</td>\n",
       "      <td>-0.079646</td>\n",
       "      <td>-0.136863</td>\n",
       "      <td>-0.205285</td>\n",
       "      <td>-0.560985</td>\n",
       "      <td>-0.165024</td>\n",
       "      <td>1.801268</td>\n",
       "      <td>-0.22957</td>\n",
       "      <td>-0.275449</td>\n",
       "      <td>-0.194323</td>\n",
       "      <td>-0.728873</td>\n",
       "      <td>-0.658196</td>\n",
       "      <td>1.360415</td>\n",
       "      <td>-0.205285</td>\n",
       "      <td>-0.22957</td>\n",
       "      <td>-0.136863</td>\n",
       "      <td>-0.560985</td>\n",
       "      <td>-0.165024</td>\n",
       "      <td>-0.079646</td>\n",
       "      <td>-0.585969</td>\n",
       "      <td>-0.145824</td>\n",
       "      <td>1.801268</td>\n",
       "      <td>-0.275449</td>\n",
       "      <td>-0.194323</td>\n",
       "      <td>-0.560985</td>\n",
       "      <td>0.560985</td>\n",
       "      <td>0.174318</td>\n",
       "      <td>-0.327504</td>\n",
       "    </tr>\n",
       "    <tr>\n",
       "      <th>3</th>\n",
       "      <td>-0.746331</td>\n",
       "      <td>1.062942</td>\n",
       "      <td>-0.533309</td>\n",
       "      <td>0.076344</td>\n",
       "      <td>-0.568330</td>\n",
       "      <td>-0.671154</td>\n",
       "      <td>-0.620316</td>\n",
       "      <td>-0.676754</td>\n",
       "      <td>0.805793</td>\n",
       "      <td>-0.560985</td>\n",
       "      <td>0.205285</td>\n",
       "      <td>-0.801191</td>\n",
       "      <td>0.130609</td>\n",
       "      <td>0.771066</td>\n",
       "      <td>-0.730998</td>\n",
       "      <td>-0.570693</td>\n",
       "      <td>1.161836</td>\n",
       "      <td>-0.231219</td>\n",
       "      <td>-0.017264</td>\n",
       "      <td>0.560294</td>\n",
       "      <td>-0.292307</td>\n",
       "      <td>-0.235750</td>\n",
       "      <td>0.851302</td>\n",
       "      <td>-0.638227</td>\n",
       "      <td>-0.638227</td>\n",
       "      <td>-0.734629</td>\n",
       "      <td>0.905041</td>\n",
       "      <td>0.618075</td>\n",
       "      <td>0.618075</td>\n",
       "      <td>0.145824</td>\n",
       "      <td>0.840337</td>\n",
       "      <td>1.274975</td>\n",
       "      <td>0.618075</td>\n",
       "      <td>0.079646</td>\n",
       "      <td>0.174582</td>\n",
       "      <td>-0.64848</td>\n",
       "      <td>-0.275449</td>\n",
       "      <td>1.484379</td>\n",
       "      <td>-0.255051</td>\n",
       "      <td>-0.560985</td>\n",
       "      <td>-0.145824</td>\n",
       "      <td>-0.585969</td>\n",
       "      <td>-0.145824</td>\n",
       "      <td>-0.079646</td>\n",
       "      <td>-0.136863</td>\n",
       "      <td>-0.205285</td>\n",
       "      <td>-0.560985</td>\n",
       "      <td>-0.165024</td>\n",
       "      <td>1.801268</td>\n",
       "      <td>-0.22957</td>\n",
       "      <td>-0.275449</td>\n",
       "      <td>-0.194323</td>\n",
       "      <td>-0.728873</td>\n",
       "      <td>-0.658196</td>\n",
       "      <td>1.360415</td>\n",
       "      <td>-0.205285</td>\n",
       "      <td>-0.22957</td>\n",
       "      <td>-0.136863</td>\n",
       "      <td>-0.560985</td>\n",
       "      <td>-0.165024</td>\n",
       "      <td>-0.079646</td>\n",
       "      <td>-0.585969</td>\n",
       "      <td>-0.145824</td>\n",
       "      <td>1.801268</td>\n",
       "      <td>-0.275449</td>\n",
       "      <td>-0.194323</td>\n",
       "      <td>-0.560985</td>\n",
       "      <td>0.560985</td>\n",
       "      <td>0.174318</td>\n",
       "      <td>-0.327504</td>\n",
       "    </tr>\n",
       "    <tr>\n",
       "      <th>4</th>\n",
       "      <td>1.292253</td>\n",
       "      <td>1.238519</td>\n",
       "      <td>-0.141449</td>\n",
       "      <td>1.185172</td>\n",
       "      <td>-0.760175</td>\n",
       "      <td>1.087691</td>\n",
       "      <td>1.562120</td>\n",
       "      <td>1.477642</td>\n",
       "      <td>0.805793</td>\n",
       "      <td>1.782578</td>\n",
       "      <td>0.205285</td>\n",
       "      <td>1.248142</td>\n",
       "      <td>1.242070</td>\n",
       "      <td>0.771066</td>\n",
       "      <td>1.367993</td>\n",
       "      <td>1.752255</td>\n",
       "      <td>-0.732133</td>\n",
       "      <td>1.521985</td>\n",
       "      <td>1.443077</td>\n",
       "      <td>1.050657</td>\n",
       "      <td>1.025670</td>\n",
       "      <td>1.575353</td>\n",
       "      <td>0.851302</td>\n",
       "      <td>1.566840</td>\n",
       "      <td>1.566840</td>\n",
       "      <td>1.361231</td>\n",
       "      <td>0.905041</td>\n",
       "      <td>0.618075</td>\n",
       "      <td>0.618075</td>\n",
       "      <td>0.145824</td>\n",
       "      <td>0.840337</td>\n",
       "      <td>-0.784329</td>\n",
       "      <td>0.618075</td>\n",
       "      <td>0.079646</td>\n",
       "      <td>0.894876</td>\n",
       "      <td>-0.64848</td>\n",
       "      <td>-0.275449</td>\n",
       "      <td>-0.673682</td>\n",
       "      <td>-0.255051</td>\n",
       "      <td>1.782578</td>\n",
       "      <td>-0.145824</td>\n",
       "      <td>-0.585969</td>\n",
       "      <td>-0.145824</td>\n",
       "      <td>-0.079646</td>\n",
       "      <td>-0.136863</td>\n",
       "      <td>-0.205285</td>\n",
       "      <td>1.782578</td>\n",
       "      <td>-0.165024</td>\n",
       "      <td>-0.555164</td>\n",
       "      <td>-0.22957</td>\n",
       "      <td>-0.275449</td>\n",
       "      <td>-0.194323</td>\n",
       "      <td>-0.728873</td>\n",
       "      <td>1.519305</td>\n",
       "      <td>-0.735070</td>\n",
       "      <td>-0.205285</td>\n",
       "      <td>-0.22957</td>\n",
       "      <td>-0.136863</td>\n",
       "      <td>1.782578</td>\n",
       "      <td>-0.165024</td>\n",
       "      <td>-0.079646</td>\n",
       "      <td>-0.585969</td>\n",
       "      <td>-0.145824</td>\n",
       "      <td>-0.555164</td>\n",
       "      <td>-0.275449</td>\n",
       "      <td>-0.194323</td>\n",
       "      <td>1.782578</td>\n",
       "      <td>-1.782578</td>\n",
       "      <td>-1.372848</td>\n",
       "      <td>-1.082979</td>\n",
       "    </tr>\n",
       "  </tbody>\n",
       "</table>\n",
       "</div>"
      ],
      "text/plain": [
       "   policy_tenure  age_of_car  age_of_policyholder  area_cluster  \\\n",
       "0      -0.195058   -0.692820             0.485526      0.076344   \n",
       "1      -1.422146    0.185061            -1.238656      1.628704   \n",
       "2      -1.299788    0.185061            -0.454937      0.076344   \n",
       "3      -0.746331    1.062942            -0.533309      0.076344   \n",
       "4       1.292253    1.238519            -0.141449      1.185172   \n",
       "\n",
       "   population_density      make   airbags    is_esc  is_adjustable_steering  \\\n",
       "0           -0.568330 -0.671154 -0.620316 -0.676754                0.805793   \n",
       "1           -1.050438  1.087691  1.562120  1.477642                0.805793   \n",
       "2           -0.568330 -0.671154 -0.620316 -0.676754                0.805793   \n",
       "3           -0.568330 -0.671154 -0.620316 -0.676754                0.805793   \n",
       "4           -0.760175  1.087691  1.562120  1.477642                0.805793   \n",
       "\n",
       "    is_tpms  is_parking_sensors  is_parking_camera  displacement  cylinder  \\\n",
       "0 -0.560985            0.205285          -0.801191      0.130609  0.771066   \n",
       "1  1.782578            0.205285           1.248142      1.242070  0.771066   \n",
       "2 -0.560985            0.205285          -0.801191      0.130609  0.771066   \n",
       "3 -0.560985            0.205285          -0.801191      0.130609  0.771066   \n",
       "4  1.782578            0.205285           1.248142      1.242070  0.771066   \n",
       "\n",
       "   transmission_type  gear_box  steering_type  turning_radius    length  \\\n",
       "0          -0.730998 -0.570693       1.161836       -0.231219 -0.017264   \n",
       "1           1.367993  1.752255      -0.732133        1.521985  1.443077   \n",
       "2          -0.730998 -0.570693       1.161836       -0.231219 -0.017264   \n",
       "3          -0.730998 -0.570693       1.161836       -0.231219 -0.017264   \n",
       "4           1.367993  1.752255      -0.732133        1.521985  1.443077   \n",
       "\n",
       "      width    height  gross_weight  is_front_fog_lights  \\\n",
       "0  0.560294 -0.292307     -0.235750             0.851302   \n",
       "1  1.050657  1.025670      1.575353             0.851302   \n",
       "2  0.560294 -0.292307     -0.235750             0.851302   \n",
       "3  0.560294 -0.292307     -0.235750             0.851302   \n",
       "4  1.050657  1.025670      1.575353             0.851302   \n",
       "\n",
       "   is_rear_window_wiper  is_rear_window_washer  is_rear_window_defogger  \\\n",
       "0             -0.638227              -0.638227                -0.734629   \n",
       "1              1.566840               1.566840                 1.361231   \n",
       "2             -0.638227              -0.638227                -0.734629   \n",
       "3             -0.638227              -0.638227                -0.734629   \n",
       "4              1.566840               1.566840                 1.361231   \n",
       "\n",
       "   is_brake_assist  is_power_door_locks  is_central_locking  \\\n",
       "0         0.905041             0.618075            0.618075   \n",
       "1         0.905041             0.618075            0.618075   \n",
       "2         0.905041             0.618075            0.618075   \n",
       "3         0.905041             0.618075            0.618075   \n",
       "4         0.905041             0.618075            0.618075   \n",
       "\n",
       "   is_power_steering  is_driver_seat_height_adjustable  \\\n",
       "0           0.145824                          0.840337   \n",
       "1           0.145824                          0.840337   \n",
       "2           0.145824                          0.840337   \n",
       "3           0.145824                          0.840337   \n",
       "4           0.145824                          0.840337   \n",
       "\n",
       "   is_day_night_rear_view_mirror    is_ecw  is_speed_alert  ncap_rating  \\\n",
       "0                       1.274975  0.618075        0.079646     0.174582   \n",
       "1                      -0.784329  0.618075        0.079646     0.894876   \n",
       "2                       1.274975  0.618075        0.079646     0.174582   \n",
       "3                       1.274975  0.618075        0.079646     0.174582   \n",
       "4                      -0.784329  0.618075        0.079646     0.894876   \n",
       "\n",
       "   segment_A  segment_B1  segment_B2  segment_C1  segment_C2  segment_Utility  \\\n",
       "0   -0.64848   -0.275449    1.484379   -0.255051   -0.560985        -0.145824   \n",
       "1   -0.64848   -0.275449   -0.673682   -0.255051    1.782578        -0.145824   \n",
       "2   -0.64848   -0.275449    1.484379   -0.255051   -0.560985        -0.145824   \n",
       "3   -0.64848   -0.275449    1.484379   -0.255051   -0.560985        -0.145824   \n",
       "4   -0.64848   -0.275449   -0.673682   -0.255051    1.782578        -0.145824   \n",
       "\n",
       "   model_M1  model_M10  model_M11  model_M2  model_M3  model_M4  model_M5  \\\n",
       "0 -0.585969  -0.145824  -0.079646 -0.136863 -0.205285 -0.560985 -0.165024   \n",
       "1 -0.585969  -0.145824  -0.079646 -0.136863 -0.205285  1.782578 -0.165024   \n",
       "2 -0.585969  -0.145824  -0.079646 -0.136863 -0.205285 -0.560985 -0.165024   \n",
       "3 -0.585969  -0.145824  -0.079646 -0.136863 -0.205285 -0.560985 -0.165024   \n",
       "4 -0.585969  -0.145824  -0.079646 -0.136863 -0.205285  1.782578 -0.165024   \n",
       "\n",
       "   model_M6  model_M7  model_M8  model_M9  fuel_type_CNG  fuel_type_Diesel  \\\n",
       "0  1.801268  -0.22957 -0.275449 -0.194323      -0.728873         -0.658196   \n",
       "1 -0.555164  -0.22957 -0.275449 -0.194323      -0.728873          1.519305   \n",
       "2  1.801268  -0.22957 -0.275449 -0.194323      -0.728873         -0.658196   \n",
       "3  1.801268  -0.22957 -0.275449 -0.194323      -0.728873         -0.658196   \n",
       "4 -0.555164  -0.22957 -0.275449 -0.194323      -0.728873          1.519305   \n",
       "\n",
       "   fuel_type_Petrol  engine_type_1.0 SCe  engine_type_1.2 L K Series Engine  \\\n",
       "0          1.360415            -0.205285                           -0.22957   \n",
       "1         -0.735070            -0.205285                           -0.22957   \n",
       "2          1.360415            -0.205285                           -0.22957   \n",
       "3          1.360415            -0.205285                           -0.22957   \n",
       "4         -0.735070            -0.205285                           -0.22957   \n",
       "\n",
       "   engine_type_1.2 L K12N Dualjet  engine_type_1.5 L U2 CRDi  \\\n",
       "0                       -0.136863                  -0.560985   \n",
       "1                       -0.136863                   1.782578   \n",
       "2                       -0.136863                  -0.560985   \n",
       "3                       -0.136863                  -0.560985   \n",
       "4                       -0.136863                   1.782578   \n",
       "\n",
       "   engine_type_1.5 Turbocharged Revotorq  \\\n",
       "0                              -0.165024   \n",
       "1                              -0.165024   \n",
       "2                              -0.165024   \n",
       "3                              -0.165024   \n",
       "4                              -0.165024   \n",
       "\n",
       "   engine_type_1.5 Turbocharged Revotron  engine_type_F8D Petrol Engine  \\\n",
       "0                              -0.079646                      -0.585969   \n",
       "1                              -0.079646                      -0.585969   \n",
       "2                              -0.079646                      -0.585969   \n",
       "3                              -0.079646                      -0.585969   \n",
       "4                              -0.079646                      -0.585969   \n",
       "\n",
       "   engine_type_G12B  engine_type_K Series Dual jet  engine_type_K10C  \\\n",
       "0         -0.145824                       1.801268         -0.275449   \n",
       "1         -0.145824                      -0.555164         -0.275449   \n",
       "2         -0.145824                       1.801268         -0.275449   \n",
       "3         -0.145824                       1.801268         -0.275449   \n",
       "4         -0.145824                      -0.555164         -0.275449   \n",
       "\n",
       "   engine_type_i-DTEC  rear_brakes_type_Disc  rear_brakes_type_Drum  \\\n",
       "0           -0.194323              -0.560985               0.560985   \n",
       "1           -0.194323               1.782578              -1.782578   \n",
       "2           -0.194323              -0.560985               0.560985   \n",
       "3           -0.194323              -0.560985               0.560985   \n",
       "4           -0.194323               1.782578              -1.782578   \n",
       "\n",
       "   rpm_per_torque  rpm_per_power  \n",
       "0        0.174318      -0.327504  \n",
       "1       -1.372848      -1.082979  \n",
       "2        0.174318      -0.327504  \n",
       "3        0.174318      -0.327504  \n",
       "4       -1.372848      -1.082979  "
      ]
     },
     "execution_count": 35,
     "metadata": {},
     "output_type": "execute_result"
    }
   ],
   "source": [
    "std = StandardScaler()\n",
    "std_array = std.fit_transform(x_train)\n",
    "x_train_std = pd.DataFrame(std_array,columns=x_train.columns)\n",
    "x_train_std.head()"
   ]
  },
  {
   "cell_type": "code",
   "execution_count": 36,
   "id": "f3982823",
   "metadata": {},
   "outputs": [
    {
     "data": {
      "text/html": [
       "<style>#sk-container-id-2 {color: black;background-color: white;}#sk-container-id-2 pre{padding: 0;}#sk-container-id-2 div.sk-toggleable {background-color: white;}#sk-container-id-2 label.sk-toggleable__label {cursor: pointer;display: block;width: 100%;margin-bottom: 0;padding: 0.3em;box-sizing: border-box;text-align: center;}#sk-container-id-2 label.sk-toggleable__label-arrow:before {content: \"▸\";float: left;margin-right: 0.25em;color: #696969;}#sk-container-id-2 label.sk-toggleable__label-arrow:hover:before {color: black;}#sk-container-id-2 div.sk-estimator:hover label.sk-toggleable__label-arrow:before {color: black;}#sk-container-id-2 div.sk-toggleable__content {max-height: 0;max-width: 0;overflow: hidden;text-align: left;background-color: #f0f8ff;}#sk-container-id-2 div.sk-toggleable__content pre {margin: 0.2em;color: black;border-radius: 0.25em;background-color: #f0f8ff;}#sk-container-id-2 input.sk-toggleable__control:checked~div.sk-toggleable__content {max-height: 200px;max-width: 100%;overflow: auto;}#sk-container-id-2 input.sk-toggleable__control:checked~label.sk-toggleable__label-arrow:before {content: \"▾\";}#sk-container-id-2 div.sk-estimator input.sk-toggleable__control:checked~label.sk-toggleable__label {background-color: #d4ebff;}#sk-container-id-2 div.sk-label input.sk-toggleable__control:checked~label.sk-toggleable__label {background-color: #d4ebff;}#sk-container-id-2 input.sk-hidden--visually {border: 0;clip: rect(1px 1px 1px 1px);clip: rect(1px, 1px, 1px, 1px);height: 1px;margin: -1px;overflow: hidden;padding: 0;position: absolute;width: 1px;}#sk-container-id-2 div.sk-estimator {font-family: monospace;background-color: #f0f8ff;border: 1px dotted black;border-radius: 0.25em;box-sizing: border-box;margin-bottom: 0.5em;}#sk-container-id-2 div.sk-estimator:hover {background-color: #d4ebff;}#sk-container-id-2 div.sk-parallel-item::after {content: \"\";width: 100%;border-bottom: 1px solid gray;flex-grow: 1;}#sk-container-id-2 div.sk-label:hover label.sk-toggleable__label {background-color: #d4ebff;}#sk-container-id-2 div.sk-serial::before {content: \"\";position: absolute;border-left: 1px solid gray;box-sizing: border-box;top: 0;bottom: 0;left: 50%;z-index: 0;}#sk-container-id-2 div.sk-serial {display: flex;flex-direction: column;align-items: center;background-color: white;padding-right: 0.2em;padding-left: 0.2em;position: relative;}#sk-container-id-2 div.sk-item {position: relative;z-index: 1;}#sk-container-id-2 div.sk-parallel {display: flex;align-items: stretch;justify-content: center;background-color: white;position: relative;}#sk-container-id-2 div.sk-item::before, #sk-container-id-2 div.sk-parallel-item::before {content: \"\";position: absolute;border-left: 1px solid gray;box-sizing: border-box;top: 0;bottom: 0;left: 50%;z-index: -1;}#sk-container-id-2 div.sk-parallel-item {display: flex;flex-direction: column;z-index: 1;position: relative;background-color: white;}#sk-container-id-2 div.sk-parallel-item:first-child::after {align-self: flex-end;width: 50%;}#sk-container-id-2 div.sk-parallel-item:last-child::after {align-self: flex-start;width: 50%;}#sk-container-id-2 div.sk-parallel-item:only-child::after {width: 0;}#sk-container-id-2 div.sk-dashed-wrapped {border: 1px dashed gray;margin: 0 0.4em 0.5em 0.4em;box-sizing: border-box;padding-bottom: 0.4em;background-color: white;}#sk-container-id-2 div.sk-label label {font-family: monospace;font-weight: bold;display: inline-block;line-height: 1.2em;}#sk-container-id-2 div.sk-label-container {text-align: center;}#sk-container-id-2 div.sk-container {/* jupyter's `normalize.less` sets `[hidden] { display: none; }` but bootstrap.min.css set `[hidden] { display: none !important; }` so we also need the `!important` here to be able to override the default hidden behavior on the sphinx rendered scikit-learn.org. See: https://github.com/scikit-learn/scikit-learn/issues/21755 */display: inline-block !important;position: relative;}#sk-container-id-2 div.sk-text-repr-fallback {display: none;}</style><div id=\"sk-container-id-2\" class=\"sk-top-container\"><div class=\"sk-text-repr-fallback\"><pre>KNeighborsClassifier()</pre><b>In a Jupyter environment, please rerun this cell to show the HTML representation or trust the notebook. <br />On GitHub, the HTML representation is unable to render, please try loading this page with nbviewer.org.</b></div><div class=\"sk-container\" hidden><div class=\"sk-item\"><div class=\"sk-estimator sk-toggleable\"><input class=\"sk-toggleable__control sk-hidden--visually\" id=\"sk-estimator-id-2\" type=\"checkbox\" checked><label for=\"sk-estimator-id-2\" class=\"sk-toggleable__label sk-toggleable__label-arrow\">KNeighborsClassifier</label><div class=\"sk-toggleable__content\"><pre>KNeighborsClassifier()</pre></div></div></div></div></div>"
      ],
      "text/plain": [
       "KNeighborsClassifier()"
      ]
     },
     "execution_count": 36,
     "metadata": {},
     "output_type": "execute_result"
    }
   ],
   "source": [
    "classifier_KNN = KNeighborsClassifier()\n",
    "classifier_KNN.fit(x_train_std,y_train)"
   ]
  },
  {
   "cell_type": "code",
   "execution_count": 37,
   "id": "f6b979c2",
   "metadata": {},
   "outputs": [
    {
     "name": "stdout",
     "output_type": "stream",
     "text": [
      "[[41077    56]\n",
      " [ 2701   110]]\n",
      "              precision    recall  f1-score   support\n",
      "\n",
      "           0       0.94      1.00      0.97     41133\n",
      "           1       0.66      0.04      0.07      2811\n",
      "\n",
      "    accuracy                           0.94     43944\n",
      "   macro avg       0.80      0.52      0.52     43944\n",
      "weighted avg       0.92      0.94      0.91     43944\n",
      "\n"
     ]
    }
   ],
   "source": [
    "# Training\n",
    "y_pred = classifier_KNN.predict(x_train_std)\n",
    "get_evaluation(y_train,y_pred)"
   ]
  },
  {
   "cell_type": "code",
   "execution_count": 38,
   "id": "4da85975",
   "metadata": {},
   "outputs": [
    {
     "name": "stdout",
     "output_type": "stream",
     "text": [
      "[[13666    45]\n",
      " [  932     5]]\n",
      "              precision    recall  f1-score   support\n",
      "\n",
      "           0       0.94      1.00      0.97     13711\n",
      "           1       0.10      0.01      0.01       937\n",
      "\n",
      "    accuracy                           0.93     14648\n",
      "   macro avg       0.52      0.50      0.49     14648\n",
      "weighted avg       0.88      0.93      0.90     14648\n",
      "\n"
     ]
    }
   ],
   "source": [
    "# Testing\n",
    "array = std.transform(x_test)\n",
    "x_test_std = pd.DataFrame(array,columns = x_test.columns)\n",
    "y_pred = classifier_KNN.predict(x_test_std)\n",
    "get_evaluation(y_test,y_pred)"
   ]
  },
  {
   "cell_type": "markdown",
   "id": "4d1bcdd4",
   "metadata": {},
   "source": [
    "#### HyperParameter Tuning"
   ]
  },
  {
   "cell_type": "code",
   "execution_count": 39,
   "id": "630cf17f",
   "metadata": {},
   "outputs": [],
   "source": [
    "# gridSCV = GridSearchCV(classifier_KNN,\n",
    "#                       {'n_neighbors':np.arange(3,10),\n",
    "#                       'p':[1,2]},\n",
    "#                       cv=5)\n",
    "# gridSCV.fit(x_train_std,y_train)\n",
    "# gridSCV.best_estimator_"
   ]
  },
  {
   "cell_type": "code",
   "execution_count": 40,
   "id": "d731c4ef",
   "metadata": {},
   "outputs": [
    {
     "data": {
      "text/html": [
       "<style>#sk-container-id-3 {color: black;background-color: white;}#sk-container-id-3 pre{padding: 0;}#sk-container-id-3 div.sk-toggleable {background-color: white;}#sk-container-id-3 label.sk-toggleable__label {cursor: pointer;display: block;width: 100%;margin-bottom: 0;padding: 0.3em;box-sizing: border-box;text-align: center;}#sk-container-id-3 label.sk-toggleable__label-arrow:before {content: \"▸\";float: left;margin-right: 0.25em;color: #696969;}#sk-container-id-3 label.sk-toggleable__label-arrow:hover:before {color: black;}#sk-container-id-3 div.sk-estimator:hover label.sk-toggleable__label-arrow:before {color: black;}#sk-container-id-3 div.sk-toggleable__content {max-height: 0;max-width: 0;overflow: hidden;text-align: left;background-color: #f0f8ff;}#sk-container-id-3 div.sk-toggleable__content pre {margin: 0.2em;color: black;border-radius: 0.25em;background-color: #f0f8ff;}#sk-container-id-3 input.sk-toggleable__control:checked~div.sk-toggleable__content {max-height: 200px;max-width: 100%;overflow: auto;}#sk-container-id-3 input.sk-toggleable__control:checked~label.sk-toggleable__label-arrow:before {content: \"▾\";}#sk-container-id-3 div.sk-estimator input.sk-toggleable__control:checked~label.sk-toggleable__label {background-color: #d4ebff;}#sk-container-id-3 div.sk-label input.sk-toggleable__control:checked~label.sk-toggleable__label {background-color: #d4ebff;}#sk-container-id-3 input.sk-hidden--visually {border: 0;clip: rect(1px 1px 1px 1px);clip: rect(1px, 1px, 1px, 1px);height: 1px;margin: -1px;overflow: hidden;padding: 0;position: absolute;width: 1px;}#sk-container-id-3 div.sk-estimator {font-family: monospace;background-color: #f0f8ff;border: 1px dotted black;border-radius: 0.25em;box-sizing: border-box;margin-bottom: 0.5em;}#sk-container-id-3 div.sk-estimator:hover {background-color: #d4ebff;}#sk-container-id-3 div.sk-parallel-item::after {content: \"\";width: 100%;border-bottom: 1px solid gray;flex-grow: 1;}#sk-container-id-3 div.sk-label:hover label.sk-toggleable__label {background-color: #d4ebff;}#sk-container-id-3 div.sk-serial::before {content: \"\";position: absolute;border-left: 1px solid gray;box-sizing: border-box;top: 0;bottom: 0;left: 50%;z-index: 0;}#sk-container-id-3 div.sk-serial {display: flex;flex-direction: column;align-items: center;background-color: white;padding-right: 0.2em;padding-left: 0.2em;position: relative;}#sk-container-id-3 div.sk-item {position: relative;z-index: 1;}#sk-container-id-3 div.sk-parallel {display: flex;align-items: stretch;justify-content: center;background-color: white;position: relative;}#sk-container-id-3 div.sk-item::before, #sk-container-id-3 div.sk-parallel-item::before {content: \"\";position: absolute;border-left: 1px solid gray;box-sizing: border-box;top: 0;bottom: 0;left: 50%;z-index: -1;}#sk-container-id-3 div.sk-parallel-item {display: flex;flex-direction: column;z-index: 1;position: relative;background-color: white;}#sk-container-id-3 div.sk-parallel-item:first-child::after {align-self: flex-end;width: 50%;}#sk-container-id-3 div.sk-parallel-item:last-child::after {align-self: flex-start;width: 50%;}#sk-container-id-3 div.sk-parallel-item:only-child::after {width: 0;}#sk-container-id-3 div.sk-dashed-wrapped {border: 1px dashed gray;margin: 0 0.4em 0.5em 0.4em;box-sizing: border-box;padding-bottom: 0.4em;background-color: white;}#sk-container-id-3 div.sk-label label {font-family: monospace;font-weight: bold;display: inline-block;line-height: 1.2em;}#sk-container-id-3 div.sk-label-container {text-align: center;}#sk-container-id-3 div.sk-container {/* jupyter's `normalize.less` sets `[hidden] { display: none; }` but bootstrap.min.css set `[hidden] { display: none !important; }` so we also need the `!important` here to be able to override the default hidden behavior on the sphinx rendered scikit-learn.org. See: https://github.com/scikit-learn/scikit-learn/issues/21755 */display: inline-block !important;position: relative;}#sk-container-id-3 div.sk-text-repr-fallback {display: none;}</style><div id=\"sk-container-id-3\" class=\"sk-top-container\"><div class=\"sk-text-repr-fallback\"><pre>KNeighborsClassifier(n_neighbors=8, p=1)</pre><b>In a Jupyter environment, please rerun this cell to show the HTML representation or trust the notebook. <br />On GitHub, the HTML representation is unable to render, please try loading this page with nbviewer.org.</b></div><div class=\"sk-container\" hidden><div class=\"sk-item\"><div class=\"sk-estimator sk-toggleable\"><input class=\"sk-toggleable__control sk-hidden--visually\" id=\"sk-estimator-id-3\" type=\"checkbox\" checked><label for=\"sk-estimator-id-3\" class=\"sk-toggleable__label sk-toggleable__label-arrow\">KNeighborsClassifier</label><div class=\"sk-toggleable__content\"><pre>KNeighborsClassifier(n_neighbors=8, p=1)</pre></div></div></div></div></div>"
      ],
      "text/plain": [
       "KNeighborsClassifier(n_neighbors=8, p=1)"
      ]
     },
     "execution_count": 40,
     "metadata": {},
     "output_type": "execute_result"
    }
   ],
   "source": [
    "classifier_KNN_hpt = KNeighborsClassifier(n_neighbors=8, p=1)\n",
    "classifier_KNN_hpt.fit(x_train_std,y_train)"
   ]
  },
  {
   "cell_type": "code",
   "execution_count": 41,
   "id": "139fe3f2",
   "metadata": {},
   "outputs": [
    {
     "name": "stdout",
     "output_type": "stream",
     "text": [
      "[[41130     3]\n",
      " [ 2805     6]]\n",
      "              precision    recall  f1-score   support\n",
      "\n",
      "           0       0.94      1.00      0.97     41133\n",
      "           1       0.67      0.00      0.00      2811\n",
      "\n",
      "    accuracy                           0.94     43944\n",
      "   macro avg       0.80      0.50      0.49     43944\n",
      "weighted avg       0.92      0.94      0.91     43944\n",
      "\n"
     ]
    }
   ],
   "source": [
    "# Training\n",
    "y_pred = classifier_KNN_hpt.predict(x_train_std)\n",
    "get_evaluation(y_train,y_pred)"
   ]
  },
  {
   "cell_type": "code",
   "execution_count": 42,
   "id": "5814d775",
   "metadata": {},
   "outputs": [
    {
     "name": "stdout",
     "output_type": "stream",
     "text": [
      "[[13707     4]\n",
      " [  935     2]]\n",
      "              precision    recall  f1-score   support\n",
      "\n",
      "           0       0.94      1.00      0.97     13711\n",
      "           1       0.33      0.00      0.00       937\n",
      "\n",
      "    accuracy                           0.94     14648\n",
      "   macro avg       0.63      0.50      0.49     14648\n",
      "weighted avg       0.90      0.94      0.91     14648\n",
      "\n"
     ]
    }
   ],
   "source": [
    "# Testing\n",
    "array = std.transform(x_test)\n",
    "x_test_std = pd.DataFrame(array,columns = x_test.columns)\n",
    "y_pred = classifier_KNN_hpt.predict(x_test_std)\n",
    "get_evaluation(y_test,y_pred)"
   ]
  },
  {
   "cell_type": "markdown",
   "id": "aab41472",
   "metadata": {},
   "source": [
    "### 5.3 Decision Tree"
   ]
  },
  {
   "cell_type": "code",
   "execution_count": 43,
   "id": "3b8651e2",
   "metadata": {},
   "outputs": [],
   "source": [
    "df_DT = df1.copy()\n",
    "x = df_DT.drop('is_claim',axis=1)\n",
    "y = df_DT['is_claim']\n",
    "x_train,x_test,y_train,y_test = train_test_split(x,y,test_size=0.25,random_state=45,stratify=y)"
   ]
  },
  {
   "cell_type": "code",
   "execution_count": 44,
   "id": "4cb3831f",
   "metadata": {},
   "outputs": [
    {
     "data": {
      "text/html": [
       "<style>#sk-container-id-4 {color: black;background-color: white;}#sk-container-id-4 pre{padding: 0;}#sk-container-id-4 div.sk-toggleable {background-color: white;}#sk-container-id-4 label.sk-toggleable__label {cursor: pointer;display: block;width: 100%;margin-bottom: 0;padding: 0.3em;box-sizing: border-box;text-align: center;}#sk-container-id-4 label.sk-toggleable__label-arrow:before {content: \"▸\";float: left;margin-right: 0.25em;color: #696969;}#sk-container-id-4 label.sk-toggleable__label-arrow:hover:before {color: black;}#sk-container-id-4 div.sk-estimator:hover label.sk-toggleable__label-arrow:before {color: black;}#sk-container-id-4 div.sk-toggleable__content {max-height: 0;max-width: 0;overflow: hidden;text-align: left;background-color: #f0f8ff;}#sk-container-id-4 div.sk-toggleable__content pre {margin: 0.2em;color: black;border-radius: 0.25em;background-color: #f0f8ff;}#sk-container-id-4 input.sk-toggleable__control:checked~div.sk-toggleable__content {max-height: 200px;max-width: 100%;overflow: auto;}#sk-container-id-4 input.sk-toggleable__control:checked~label.sk-toggleable__label-arrow:before {content: \"▾\";}#sk-container-id-4 div.sk-estimator input.sk-toggleable__control:checked~label.sk-toggleable__label {background-color: #d4ebff;}#sk-container-id-4 div.sk-label input.sk-toggleable__control:checked~label.sk-toggleable__label {background-color: #d4ebff;}#sk-container-id-4 input.sk-hidden--visually {border: 0;clip: rect(1px 1px 1px 1px);clip: rect(1px, 1px, 1px, 1px);height: 1px;margin: -1px;overflow: hidden;padding: 0;position: absolute;width: 1px;}#sk-container-id-4 div.sk-estimator {font-family: monospace;background-color: #f0f8ff;border: 1px dotted black;border-radius: 0.25em;box-sizing: border-box;margin-bottom: 0.5em;}#sk-container-id-4 div.sk-estimator:hover {background-color: #d4ebff;}#sk-container-id-4 div.sk-parallel-item::after {content: \"\";width: 100%;border-bottom: 1px solid gray;flex-grow: 1;}#sk-container-id-4 div.sk-label:hover label.sk-toggleable__label {background-color: #d4ebff;}#sk-container-id-4 div.sk-serial::before {content: \"\";position: absolute;border-left: 1px solid gray;box-sizing: border-box;top: 0;bottom: 0;left: 50%;z-index: 0;}#sk-container-id-4 div.sk-serial {display: flex;flex-direction: column;align-items: center;background-color: white;padding-right: 0.2em;padding-left: 0.2em;position: relative;}#sk-container-id-4 div.sk-item {position: relative;z-index: 1;}#sk-container-id-4 div.sk-parallel {display: flex;align-items: stretch;justify-content: center;background-color: white;position: relative;}#sk-container-id-4 div.sk-item::before, #sk-container-id-4 div.sk-parallel-item::before {content: \"\";position: absolute;border-left: 1px solid gray;box-sizing: border-box;top: 0;bottom: 0;left: 50%;z-index: -1;}#sk-container-id-4 div.sk-parallel-item {display: flex;flex-direction: column;z-index: 1;position: relative;background-color: white;}#sk-container-id-4 div.sk-parallel-item:first-child::after {align-self: flex-end;width: 50%;}#sk-container-id-4 div.sk-parallel-item:last-child::after {align-self: flex-start;width: 50%;}#sk-container-id-4 div.sk-parallel-item:only-child::after {width: 0;}#sk-container-id-4 div.sk-dashed-wrapped {border: 1px dashed gray;margin: 0 0.4em 0.5em 0.4em;box-sizing: border-box;padding-bottom: 0.4em;background-color: white;}#sk-container-id-4 div.sk-label label {font-family: monospace;font-weight: bold;display: inline-block;line-height: 1.2em;}#sk-container-id-4 div.sk-label-container {text-align: center;}#sk-container-id-4 div.sk-container {/* jupyter's `normalize.less` sets `[hidden] { display: none; }` but bootstrap.min.css set `[hidden] { display: none !important; }` so we also need the `!important` here to be able to override the default hidden behavior on the sphinx rendered scikit-learn.org. See: https://github.com/scikit-learn/scikit-learn/issues/21755 */display: inline-block !important;position: relative;}#sk-container-id-4 div.sk-text-repr-fallback {display: none;}</style><div id=\"sk-container-id-4\" class=\"sk-top-container\"><div class=\"sk-text-repr-fallback\"><pre>DecisionTreeClassifier()</pre><b>In a Jupyter environment, please rerun this cell to show the HTML representation or trust the notebook. <br />On GitHub, the HTML representation is unable to render, please try loading this page with nbviewer.org.</b></div><div class=\"sk-container\" hidden><div class=\"sk-item\"><div class=\"sk-estimator sk-toggleable\"><input class=\"sk-toggleable__control sk-hidden--visually\" id=\"sk-estimator-id-4\" type=\"checkbox\" checked><label for=\"sk-estimator-id-4\" class=\"sk-toggleable__label sk-toggleable__label-arrow\">DecisionTreeClassifier</label><div class=\"sk-toggleable__content\"><pre>DecisionTreeClassifier()</pre></div></div></div></div></div>"
      ],
      "text/plain": [
       "DecisionTreeClassifier()"
      ]
     },
     "execution_count": 44,
     "metadata": {},
     "output_type": "execute_result"
    }
   ],
   "source": [
    "classifier_DT = DecisionTreeClassifier()\n",
    "classifier_DT.fit(x_train,y_train)"
   ]
  },
  {
   "cell_type": "code",
   "execution_count": 45,
   "id": "8c6638e2",
   "metadata": {},
   "outputs": [
    {
     "name": "stdout",
     "output_type": "stream",
     "text": [
      "[[41133     0]\n",
      " [    0  2811]]\n",
      "              precision    recall  f1-score   support\n",
      "\n",
      "           0       1.00      1.00      1.00     41133\n",
      "           1       1.00      1.00      1.00      2811\n",
      "\n",
      "    accuracy                           1.00     43944\n",
      "   macro avg       1.00      1.00      1.00     43944\n",
      "weighted avg       1.00      1.00      1.00     43944\n",
      "\n"
     ]
    }
   ],
   "source": [
    "# Training\n",
    "y_pred = classifier_DT.predict(x_train)\n",
    "get_evaluation(y_train,y_pred)"
   ]
  },
  {
   "cell_type": "code",
   "execution_count": 46,
   "id": "14a7b94a",
   "metadata": {},
   "outputs": [
    {
     "name": "stdout",
     "output_type": "stream",
     "text": [
      "[[12646  1065]\n",
      " [  833   104]]\n",
      "              precision    recall  f1-score   support\n",
      "\n",
      "           0       0.94      0.92      0.93     13711\n",
      "           1       0.09      0.11      0.10       937\n",
      "\n",
      "    accuracy                           0.87     14648\n",
      "   macro avg       0.51      0.52      0.51     14648\n",
      "weighted avg       0.88      0.87      0.88     14648\n",
      "\n"
     ]
    }
   ],
   "source": [
    "# Testing\n",
    "y_pred = classifier_DT.predict(x_test)\n",
    "get_evaluation(y_test,y_pred)"
   ]
  },
  {
   "cell_type": "markdown",
   "id": "5905b326",
   "metadata": {},
   "source": [
    "#### HyperParameter Tuning"
   ]
  },
  {
   "cell_type": "code",
   "execution_count": 47,
   "id": "171f3e24",
   "metadata": {},
   "outputs": [],
   "source": [
    "# gridSCV  = GridSearchCV(classifier_DT,\n",
    "#                        {'criterion':['gini','entropy'],\n",
    "#                        'min_samples_split':np.arange(2,11),\n",
    "#                        'min_samples_leaf':np.arange(2,11),\n",
    "#                        'max_depth':np.arange(2,8)},\n",
    "#                        cv=5)\n",
    "# gridSCV.fit(x_train,y_train)\n",
    "# gridSCV.best_estimator_"
   ]
  },
  {
   "cell_type": "code",
   "execution_count": 48,
   "id": "6562faef",
   "metadata": {},
   "outputs": [
    {
     "data": {
      "text/html": [
       "<style>#sk-container-id-5 {color: black;background-color: white;}#sk-container-id-5 pre{padding: 0;}#sk-container-id-5 div.sk-toggleable {background-color: white;}#sk-container-id-5 label.sk-toggleable__label {cursor: pointer;display: block;width: 100%;margin-bottom: 0;padding: 0.3em;box-sizing: border-box;text-align: center;}#sk-container-id-5 label.sk-toggleable__label-arrow:before {content: \"▸\";float: left;margin-right: 0.25em;color: #696969;}#sk-container-id-5 label.sk-toggleable__label-arrow:hover:before {color: black;}#sk-container-id-5 div.sk-estimator:hover label.sk-toggleable__label-arrow:before {color: black;}#sk-container-id-5 div.sk-toggleable__content {max-height: 0;max-width: 0;overflow: hidden;text-align: left;background-color: #f0f8ff;}#sk-container-id-5 div.sk-toggleable__content pre {margin: 0.2em;color: black;border-radius: 0.25em;background-color: #f0f8ff;}#sk-container-id-5 input.sk-toggleable__control:checked~div.sk-toggleable__content {max-height: 200px;max-width: 100%;overflow: auto;}#sk-container-id-5 input.sk-toggleable__control:checked~label.sk-toggleable__label-arrow:before {content: \"▾\";}#sk-container-id-5 div.sk-estimator input.sk-toggleable__control:checked~label.sk-toggleable__label {background-color: #d4ebff;}#sk-container-id-5 div.sk-label input.sk-toggleable__control:checked~label.sk-toggleable__label {background-color: #d4ebff;}#sk-container-id-5 input.sk-hidden--visually {border: 0;clip: rect(1px 1px 1px 1px);clip: rect(1px, 1px, 1px, 1px);height: 1px;margin: -1px;overflow: hidden;padding: 0;position: absolute;width: 1px;}#sk-container-id-5 div.sk-estimator {font-family: monospace;background-color: #f0f8ff;border: 1px dotted black;border-radius: 0.25em;box-sizing: border-box;margin-bottom: 0.5em;}#sk-container-id-5 div.sk-estimator:hover {background-color: #d4ebff;}#sk-container-id-5 div.sk-parallel-item::after {content: \"\";width: 100%;border-bottom: 1px solid gray;flex-grow: 1;}#sk-container-id-5 div.sk-label:hover label.sk-toggleable__label {background-color: #d4ebff;}#sk-container-id-5 div.sk-serial::before {content: \"\";position: absolute;border-left: 1px solid gray;box-sizing: border-box;top: 0;bottom: 0;left: 50%;z-index: 0;}#sk-container-id-5 div.sk-serial {display: flex;flex-direction: column;align-items: center;background-color: white;padding-right: 0.2em;padding-left: 0.2em;position: relative;}#sk-container-id-5 div.sk-item {position: relative;z-index: 1;}#sk-container-id-5 div.sk-parallel {display: flex;align-items: stretch;justify-content: center;background-color: white;position: relative;}#sk-container-id-5 div.sk-item::before, #sk-container-id-5 div.sk-parallel-item::before {content: \"\";position: absolute;border-left: 1px solid gray;box-sizing: border-box;top: 0;bottom: 0;left: 50%;z-index: -1;}#sk-container-id-5 div.sk-parallel-item {display: flex;flex-direction: column;z-index: 1;position: relative;background-color: white;}#sk-container-id-5 div.sk-parallel-item:first-child::after {align-self: flex-end;width: 50%;}#sk-container-id-5 div.sk-parallel-item:last-child::after {align-self: flex-start;width: 50%;}#sk-container-id-5 div.sk-parallel-item:only-child::after {width: 0;}#sk-container-id-5 div.sk-dashed-wrapped {border: 1px dashed gray;margin: 0 0.4em 0.5em 0.4em;box-sizing: border-box;padding-bottom: 0.4em;background-color: white;}#sk-container-id-5 div.sk-label label {font-family: monospace;font-weight: bold;display: inline-block;line-height: 1.2em;}#sk-container-id-5 div.sk-label-container {text-align: center;}#sk-container-id-5 div.sk-container {/* jupyter's `normalize.less` sets `[hidden] { display: none; }` but bootstrap.min.css set `[hidden] { display: none !important; }` so we also need the `!important` here to be able to override the default hidden behavior on the sphinx rendered scikit-learn.org. See: https://github.com/scikit-learn/scikit-learn/issues/21755 */display: inline-block !important;position: relative;}#sk-container-id-5 div.sk-text-repr-fallback {display: none;}</style><div id=\"sk-container-id-5\" class=\"sk-top-container\"><div class=\"sk-text-repr-fallback\"><pre>DecisionTreeClassifier(max_depth=2, min_samples_leaf=2)</pre><b>In a Jupyter environment, please rerun this cell to show the HTML representation or trust the notebook. <br />On GitHub, the HTML representation is unable to render, please try loading this page with nbviewer.org.</b></div><div class=\"sk-container\" hidden><div class=\"sk-item\"><div class=\"sk-estimator sk-toggleable\"><input class=\"sk-toggleable__control sk-hidden--visually\" id=\"sk-estimator-id-5\" type=\"checkbox\" checked><label for=\"sk-estimator-id-5\" class=\"sk-toggleable__label sk-toggleable__label-arrow\">DecisionTreeClassifier</label><div class=\"sk-toggleable__content\"><pre>DecisionTreeClassifier(max_depth=2, min_samples_leaf=2)</pre></div></div></div></div></div>"
      ],
      "text/plain": [
       "DecisionTreeClassifier(max_depth=2, min_samples_leaf=2)"
      ]
     },
     "execution_count": 48,
     "metadata": {},
     "output_type": "execute_result"
    }
   ],
   "source": [
    "classifier_DT_hpt = DecisionTreeClassifier(max_depth=2, min_samples_leaf=2)\n",
    "classifier_DT_hpt.fit(x_train,y_train)"
   ]
  },
  {
   "cell_type": "code",
   "execution_count": 49,
   "id": "8eeaf25c",
   "metadata": {},
   "outputs": [
    {
     "name": "stdout",
     "output_type": "stream",
     "text": [
      "[[41133     0]\n",
      " [ 2811     0]]\n",
      "              precision    recall  f1-score   support\n",
      "\n",
      "           0       0.94      1.00      0.97     41133\n",
      "           1       0.00      0.00      0.00      2811\n",
      "\n",
      "    accuracy                           0.94     43944\n",
      "   macro avg       0.47      0.50      0.48     43944\n",
      "weighted avg       0.88      0.94      0.91     43944\n",
      "\n"
     ]
    }
   ],
   "source": [
    "# Training\n",
    "y_pred = classifier_DT_hpt.predict(x_train)\n",
    "get_evaluation(y_train,y_pred)"
   ]
  },
  {
   "cell_type": "code",
   "execution_count": 50,
   "id": "aa827f34",
   "metadata": {},
   "outputs": [
    {
     "name": "stdout",
     "output_type": "stream",
     "text": [
      "[[13711     0]\n",
      " [  937     0]]\n",
      "              precision    recall  f1-score   support\n",
      "\n",
      "           0       0.94      1.00      0.97     13711\n",
      "           1       0.00      0.00      0.00       937\n",
      "\n",
      "    accuracy                           0.94     14648\n",
      "   macro avg       0.47      0.50      0.48     14648\n",
      "weighted avg       0.88      0.94      0.91     14648\n",
      "\n"
     ]
    }
   ],
   "source": [
    "# Testing\n",
    "y_pred = classifier_DT_hpt.predict(x_test)\n",
    "get_evaluation(y_test,y_pred)"
   ]
  },
  {
   "cell_type": "markdown",
   "id": "519c7da4",
   "metadata": {},
   "source": [
    "#### Pre Pruning"
   ]
  },
  {
   "cell_type": "code",
   "execution_count": 51,
   "id": "5c7f6106",
   "metadata": {},
   "outputs": [
    {
     "data": {
      "text/html": [
       "<style>#sk-container-id-6 {color: black;background-color: white;}#sk-container-id-6 pre{padding: 0;}#sk-container-id-6 div.sk-toggleable {background-color: white;}#sk-container-id-6 label.sk-toggleable__label {cursor: pointer;display: block;width: 100%;margin-bottom: 0;padding: 0.3em;box-sizing: border-box;text-align: center;}#sk-container-id-6 label.sk-toggleable__label-arrow:before {content: \"▸\";float: left;margin-right: 0.25em;color: #696969;}#sk-container-id-6 label.sk-toggleable__label-arrow:hover:before {color: black;}#sk-container-id-6 div.sk-estimator:hover label.sk-toggleable__label-arrow:before {color: black;}#sk-container-id-6 div.sk-toggleable__content {max-height: 0;max-width: 0;overflow: hidden;text-align: left;background-color: #f0f8ff;}#sk-container-id-6 div.sk-toggleable__content pre {margin: 0.2em;color: black;border-radius: 0.25em;background-color: #f0f8ff;}#sk-container-id-6 input.sk-toggleable__control:checked~div.sk-toggleable__content {max-height: 200px;max-width: 100%;overflow: auto;}#sk-container-id-6 input.sk-toggleable__control:checked~label.sk-toggleable__label-arrow:before {content: \"▾\";}#sk-container-id-6 div.sk-estimator input.sk-toggleable__control:checked~label.sk-toggleable__label {background-color: #d4ebff;}#sk-container-id-6 div.sk-label input.sk-toggleable__control:checked~label.sk-toggleable__label {background-color: #d4ebff;}#sk-container-id-6 input.sk-hidden--visually {border: 0;clip: rect(1px 1px 1px 1px);clip: rect(1px, 1px, 1px, 1px);height: 1px;margin: -1px;overflow: hidden;padding: 0;position: absolute;width: 1px;}#sk-container-id-6 div.sk-estimator {font-family: monospace;background-color: #f0f8ff;border: 1px dotted black;border-radius: 0.25em;box-sizing: border-box;margin-bottom: 0.5em;}#sk-container-id-6 div.sk-estimator:hover {background-color: #d4ebff;}#sk-container-id-6 div.sk-parallel-item::after {content: \"\";width: 100%;border-bottom: 1px solid gray;flex-grow: 1;}#sk-container-id-6 div.sk-label:hover label.sk-toggleable__label {background-color: #d4ebff;}#sk-container-id-6 div.sk-serial::before {content: \"\";position: absolute;border-left: 1px solid gray;box-sizing: border-box;top: 0;bottom: 0;left: 50%;z-index: 0;}#sk-container-id-6 div.sk-serial {display: flex;flex-direction: column;align-items: center;background-color: white;padding-right: 0.2em;padding-left: 0.2em;position: relative;}#sk-container-id-6 div.sk-item {position: relative;z-index: 1;}#sk-container-id-6 div.sk-parallel {display: flex;align-items: stretch;justify-content: center;background-color: white;position: relative;}#sk-container-id-6 div.sk-item::before, #sk-container-id-6 div.sk-parallel-item::before {content: \"\";position: absolute;border-left: 1px solid gray;box-sizing: border-box;top: 0;bottom: 0;left: 50%;z-index: -1;}#sk-container-id-6 div.sk-parallel-item {display: flex;flex-direction: column;z-index: 1;position: relative;background-color: white;}#sk-container-id-6 div.sk-parallel-item:first-child::after {align-self: flex-end;width: 50%;}#sk-container-id-6 div.sk-parallel-item:last-child::after {align-self: flex-start;width: 50%;}#sk-container-id-6 div.sk-parallel-item:only-child::after {width: 0;}#sk-container-id-6 div.sk-dashed-wrapped {border: 1px dashed gray;margin: 0 0.4em 0.5em 0.4em;box-sizing: border-box;padding-bottom: 0.4em;background-color: white;}#sk-container-id-6 div.sk-label label {font-family: monospace;font-weight: bold;display: inline-block;line-height: 1.2em;}#sk-container-id-6 div.sk-label-container {text-align: center;}#sk-container-id-6 div.sk-container {/* jupyter's `normalize.less` sets `[hidden] { display: none; }` but bootstrap.min.css set `[hidden] { display: none !important; }` so we also need the `!important` here to be able to override the default hidden behavior on the sphinx rendered scikit-learn.org. See: https://github.com/scikit-learn/scikit-learn/issues/21755 */display: inline-block !important;position: relative;}#sk-container-id-6 div.sk-text-repr-fallback {display: none;}</style><div id=\"sk-container-id-6\" class=\"sk-top-container\"><div class=\"sk-text-repr-fallback\"><pre>DecisionTreeClassifier(random_state=45)</pre><b>In a Jupyter environment, please rerun this cell to show the HTML representation or trust the notebook. <br />On GitHub, the HTML representation is unable to render, please try loading this page with nbviewer.org.</b></div><div class=\"sk-container\" hidden><div class=\"sk-item\"><div class=\"sk-estimator sk-toggleable\"><input class=\"sk-toggleable__control sk-hidden--visually\" id=\"sk-estimator-id-6\" type=\"checkbox\" checked><label for=\"sk-estimator-id-6\" class=\"sk-toggleable__label sk-toggleable__label-arrow\">DecisionTreeClassifier</label><div class=\"sk-toggleable__content\"><pre>DecisionTreeClassifier(random_state=45)</pre></div></div></div></div></div>"
      ],
      "text/plain": [
       "DecisionTreeClassifier(random_state=45)"
      ]
     },
     "execution_count": 51,
     "metadata": {},
     "output_type": "execute_result"
    }
   ],
   "source": [
    "classifier_DT_preprun = DecisionTreeClassifier(random_state=45,ccp_alpha=0.0)\n",
    "classifier_DT_preprun.fit(x_train,y_train)"
   ]
  },
  {
   "cell_type": "code",
   "execution_count": 52,
   "id": "d5c965ef",
   "metadata": {},
   "outputs": [
    {
     "name": "stdout",
     "output_type": "stream",
     "text": [
      "[[41133     0]\n",
      " [    0  2811]]\n",
      "              precision    recall  f1-score   support\n",
      "\n",
      "           0       1.00      1.00      1.00     41133\n",
      "           1       1.00      1.00      1.00      2811\n",
      "\n",
      "    accuracy                           1.00     43944\n",
      "   macro avg       1.00      1.00      1.00     43944\n",
      "weighted avg       1.00      1.00      1.00     43944\n",
      "\n"
     ]
    }
   ],
   "source": [
    "# Training\n",
    "y_pred = classifier_DT_preprun.predict(x_train)\n",
    "get_evaluation(y_train,y_pred)"
   ]
  },
  {
   "cell_type": "code",
   "execution_count": 53,
   "id": "bd09815c",
   "metadata": {},
   "outputs": [
    {
     "name": "stdout",
     "output_type": "stream",
     "text": [
      "[[13711     0]\n",
      " [  937     0]]\n",
      "              precision    recall  f1-score   support\n",
      "\n",
      "           0       0.94      1.00      0.97     13711\n",
      "           1       0.00      0.00      0.00       937\n",
      "\n",
      "    accuracy                           0.94     14648\n",
      "   macro avg       0.47      0.50      0.48     14648\n",
      "weighted avg       0.88      0.94      0.91     14648\n",
      "\n"
     ]
    }
   ],
   "source": [
    "# Testing\n",
    "y_pred = classifier_DT_hpt.predict(x_test)\n",
    "get_evaluation(y_test,y_pred)"
   ]
  },
  {
   "cell_type": "markdown",
   "id": "345f6059",
   "metadata": {},
   "source": [
    "#### Post Pruning"
   ]
  },
  {
   "cell_type": "code",
   "execution_count": 54,
   "id": "64371d0d",
   "metadata": {},
   "outputs": [],
   "source": [
    "# training_accuracy_list  = []\n",
    "# testing_accuracy_list  =  []\n",
    "\n",
    "# ccp_alpha_list = classifier_DT_preprun.cost_complexity_pruning_path(x_train,y_train)['ccp_alphas']\n",
    "# for ccp_alpha_val in ccp_alpha_list:\n",
    "#     model = DecisionTreeClassifier(random_state=45,ccp_alpha=ccp_alpha_val)\n",
    "#     model.fit(x_train,y_train)\n",
    "    \n",
    "#     training_accuracy_list.append(model.score(x_train,y_train))\n",
    "#     testing_accuracy_list.append (model.score(x_test,y_test))\n",
    "    \n",
    "# plt.plot(ccp_alpha_list,training_accuracy_list,label ='Training Accuracy')\n",
    "# plt.plot(ccp_alpha_list,testing_accuracy_list,label  ='Train Accuracy')\n",
    "# plt.legend()"
   ]
  },
  {
   "cell_type": "markdown",
   "id": "b50c96f1",
   "metadata": {},
   "source": [
    "### 5.4 Random Forest"
   ]
  },
  {
   "cell_type": "code",
   "execution_count": 55,
   "id": "d0e88b5c",
   "metadata": {},
   "outputs": [],
   "source": [
    "df_rf = df1.copy()\n",
    "x = df_rf.drop('is_claim',axis=1)\n",
    "y = df_rf['is_claim']\n",
    "x_train,x_test,y_train,y_test = train_test_split(x,y,test_size=0.25,random_state=45,stratify=y)"
   ]
  },
  {
   "cell_type": "code",
   "execution_count": 56,
   "id": "cbdfc781",
   "metadata": {},
   "outputs": [
    {
     "data": {
      "text/html": [
       "<style>#sk-container-id-7 {color: black;background-color: white;}#sk-container-id-7 pre{padding: 0;}#sk-container-id-7 div.sk-toggleable {background-color: white;}#sk-container-id-7 label.sk-toggleable__label {cursor: pointer;display: block;width: 100%;margin-bottom: 0;padding: 0.3em;box-sizing: border-box;text-align: center;}#sk-container-id-7 label.sk-toggleable__label-arrow:before {content: \"▸\";float: left;margin-right: 0.25em;color: #696969;}#sk-container-id-7 label.sk-toggleable__label-arrow:hover:before {color: black;}#sk-container-id-7 div.sk-estimator:hover label.sk-toggleable__label-arrow:before {color: black;}#sk-container-id-7 div.sk-toggleable__content {max-height: 0;max-width: 0;overflow: hidden;text-align: left;background-color: #f0f8ff;}#sk-container-id-7 div.sk-toggleable__content pre {margin: 0.2em;color: black;border-radius: 0.25em;background-color: #f0f8ff;}#sk-container-id-7 input.sk-toggleable__control:checked~div.sk-toggleable__content {max-height: 200px;max-width: 100%;overflow: auto;}#sk-container-id-7 input.sk-toggleable__control:checked~label.sk-toggleable__label-arrow:before {content: \"▾\";}#sk-container-id-7 div.sk-estimator input.sk-toggleable__control:checked~label.sk-toggleable__label {background-color: #d4ebff;}#sk-container-id-7 div.sk-label input.sk-toggleable__control:checked~label.sk-toggleable__label {background-color: #d4ebff;}#sk-container-id-7 input.sk-hidden--visually {border: 0;clip: rect(1px 1px 1px 1px);clip: rect(1px, 1px, 1px, 1px);height: 1px;margin: -1px;overflow: hidden;padding: 0;position: absolute;width: 1px;}#sk-container-id-7 div.sk-estimator {font-family: monospace;background-color: #f0f8ff;border: 1px dotted black;border-radius: 0.25em;box-sizing: border-box;margin-bottom: 0.5em;}#sk-container-id-7 div.sk-estimator:hover {background-color: #d4ebff;}#sk-container-id-7 div.sk-parallel-item::after {content: \"\";width: 100%;border-bottom: 1px solid gray;flex-grow: 1;}#sk-container-id-7 div.sk-label:hover label.sk-toggleable__label {background-color: #d4ebff;}#sk-container-id-7 div.sk-serial::before {content: \"\";position: absolute;border-left: 1px solid gray;box-sizing: border-box;top: 0;bottom: 0;left: 50%;z-index: 0;}#sk-container-id-7 div.sk-serial {display: flex;flex-direction: column;align-items: center;background-color: white;padding-right: 0.2em;padding-left: 0.2em;position: relative;}#sk-container-id-7 div.sk-item {position: relative;z-index: 1;}#sk-container-id-7 div.sk-parallel {display: flex;align-items: stretch;justify-content: center;background-color: white;position: relative;}#sk-container-id-7 div.sk-item::before, #sk-container-id-7 div.sk-parallel-item::before {content: \"\";position: absolute;border-left: 1px solid gray;box-sizing: border-box;top: 0;bottom: 0;left: 50%;z-index: -1;}#sk-container-id-7 div.sk-parallel-item {display: flex;flex-direction: column;z-index: 1;position: relative;background-color: white;}#sk-container-id-7 div.sk-parallel-item:first-child::after {align-self: flex-end;width: 50%;}#sk-container-id-7 div.sk-parallel-item:last-child::after {align-self: flex-start;width: 50%;}#sk-container-id-7 div.sk-parallel-item:only-child::after {width: 0;}#sk-container-id-7 div.sk-dashed-wrapped {border: 1px dashed gray;margin: 0 0.4em 0.5em 0.4em;box-sizing: border-box;padding-bottom: 0.4em;background-color: white;}#sk-container-id-7 div.sk-label label {font-family: monospace;font-weight: bold;display: inline-block;line-height: 1.2em;}#sk-container-id-7 div.sk-label-container {text-align: center;}#sk-container-id-7 div.sk-container {/* jupyter's `normalize.less` sets `[hidden] { display: none; }` but bootstrap.min.css set `[hidden] { display: none !important; }` so we also need the `!important` here to be able to override the default hidden behavior on the sphinx rendered scikit-learn.org. See: https://github.com/scikit-learn/scikit-learn/issues/21755 */display: inline-block !important;position: relative;}#sk-container-id-7 div.sk-text-repr-fallback {display: none;}</style><div id=\"sk-container-id-7\" class=\"sk-top-container\"><div class=\"sk-text-repr-fallback\"><pre>RandomForestClassifier()</pre><b>In a Jupyter environment, please rerun this cell to show the HTML representation or trust the notebook. <br />On GitHub, the HTML representation is unable to render, please try loading this page with nbviewer.org.</b></div><div class=\"sk-container\" hidden><div class=\"sk-item\"><div class=\"sk-estimator sk-toggleable\"><input class=\"sk-toggleable__control sk-hidden--visually\" id=\"sk-estimator-id-7\" type=\"checkbox\" checked><label for=\"sk-estimator-id-7\" class=\"sk-toggleable__label sk-toggleable__label-arrow\">RandomForestClassifier</label><div class=\"sk-toggleable__content\"><pre>RandomForestClassifier()</pre></div></div></div></div></div>"
      ],
      "text/plain": [
       "RandomForestClassifier()"
      ]
     },
     "execution_count": 56,
     "metadata": {},
     "output_type": "execute_result"
    }
   ],
   "source": [
    "classifier_RF = RandomForestClassifier()\n",
    "classifier_RF.fit(x_train,y_train)"
   ]
  },
  {
   "cell_type": "code",
   "execution_count": 57,
   "id": "de2ff673",
   "metadata": {},
   "outputs": [
    {
     "name": "stdout",
     "output_type": "stream",
     "text": [
      "[[41133     0]\n",
      " [    3  2808]]\n",
      "              precision    recall  f1-score   support\n",
      "\n",
      "           0       1.00      1.00      1.00     41133\n",
      "           1       1.00      1.00      1.00      2811\n",
      "\n",
      "    accuracy                           1.00     43944\n",
      "   macro avg       1.00      1.00      1.00     43944\n",
      "weighted avg       1.00      1.00      1.00     43944\n",
      "\n"
     ]
    }
   ],
   "source": [
    "# Training Data\n",
    "y_pred = classifier_RF.predict(x_train)\n",
    "get_evaluation(y_train,y_pred)"
   ]
  },
  {
   "cell_type": "code",
   "execution_count": 58,
   "id": "e8e86a4d",
   "metadata": {},
   "outputs": [
    {
     "name": "stdout",
     "output_type": "stream",
     "text": [
      "[[13646    65]\n",
      " [  930     7]]\n",
      "              precision    recall  f1-score   support\n",
      "\n",
      "           0       0.94      1.00      0.96     13711\n",
      "           1       0.10      0.01      0.01       937\n",
      "\n",
      "    accuracy                           0.93     14648\n",
      "   macro avg       0.52      0.50      0.49     14648\n",
      "weighted avg       0.88      0.93      0.90     14648\n",
      "\n"
     ]
    }
   ],
   "source": [
    "# Testing Data\n",
    "y_pred = classifier_RF.predict(x_test)\n",
    "get_evaluation(y_test,y_pred)"
   ]
  },
  {
   "cell_type": "markdown",
   "id": "0f197a8d",
   "metadata": {},
   "source": [
    "#### Hyper Parameter Tuning"
   ]
  },
  {
   "cell_type": "code",
   "execution_count": 59,
   "id": "a0905cae",
   "metadata": {},
   "outputs": [],
   "source": [
    "# randSCV = RandomizedSearchCV(classifier_RF,\n",
    "#                       {'n_estimators':np.arange(10,21),\n",
    "#                        'criterion':['gini','entropy'],\n",
    "#                        'max_depth':np.arange(2,11),\n",
    "#                        'min_samples_split':np.arange(2,11),\n",
    "#                        'min_samples_leaf':np.arange(2,11),\n",
    "#                        'random_state':[41,42,43,44,45]},\n",
    "#                       cv=5)\n",
    "# randSCV.fit(x_train,y_train)\n",
    "# randSCV.best_estimator_"
   ]
  },
  {
   "cell_type": "code",
   "execution_count": 60,
   "id": "8cbad3e1",
   "metadata": {},
   "outputs": [
    {
     "data": {
      "text/html": [
       "<style>#sk-container-id-8 {color: black;background-color: white;}#sk-container-id-8 pre{padding: 0;}#sk-container-id-8 div.sk-toggleable {background-color: white;}#sk-container-id-8 label.sk-toggleable__label {cursor: pointer;display: block;width: 100%;margin-bottom: 0;padding: 0.3em;box-sizing: border-box;text-align: center;}#sk-container-id-8 label.sk-toggleable__label-arrow:before {content: \"▸\";float: left;margin-right: 0.25em;color: #696969;}#sk-container-id-8 label.sk-toggleable__label-arrow:hover:before {color: black;}#sk-container-id-8 div.sk-estimator:hover label.sk-toggleable__label-arrow:before {color: black;}#sk-container-id-8 div.sk-toggleable__content {max-height: 0;max-width: 0;overflow: hidden;text-align: left;background-color: #f0f8ff;}#sk-container-id-8 div.sk-toggleable__content pre {margin: 0.2em;color: black;border-radius: 0.25em;background-color: #f0f8ff;}#sk-container-id-8 input.sk-toggleable__control:checked~div.sk-toggleable__content {max-height: 200px;max-width: 100%;overflow: auto;}#sk-container-id-8 input.sk-toggleable__control:checked~label.sk-toggleable__label-arrow:before {content: \"▾\";}#sk-container-id-8 div.sk-estimator input.sk-toggleable__control:checked~label.sk-toggleable__label {background-color: #d4ebff;}#sk-container-id-8 div.sk-label input.sk-toggleable__control:checked~label.sk-toggleable__label {background-color: #d4ebff;}#sk-container-id-8 input.sk-hidden--visually {border: 0;clip: rect(1px 1px 1px 1px);clip: rect(1px, 1px, 1px, 1px);height: 1px;margin: -1px;overflow: hidden;padding: 0;position: absolute;width: 1px;}#sk-container-id-8 div.sk-estimator {font-family: monospace;background-color: #f0f8ff;border: 1px dotted black;border-radius: 0.25em;box-sizing: border-box;margin-bottom: 0.5em;}#sk-container-id-8 div.sk-estimator:hover {background-color: #d4ebff;}#sk-container-id-8 div.sk-parallel-item::after {content: \"\";width: 100%;border-bottom: 1px solid gray;flex-grow: 1;}#sk-container-id-8 div.sk-label:hover label.sk-toggleable__label {background-color: #d4ebff;}#sk-container-id-8 div.sk-serial::before {content: \"\";position: absolute;border-left: 1px solid gray;box-sizing: border-box;top: 0;bottom: 0;left: 50%;z-index: 0;}#sk-container-id-8 div.sk-serial {display: flex;flex-direction: column;align-items: center;background-color: white;padding-right: 0.2em;padding-left: 0.2em;position: relative;}#sk-container-id-8 div.sk-item {position: relative;z-index: 1;}#sk-container-id-8 div.sk-parallel {display: flex;align-items: stretch;justify-content: center;background-color: white;position: relative;}#sk-container-id-8 div.sk-item::before, #sk-container-id-8 div.sk-parallel-item::before {content: \"\";position: absolute;border-left: 1px solid gray;box-sizing: border-box;top: 0;bottom: 0;left: 50%;z-index: -1;}#sk-container-id-8 div.sk-parallel-item {display: flex;flex-direction: column;z-index: 1;position: relative;background-color: white;}#sk-container-id-8 div.sk-parallel-item:first-child::after {align-self: flex-end;width: 50%;}#sk-container-id-8 div.sk-parallel-item:last-child::after {align-self: flex-start;width: 50%;}#sk-container-id-8 div.sk-parallel-item:only-child::after {width: 0;}#sk-container-id-8 div.sk-dashed-wrapped {border: 1px dashed gray;margin: 0 0.4em 0.5em 0.4em;box-sizing: border-box;padding-bottom: 0.4em;background-color: white;}#sk-container-id-8 div.sk-label label {font-family: monospace;font-weight: bold;display: inline-block;line-height: 1.2em;}#sk-container-id-8 div.sk-label-container {text-align: center;}#sk-container-id-8 div.sk-container {/* jupyter's `normalize.less` sets `[hidden] { display: none; }` but bootstrap.min.css set `[hidden] { display: none !important; }` so we also need the `!important` here to be able to override the default hidden behavior on the sphinx rendered scikit-learn.org. See: https://github.com/scikit-learn/scikit-learn/issues/21755 */display: inline-block !important;position: relative;}#sk-container-id-8 div.sk-text-repr-fallback {display: none;}</style><div id=\"sk-container-id-8\" class=\"sk-top-container\"><div class=\"sk-text-repr-fallback\"><pre>RandomForestClassifier(criterion=&#x27;entropy&#x27;, max_depth=5, min_samples_leaf=7,\n",
       "                       min_samples_split=6, n_estimators=13, random_state=45)</pre><b>In a Jupyter environment, please rerun this cell to show the HTML representation or trust the notebook. <br />On GitHub, the HTML representation is unable to render, please try loading this page with nbviewer.org.</b></div><div class=\"sk-container\" hidden><div class=\"sk-item\"><div class=\"sk-estimator sk-toggleable\"><input class=\"sk-toggleable__control sk-hidden--visually\" id=\"sk-estimator-id-8\" type=\"checkbox\" checked><label for=\"sk-estimator-id-8\" class=\"sk-toggleable__label sk-toggleable__label-arrow\">RandomForestClassifier</label><div class=\"sk-toggleable__content\"><pre>RandomForestClassifier(criterion=&#x27;entropy&#x27;, max_depth=5, min_samples_leaf=7,\n",
       "                       min_samples_split=6, n_estimators=13, random_state=45)</pre></div></div></div></div></div>"
      ],
      "text/plain": [
       "RandomForestClassifier(criterion='entropy', max_depth=5, min_samples_leaf=7,\n",
       "                       min_samples_split=6, n_estimators=13, random_state=45)"
      ]
     },
     "execution_count": 60,
     "metadata": {},
     "output_type": "execute_result"
    }
   ],
   "source": [
    "classifier_RF_hpt = RandomForestClassifier(criterion='entropy', max_depth=5, min_samples_leaf=7,\n",
    "                       min_samples_split=6, n_estimators=13, random_state=45)\n",
    "classifier_RF_hpt.fit(x_train,y_train)"
   ]
  },
  {
   "cell_type": "code",
   "execution_count": 61,
   "id": "63db9596",
   "metadata": {},
   "outputs": [
    {
     "name": "stdout",
     "output_type": "stream",
     "text": [
      "[[41133     0]\n",
      " [ 2811     0]]\n",
      "              precision    recall  f1-score   support\n",
      "\n",
      "           0       0.94      1.00      0.97     41133\n",
      "           1       0.00      0.00      0.00      2811\n",
      "\n",
      "    accuracy                           0.94     43944\n",
      "   macro avg       0.47      0.50      0.48     43944\n",
      "weighted avg       0.88      0.94      0.91     43944\n",
      "\n"
     ]
    }
   ],
   "source": [
    "# Training Data\n",
    "y_pred = classifier_RF_hpt.predict(x_train)\n",
    "get_evaluation(y_train,y_pred)"
   ]
  },
  {
   "cell_type": "code",
   "execution_count": 62,
   "id": "2d364c55",
   "metadata": {},
   "outputs": [
    {
     "name": "stdout",
     "output_type": "stream",
     "text": [
      "[[13711     0]\n",
      " [  937     0]]\n",
      "              precision    recall  f1-score   support\n",
      "\n",
      "           0       0.94      1.00      0.97     13711\n",
      "           1       0.00      0.00      0.00       937\n",
      "\n",
      "    accuracy                           0.94     14648\n",
      "   macro avg       0.47      0.50      0.48     14648\n",
      "weighted avg       0.88      0.94      0.91     14648\n",
      "\n"
     ]
    }
   ],
   "source": [
    "# Testing Data\n",
    "y_pred = classifier_RF_hpt.predict(x_test)\n",
    "get_evaluation(y_test,y_pred)"
   ]
  },
  {
   "cell_type": "markdown",
   "id": "b930ecfc",
   "metadata": {},
   "source": [
    "### 5.5 Adaboost"
   ]
  },
  {
   "cell_type": "code",
   "execution_count": 63,
   "id": "35173d3d",
   "metadata": {},
   "outputs": [],
   "source": [
    "df_adb = df1.copy()\n",
    "x = df_adb.drop('is_claim',axis=1)\n",
    "y = df_adb['is_claim']\n",
    "x_train,x_test,y_train,y_test = train_test_split(x,y,test_size=0.25,random_state=45,stratify=y)"
   ]
  },
  {
   "cell_type": "code",
   "execution_count": 64,
   "id": "3f0c6df5",
   "metadata": {},
   "outputs": [
    {
     "data": {
      "text/html": [
       "<style>#sk-container-id-9 {color: black;background-color: white;}#sk-container-id-9 pre{padding: 0;}#sk-container-id-9 div.sk-toggleable {background-color: white;}#sk-container-id-9 label.sk-toggleable__label {cursor: pointer;display: block;width: 100%;margin-bottom: 0;padding: 0.3em;box-sizing: border-box;text-align: center;}#sk-container-id-9 label.sk-toggleable__label-arrow:before {content: \"▸\";float: left;margin-right: 0.25em;color: #696969;}#sk-container-id-9 label.sk-toggleable__label-arrow:hover:before {color: black;}#sk-container-id-9 div.sk-estimator:hover label.sk-toggleable__label-arrow:before {color: black;}#sk-container-id-9 div.sk-toggleable__content {max-height: 0;max-width: 0;overflow: hidden;text-align: left;background-color: #f0f8ff;}#sk-container-id-9 div.sk-toggleable__content pre {margin: 0.2em;color: black;border-radius: 0.25em;background-color: #f0f8ff;}#sk-container-id-9 input.sk-toggleable__control:checked~div.sk-toggleable__content {max-height: 200px;max-width: 100%;overflow: auto;}#sk-container-id-9 input.sk-toggleable__control:checked~label.sk-toggleable__label-arrow:before {content: \"▾\";}#sk-container-id-9 div.sk-estimator input.sk-toggleable__control:checked~label.sk-toggleable__label {background-color: #d4ebff;}#sk-container-id-9 div.sk-label input.sk-toggleable__control:checked~label.sk-toggleable__label {background-color: #d4ebff;}#sk-container-id-9 input.sk-hidden--visually {border: 0;clip: rect(1px 1px 1px 1px);clip: rect(1px, 1px, 1px, 1px);height: 1px;margin: -1px;overflow: hidden;padding: 0;position: absolute;width: 1px;}#sk-container-id-9 div.sk-estimator {font-family: monospace;background-color: #f0f8ff;border: 1px dotted black;border-radius: 0.25em;box-sizing: border-box;margin-bottom: 0.5em;}#sk-container-id-9 div.sk-estimator:hover {background-color: #d4ebff;}#sk-container-id-9 div.sk-parallel-item::after {content: \"\";width: 100%;border-bottom: 1px solid gray;flex-grow: 1;}#sk-container-id-9 div.sk-label:hover label.sk-toggleable__label {background-color: #d4ebff;}#sk-container-id-9 div.sk-serial::before {content: \"\";position: absolute;border-left: 1px solid gray;box-sizing: border-box;top: 0;bottom: 0;left: 50%;z-index: 0;}#sk-container-id-9 div.sk-serial {display: flex;flex-direction: column;align-items: center;background-color: white;padding-right: 0.2em;padding-left: 0.2em;position: relative;}#sk-container-id-9 div.sk-item {position: relative;z-index: 1;}#sk-container-id-9 div.sk-parallel {display: flex;align-items: stretch;justify-content: center;background-color: white;position: relative;}#sk-container-id-9 div.sk-item::before, #sk-container-id-9 div.sk-parallel-item::before {content: \"\";position: absolute;border-left: 1px solid gray;box-sizing: border-box;top: 0;bottom: 0;left: 50%;z-index: -1;}#sk-container-id-9 div.sk-parallel-item {display: flex;flex-direction: column;z-index: 1;position: relative;background-color: white;}#sk-container-id-9 div.sk-parallel-item:first-child::after {align-self: flex-end;width: 50%;}#sk-container-id-9 div.sk-parallel-item:last-child::after {align-self: flex-start;width: 50%;}#sk-container-id-9 div.sk-parallel-item:only-child::after {width: 0;}#sk-container-id-9 div.sk-dashed-wrapped {border: 1px dashed gray;margin: 0 0.4em 0.5em 0.4em;box-sizing: border-box;padding-bottom: 0.4em;background-color: white;}#sk-container-id-9 div.sk-label label {font-family: monospace;font-weight: bold;display: inline-block;line-height: 1.2em;}#sk-container-id-9 div.sk-label-container {text-align: center;}#sk-container-id-9 div.sk-container {/* jupyter's `normalize.less` sets `[hidden] { display: none; }` but bootstrap.min.css set `[hidden] { display: none !important; }` so we also need the `!important` here to be able to override the default hidden behavior on the sphinx rendered scikit-learn.org. See: https://github.com/scikit-learn/scikit-learn/issues/21755 */display: inline-block !important;position: relative;}#sk-container-id-9 div.sk-text-repr-fallback {display: none;}</style><div id=\"sk-container-id-9\" class=\"sk-top-container\"><div class=\"sk-text-repr-fallback\"><pre>AdaBoostClassifier()</pre><b>In a Jupyter environment, please rerun this cell to show the HTML representation or trust the notebook. <br />On GitHub, the HTML representation is unable to render, please try loading this page with nbviewer.org.</b></div><div class=\"sk-container\" hidden><div class=\"sk-item\"><div class=\"sk-estimator sk-toggleable\"><input class=\"sk-toggleable__control sk-hidden--visually\" id=\"sk-estimator-id-9\" type=\"checkbox\" checked><label for=\"sk-estimator-id-9\" class=\"sk-toggleable__label sk-toggleable__label-arrow\">AdaBoostClassifier</label><div class=\"sk-toggleable__content\"><pre>AdaBoostClassifier()</pre></div></div></div></div></div>"
      ],
      "text/plain": [
       "AdaBoostClassifier()"
      ]
     },
     "execution_count": 64,
     "metadata": {},
     "output_type": "execute_result"
    }
   ],
   "source": [
    "classifier_adb = AdaBoostClassifier()\n",
    "classifier_adb.fit(x_train,y_train)"
   ]
  },
  {
   "cell_type": "code",
   "execution_count": 65,
   "id": "08ae920a",
   "metadata": {},
   "outputs": [
    {
     "name": "stdout",
     "output_type": "stream",
     "text": [
      "[[41133     0]\n",
      " [ 2810     1]]\n",
      "              precision    recall  f1-score   support\n",
      "\n",
      "           0       0.94      1.00      0.97     41133\n",
      "           1       1.00      0.00      0.00      2811\n",
      "\n",
      "    accuracy                           0.94     43944\n",
      "   macro avg       0.97      0.50      0.48     43944\n",
      "weighted avg       0.94      0.94      0.91     43944\n",
      "\n"
     ]
    }
   ],
   "source": [
    "# Training\n",
    "y_pred = classifier_adb.predict(x_train)\n",
    "get_evaluation(y_train,y_pred)"
   ]
  },
  {
   "cell_type": "code",
   "execution_count": 66,
   "id": "f8e0b125",
   "metadata": {},
   "outputs": [
    {
     "name": "stdout",
     "output_type": "stream",
     "text": [
      "[[13711     0]\n",
      " [  937     0]]\n",
      "              precision    recall  f1-score   support\n",
      "\n",
      "           0       0.94      1.00      0.97     13711\n",
      "           1       0.00      0.00      0.00       937\n",
      "\n",
      "    accuracy                           0.94     14648\n",
      "   macro avg       0.47      0.50      0.48     14648\n",
      "weighted avg       0.88      0.94      0.91     14648\n",
      "\n"
     ]
    }
   ],
   "source": [
    "# Testing\n",
    "y_pred = classifier_adb.predict(x_test)\n",
    "get_evaluation(y_test,y_pred)"
   ]
  },
  {
   "cell_type": "markdown",
   "id": "5f0bc180",
   "metadata": {},
   "source": [
    "### 5.6 Xgboost"
   ]
  },
  {
   "cell_type": "code",
   "execution_count": 68,
   "id": "8e4f809b",
   "metadata": {},
   "outputs": [],
   "source": [
    "df_XGB = df1.copy()\n",
    "x = df_XGB.drop('is_claim',axis=1)\n",
    "y = df_XGB['is_claim']\n",
    "x_train,x_test,y_train,y_test = train_test_split(x,y,test_size=0.25,random_state=45,stratify=y)"
   ]
  },
  {
   "cell_type": "code",
   "execution_count": 69,
   "id": "a96cf49c",
   "metadata": {},
   "outputs": [
    {
     "data": {
      "text/html": [
       "<style>#sk-container-id-10 {color: black;background-color: white;}#sk-container-id-10 pre{padding: 0;}#sk-container-id-10 div.sk-toggleable {background-color: white;}#sk-container-id-10 label.sk-toggleable__label {cursor: pointer;display: block;width: 100%;margin-bottom: 0;padding: 0.3em;box-sizing: border-box;text-align: center;}#sk-container-id-10 label.sk-toggleable__label-arrow:before {content: \"▸\";float: left;margin-right: 0.25em;color: #696969;}#sk-container-id-10 label.sk-toggleable__label-arrow:hover:before {color: black;}#sk-container-id-10 div.sk-estimator:hover label.sk-toggleable__label-arrow:before {color: black;}#sk-container-id-10 div.sk-toggleable__content {max-height: 0;max-width: 0;overflow: hidden;text-align: left;background-color: #f0f8ff;}#sk-container-id-10 div.sk-toggleable__content pre {margin: 0.2em;color: black;border-radius: 0.25em;background-color: #f0f8ff;}#sk-container-id-10 input.sk-toggleable__control:checked~div.sk-toggleable__content {max-height: 200px;max-width: 100%;overflow: auto;}#sk-container-id-10 input.sk-toggleable__control:checked~label.sk-toggleable__label-arrow:before {content: \"▾\";}#sk-container-id-10 div.sk-estimator input.sk-toggleable__control:checked~label.sk-toggleable__label {background-color: #d4ebff;}#sk-container-id-10 div.sk-label input.sk-toggleable__control:checked~label.sk-toggleable__label {background-color: #d4ebff;}#sk-container-id-10 input.sk-hidden--visually {border: 0;clip: rect(1px 1px 1px 1px);clip: rect(1px, 1px, 1px, 1px);height: 1px;margin: -1px;overflow: hidden;padding: 0;position: absolute;width: 1px;}#sk-container-id-10 div.sk-estimator {font-family: monospace;background-color: #f0f8ff;border: 1px dotted black;border-radius: 0.25em;box-sizing: border-box;margin-bottom: 0.5em;}#sk-container-id-10 div.sk-estimator:hover {background-color: #d4ebff;}#sk-container-id-10 div.sk-parallel-item::after {content: \"\";width: 100%;border-bottom: 1px solid gray;flex-grow: 1;}#sk-container-id-10 div.sk-label:hover label.sk-toggleable__label {background-color: #d4ebff;}#sk-container-id-10 div.sk-serial::before {content: \"\";position: absolute;border-left: 1px solid gray;box-sizing: border-box;top: 0;bottom: 0;left: 50%;z-index: 0;}#sk-container-id-10 div.sk-serial {display: flex;flex-direction: column;align-items: center;background-color: white;padding-right: 0.2em;padding-left: 0.2em;position: relative;}#sk-container-id-10 div.sk-item {position: relative;z-index: 1;}#sk-container-id-10 div.sk-parallel {display: flex;align-items: stretch;justify-content: center;background-color: white;position: relative;}#sk-container-id-10 div.sk-item::before, #sk-container-id-10 div.sk-parallel-item::before {content: \"\";position: absolute;border-left: 1px solid gray;box-sizing: border-box;top: 0;bottom: 0;left: 50%;z-index: -1;}#sk-container-id-10 div.sk-parallel-item {display: flex;flex-direction: column;z-index: 1;position: relative;background-color: white;}#sk-container-id-10 div.sk-parallel-item:first-child::after {align-self: flex-end;width: 50%;}#sk-container-id-10 div.sk-parallel-item:last-child::after {align-self: flex-start;width: 50%;}#sk-container-id-10 div.sk-parallel-item:only-child::after {width: 0;}#sk-container-id-10 div.sk-dashed-wrapped {border: 1px dashed gray;margin: 0 0.4em 0.5em 0.4em;box-sizing: border-box;padding-bottom: 0.4em;background-color: white;}#sk-container-id-10 div.sk-label label {font-family: monospace;font-weight: bold;display: inline-block;line-height: 1.2em;}#sk-container-id-10 div.sk-label-container {text-align: center;}#sk-container-id-10 div.sk-container {/* jupyter's `normalize.less` sets `[hidden] { display: none; }` but bootstrap.min.css set `[hidden] { display: none !important; }` so we also need the `!important` here to be able to override the default hidden behavior on the sphinx rendered scikit-learn.org. See: https://github.com/scikit-learn/scikit-learn/issues/21755 */display: inline-block !important;position: relative;}#sk-container-id-10 div.sk-text-repr-fallback {display: none;}</style><div id=\"sk-container-id-10\" class=\"sk-top-container\"><div class=\"sk-text-repr-fallback\"><pre>XGBClassifier(base_score=0.5, booster=&#x27;gbtree&#x27;, callbacks=None,\n",
       "              colsample_bylevel=1, colsample_bynode=1, colsample_bytree=1,\n",
       "              early_stopping_rounds=None, enable_categorical=False,\n",
       "              eval_metric=None, feature_types=None, gamma=0, gpu_id=-1,\n",
       "              grow_policy=&#x27;depthwise&#x27;, importance_type=None,\n",
       "              interaction_constraints=&#x27;&#x27;, learning_rate=0.300000012,\n",
       "              max_bin=256, max_cat_threshold=64, max_cat_to_onehot=4,\n",
       "              max_delta_step=0, max_depth=6, max_leaves=0, min_child_weight=1,\n",
       "              missing=nan, monotone_constraints=&#x27;()&#x27;, n_estimators=100,\n",
       "              n_jobs=0, num_parallel_tree=1, predictor=&#x27;auto&#x27;, random_state=0, ...)</pre><b>In a Jupyter environment, please rerun this cell to show the HTML representation or trust the notebook. <br />On GitHub, the HTML representation is unable to render, please try loading this page with nbviewer.org.</b></div><div class=\"sk-container\" hidden><div class=\"sk-item\"><div class=\"sk-estimator sk-toggleable\"><input class=\"sk-toggleable__control sk-hidden--visually\" id=\"sk-estimator-id-10\" type=\"checkbox\" checked><label for=\"sk-estimator-id-10\" class=\"sk-toggleable__label sk-toggleable__label-arrow\">XGBClassifier</label><div class=\"sk-toggleable__content\"><pre>XGBClassifier(base_score=0.5, booster=&#x27;gbtree&#x27;, callbacks=None,\n",
       "              colsample_bylevel=1, colsample_bynode=1, colsample_bytree=1,\n",
       "              early_stopping_rounds=None, enable_categorical=False,\n",
       "              eval_metric=None, feature_types=None, gamma=0, gpu_id=-1,\n",
       "              grow_policy=&#x27;depthwise&#x27;, importance_type=None,\n",
       "              interaction_constraints=&#x27;&#x27;, learning_rate=0.300000012,\n",
       "              max_bin=256, max_cat_threshold=64, max_cat_to_onehot=4,\n",
       "              max_delta_step=0, max_depth=6, max_leaves=0, min_child_weight=1,\n",
       "              missing=nan, monotone_constraints=&#x27;()&#x27;, n_estimators=100,\n",
       "              n_jobs=0, num_parallel_tree=1, predictor=&#x27;auto&#x27;, random_state=0, ...)</pre></div></div></div></div></div>"
      ],
      "text/plain": [
       "XGBClassifier(base_score=0.5, booster='gbtree', callbacks=None,\n",
       "              colsample_bylevel=1, colsample_bynode=1, colsample_bytree=1,\n",
       "              early_stopping_rounds=None, enable_categorical=False,\n",
       "              eval_metric=None, feature_types=None, gamma=0, gpu_id=-1,\n",
       "              grow_policy='depthwise', importance_type=None,\n",
       "              interaction_constraints='', learning_rate=0.300000012,\n",
       "              max_bin=256, max_cat_threshold=64, max_cat_to_onehot=4,\n",
       "              max_delta_step=0, max_depth=6, max_leaves=0, min_child_weight=1,\n",
       "              missing=nan, monotone_constraints='()', n_estimators=100,\n",
       "              n_jobs=0, num_parallel_tree=1, predictor='auto', random_state=0, ...)"
      ]
     },
     "execution_count": 69,
     "metadata": {},
     "output_type": "execute_result"
    }
   ],
   "source": [
    "classifier_XGB  = XGBClassifier()\n",
    "classifier_XGB.fit(x_train,y_train)"
   ]
  },
  {
   "cell_type": "code",
   "execution_count": 70,
   "id": "63e39d0a",
   "metadata": {},
   "outputs": [
    {
     "name": "stdout",
     "output_type": "stream",
     "text": [
      "[[41133     0]\n",
      " [ 2810     1]]\n",
      "              precision    recall  f1-score   support\n",
      "\n",
      "           0       0.94      1.00      0.97     41133\n",
      "           1       1.00      0.00      0.00      2811\n",
      "\n",
      "    accuracy                           0.94     43944\n",
      "   macro avg       0.97      0.50      0.48     43944\n",
      "weighted avg       0.94      0.94      0.91     43944\n",
      "\n"
     ]
    }
   ],
   "source": [
    "# Training\n",
    "y_pred = classifier_adb.predict(x_train)\n",
    "get_evaluation(y_train,y_pred)"
   ]
  },
  {
   "cell_type": "code",
   "execution_count": 71,
   "id": "56d639a2",
   "metadata": {},
   "outputs": [
    {
     "name": "stdout",
     "output_type": "stream",
     "text": [
      "[[13711     0]\n",
      " [  937     0]]\n",
      "              precision    recall  f1-score   support\n",
      "\n",
      "           0       0.94      1.00      0.97     13711\n",
      "           1       0.00      0.00      0.00       937\n",
      "\n",
      "    accuracy                           0.94     14648\n",
      "   macro avg       0.47      0.50      0.48     14648\n",
      "weighted avg       0.88      0.94      0.91     14648\n",
      "\n"
     ]
    }
   ],
   "source": [
    "# Testing\n",
    "y_pred = classifier_adb.predict(x_test)\n",
    "get_evaluation(y_test,y_pred)"
   ]
  },
  {
   "cell_type": "code",
   "execution_count": null,
   "id": "93c81204",
   "metadata": {},
   "outputs": [],
   "source": [
    "# Every model is baised\n",
    "# trying oversampling"
   ]
  },
  {
   "cell_type": "markdown",
   "id": "45566da3",
   "metadata": {},
   "source": [
    "# Oversampling"
   ]
  },
  {
   "cell_type": "code",
   "execution_count": 76,
   "id": "91deb7d8",
   "metadata": {},
   "outputs": [
    {
     "data": {
      "text/plain": [
       "0    41133\n",
       "1    32906\n",
       "Name: is_claim, dtype: int64"
      ]
     },
     "execution_count": 76,
     "metadata": {},
     "output_type": "execute_result"
    }
   ],
   "source": [
    "sampler = SMOTE(sampling_strategy=0.8)\n",
    "x_sam,y_sam = sampler.fit_resample(x_train,y_train)\n",
    "y_sam.value_counts()"
   ]
  },
  {
   "cell_type": "markdown",
   "id": "8776e965",
   "metadata": {},
   "source": [
    "### 1. Logistic Regression"
   ]
  },
  {
   "cell_type": "code",
   "execution_count": 77,
   "id": "f3eaaa45",
   "metadata": {},
   "outputs": [
    {
     "data": {
      "text/html": [
       "<style>#sk-container-id-11 {color: black;background-color: white;}#sk-container-id-11 pre{padding: 0;}#sk-container-id-11 div.sk-toggleable {background-color: white;}#sk-container-id-11 label.sk-toggleable__label {cursor: pointer;display: block;width: 100%;margin-bottom: 0;padding: 0.3em;box-sizing: border-box;text-align: center;}#sk-container-id-11 label.sk-toggleable__label-arrow:before {content: \"▸\";float: left;margin-right: 0.25em;color: #696969;}#sk-container-id-11 label.sk-toggleable__label-arrow:hover:before {color: black;}#sk-container-id-11 div.sk-estimator:hover label.sk-toggleable__label-arrow:before {color: black;}#sk-container-id-11 div.sk-toggleable__content {max-height: 0;max-width: 0;overflow: hidden;text-align: left;background-color: #f0f8ff;}#sk-container-id-11 div.sk-toggleable__content pre {margin: 0.2em;color: black;border-radius: 0.25em;background-color: #f0f8ff;}#sk-container-id-11 input.sk-toggleable__control:checked~div.sk-toggleable__content {max-height: 200px;max-width: 100%;overflow: auto;}#sk-container-id-11 input.sk-toggleable__control:checked~label.sk-toggleable__label-arrow:before {content: \"▾\";}#sk-container-id-11 div.sk-estimator input.sk-toggleable__control:checked~label.sk-toggleable__label {background-color: #d4ebff;}#sk-container-id-11 div.sk-label input.sk-toggleable__control:checked~label.sk-toggleable__label {background-color: #d4ebff;}#sk-container-id-11 input.sk-hidden--visually {border: 0;clip: rect(1px 1px 1px 1px);clip: rect(1px, 1px, 1px, 1px);height: 1px;margin: -1px;overflow: hidden;padding: 0;position: absolute;width: 1px;}#sk-container-id-11 div.sk-estimator {font-family: monospace;background-color: #f0f8ff;border: 1px dotted black;border-radius: 0.25em;box-sizing: border-box;margin-bottom: 0.5em;}#sk-container-id-11 div.sk-estimator:hover {background-color: #d4ebff;}#sk-container-id-11 div.sk-parallel-item::after {content: \"\";width: 100%;border-bottom: 1px solid gray;flex-grow: 1;}#sk-container-id-11 div.sk-label:hover label.sk-toggleable__label {background-color: #d4ebff;}#sk-container-id-11 div.sk-serial::before {content: \"\";position: absolute;border-left: 1px solid gray;box-sizing: border-box;top: 0;bottom: 0;left: 50%;z-index: 0;}#sk-container-id-11 div.sk-serial {display: flex;flex-direction: column;align-items: center;background-color: white;padding-right: 0.2em;padding-left: 0.2em;position: relative;}#sk-container-id-11 div.sk-item {position: relative;z-index: 1;}#sk-container-id-11 div.sk-parallel {display: flex;align-items: stretch;justify-content: center;background-color: white;position: relative;}#sk-container-id-11 div.sk-item::before, #sk-container-id-11 div.sk-parallel-item::before {content: \"\";position: absolute;border-left: 1px solid gray;box-sizing: border-box;top: 0;bottom: 0;left: 50%;z-index: -1;}#sk-container-id-11 div.sk-parallel-item {display: flex;flex-direction: column;z-index: 1;position: relative;background-color: white;}#sk-container-id-11 div.sk-parallel-item:first-child::after {align-self: flex-end;width: 50%;}#sk-container-id-11 div.sk-parallel-item:last-child::after {align-self: flex-start;width: 50%;}#sk-container-id-11 div.sk-parallel-item:only-child::after {width: 0;}#sk-container-id-11 div.sk-dashed-wrapped {border: 1px dashed gray;margin: 0 0.4em 0.5em 0.4em;box-sizing: border-box;padding-bottom: 0.4em;background-color: white;}#sk-container-id-11 div.sk-label label {font-family: monospace;font-weight: bold;display: inline-block;line-height: 1.2em;}#sk-container-id-11 div.sk-label-container {text-align: center;}#sk-container-id-11 div.sk-container {/* jupyter's `normalize.less` sets `[hidden] { display: none; }` but bootstrap.min.css set `[hidden] { display: none !important; }` so we also need the `!important` here to be able to override the default hidden behavior on the sphinx rendered scikit-learn.org. See: https://github.com/scikit-learn/scikit-learn/issues/21755 */display: inline-block !important;position: relative;}#sk-container-id-11 div.sk-text-repr-fallback {display: none;}</style><div id=\"sk-container-id-11\" class=\"sk-top-container\"><div class=\"sk-text-repr-fallback\"><pre>LogisticRegression()</pre><b>In a Jupyter environment, please rerun this cell to show the HTML representation or trust the notebook. <br />On GitHub, the HTML representation is unable to render, please try loading this page with nbviewer.org.</b></div><div class=\"sk-container\" hidden><div class=\"sk-item\"><div class=\"sk-estimator sk-toggleable\"><input class=\"sk-toggleable__control sk-hidden--visually\" id=\"sk-estimator-id-11\" type=\"checkbox\" checked><label for=\"sk-estimator-id-11\" class=\"sk-toggleable__label sk-toggleable__label-arrow\">LogisticRegression</label><div class=\"sk-toggleable__content\"><pre>LogisticRegression()</pre></div></div></div></div></div>"
      ],
      "text/plain": [
       "LogisticRegression()"
      ]
     },
     "execution_count": 77,
     "metadata": {},
     "output_type": "execute_result"
    }
   ],
   "source": [
    "classifier_LR = LogisticRegression()\n",
    "classifier_LR.fit(x_sam,y_sam)"
   ]
  },
  {
   "cell_type": "code",
   "execution_count": 78,
   "id": "9ff8d85f",
   "metadata": {},
   "outputs": [
    {
     "name": "stdout",
     "output_type": "stream",
     "text": [
      "[[40554   579]\n",
      " [ 2757    54]]\n",
      "              precision    recall  f1-score   support\n",
      "\n",
      "           0       0.94      0.99      0.96     41133\n",
      "           1       0.09      0.02      0.03      2811\n",
      "\n",
      "    accuracy                           0.92     43944\n",
      "   macro avg       0.51      0.50      0.50     43944\n",
      "weighted avg       0.88      0.92      0.90     43944\n",
      "\n"
     ]
    }
   ],
   "source": [
    "# Training\n",
    "y_pred = classifier_LR.predict(x_train)\n",
    "get_evaluation(y_train,y_pred)"
   ]
  },
  {
   "cell_type": "code",
   "execution_count": 79,
   "id": "fa984fa8",
   "metadata": {},
   "outputs": [
    {
     "name": "stdout",
     "output_type": "stream",
     "text": [
      "[[13495   216]\n",
      " [  919    18]]\n",
      "              precision    recall  f1-score   support\n",
      "\n",
      "           0       0.94      0.98      0.96     13711\n",
      "           1       0.08      0.02      0.03       937\n",
      "\n",
      "    accuracy                           0.92     14648\n",
      "   macro avg       0.51      0.50      0.50     14648\n",
      "weighted avg       0.88      0.92      0.90     14648\n",
      "\n"
     ]
    }
   ],
   "source": [
    "# Testing\n",
    "y_pred = classifier_LR.predict(x_test)\n",
    "get_evaluation(y_test,y_pred)"
   ]
  },
  {
   "cell_type": "code",
   "execution_count": 80,
   "id": "f713050c",
   "metadata": {},
   "outputs": [
    {
     "data": {
      "text/plain": [
       "(0.0, 0.0, 0.5148125151363059)"
      ]
     },
     "execution_count": 80,
     "metadata": {},
     "output_type": "execute_result"
    }
   ],
   "source": [
    "# calculating perfect threshold\n",
    "y_pred_proba = classifier_LR.predict_proba(x_sam)[:,1]\n",
    "precision,recall,threshold = precision_recall_curve(y_sam,y_pred_proba)\n",
    "f1score = (2*precision*recall) /(precision+recall)\n",
    "index = np.argmax(f1score)\n",
    "precision[index],recall[index],threshold[index]"
   ]
  },
  {
   "cell_type": "code",
   "execution_count": 85,
   "id": "27e10af3",
   "metadata": {},
   "outputs": [
    {
     "data": {
      "text/plain": [
       "<AxesSubplot:xlabel='Threshold'>"
      ]
     },
     "execution_count": 85,
     "metadata": {},
     "output_type": "execute_result"
    },
    {
     "data": {
      "image/png": "[encoded data removed]",
      "text/plain": [
       "<Figure size 2160x720 with 1 Axes>"
      ]
     },
     "metadata": {
      "needs_background": "light"
     },
     "output_type": "display_data"
    }
   ],
   "source": [
    "pred_prob = classifier_LR.predict_proba(x_sam)[:,1]\n",
    "fpr,tpr,threshold = roc_curve(y_sam,pred_prob)\n",
    "df_1 = pd.DataFrame({\"Threshold\":threshold,\n",
    "                    \"FPR\":fpr,\n",
    "                    \"FNR\":1-tpr})\n",
    "df_1.plot(x=\"Threshold\",y=[\"FPR\",\"FNR\"],figsize=(30,10))"
   ]
  },
  {
   "cell_type": "code",
   "execution_count": 95,
   "id": "49230355",
   "metadata": {},
   "outputs": [
    {
     "name": "stdout",
     "output_type": "stream",
     "text": [
      "[[6696 7015]\n",
      " [ 455  482]]\n",
      "              precision    recall  f1-score   support\n",
      "\n",
      "           0       0.94      0.49      0.64     13711\n",
      "           1       0.06      0.51      0.11       937\n",
      "\n",
      "    accuracy                           0.49     14648\n",
      "   macro avg       0.50      0.50      0.38     14648\n",
      "weighted avg       0.88      0.49      0.61     14648\n",
      "\n"
     ]
    }
   ],
   "source": [
    "y_pred_proba_test = classifier_LR.predict_proba(x_test)[:,1]\n",
    "y_pred = np.where(y_pred_proba_test >=0.45,1,0)\n",
    "get_evaluation(y_test,y_pred)"
   ]
  },
  {
   "cell_type": "code",
   "execution_count": null,
   "id": "6edb88af",
   "metadata": {},
   "outputs": [],
   "source": [
    "# Normal\n",
    "           actual\n",
    "predicted [[TP FP]\n",
    "           [FN TN]]\n",
    "\n",
    "# sklearn\n",
    "        predicted\n",
    "actual  [[TN FP]\n",
    "         [FN TP]]"
   ]
  },
  {
   "cell_type": "markdown",
   "id": "5c7df455",
   "metadata": {},
   "source": [
    "### 2. KNN"
   ]
  },
  {
   "cell_type": "code",
   "execution_count": 99,
   "id": "f3e3679b",
   "metadata": {},
   "outputs": [],
   "source": [
    "df_knn = df1.copy()"
   ]
  },
  {
   "cell_type": "code",
   "execution_count": 100,
   "id": "5bbc4e7b",
   "metadata": {},
   "outputs": [],
   "source": [
    "std = StandardScaler()\n",
    "std_array = std.fit_transform(x_sam)\n",
    "x_sam_std = pd.DataFrame(std_array,columns=x_sam.columns)\n",
    "# x_sam_std.head()"
   ]
  },
  {
   "cell_type": "code",
   "execution_count": 101,
   "id": "caf74741",
   "metadata": {},
   "outputs": [
    {
     "data": {
      "text/html": [
       "<style>#sk-container-id-13 {color: black;background-color: white;}#sk-container-id-13 pre{padding: 0;}#sk-container-id-13 div.sk-toggleable {background-color: white;}#sk-container-id-13 label.sk-toggleable__label {cursor: pointer;display: block;width: 100%;margin-bottom: 0;padding: 0.3em;box-sizing: border-box;text-align: center;}#sk-container-id-13 label.sk-toggleable__label-arrow:before {content: \"▸\";float: left;margin-right: 0.25em;color: #696969;}#sk-container-id-13 label.sk-toggleable__label-arrow:hover:before {color: black;}#sk-container-id-13 div.sk-estimator:hover label.sk-toggleable__label-arrow:before {color: black;}#sk-container-id-13 div.sk-toggleable__content {max-height: 0;max-width: 0;overflow: hidden;text-align: left;background-color: #f0f8ff;}#sk-container-id-13 div.sk-toggleable__content pre {margin: 0.2em;color: black;border-radius: 0.25em;background-color: #f0f8ff;}#sk-container-id-13 input.sk-toggleable__control:checked~div.sk-toggleable__content {max-height: 200px;max-width: 100%;overflow: auto;}#sk-container-id-13 input.sk-toggleable__control:checked~label.sk-toggleable__label-arrow:before {content: \"▾\";}#sk-container-id-13 div.sk-estimator input.sk-toggleable__control:checked~label.sk-toggleable__label {background-color: #d4ebff;}#sk-container-id-13 div.sk-label input.sk-toggleable__control:checked~label.sk-toggleable__label {background-color: #d4ebff;}#sk-container-id-13 input.sk-hidden--visually {border: 0;clip: rect(1px 1px 1px 1px);clip: rect(1px, 1px, 1px, 1px);height: 1px;margin: -1px;overflow: hidden;padding: 0;position: absolute;width: 1px;}#sk-container-id-13 div.sk-estimator {font-family: monospace;background-color: #f0f8ff;border: 1px dotted black;border-radius: 0.25em;box-sizing: border-box;margin-bottom: 0.5em;}#sk-container-id-13 div.sk-estimator:hover {background-color: #d4ebff;}#sk-container-id-13 div.sk-parallel-item::after {content: \"\";width: 100%;border-bottom: 1px solid gray;flex-grow: 1;}#sk-container-id-13 div.sk-label:hover label.sk-toggleable__label {background-color: #d4ebff;}#sk-container-id-13 div.sk-serial::before {content: \"\";position: absolute;border-left: 1px solid gray;box-sizing: border-box;top: 0;bottom: 0;left: 50%;z-index: 0;}#sk-container-id-13 div.sk-serial {display: flex;flex-direction: column;align-items: center;background-color: white;padding-right: 0.2em;padding-left: 0.2em;position: relative;}#sk-container-id-13 div.sk-item {position: relative;z-index: 1;}#sk-container-id-13 div.sk-parallel {display: flex;align-items: stretch;justify-content: center;background-color: white;position: relative;}#sk-container-id-13 div.sk-item::before, #sk-container-id-13 div.sk-parallel-item::before {content: \"\";position: absolute;border-left: 1px solid gray;box-sizing: border-box;top: 0;bottom: 0;left: 50%;z-index: -1;}#sk-container-id-13 div.sk-parallel-item {display: flex;flex-direction: column;z-index: 1;position: relative;background-color: white;}#sk-container-id-13 div.sk-parallel-item:first-child::after {align-self: flex-end;width: 50%;}#sk-container-id-13 div.sk-parallel-item:last-child::after {align-self: flex-start;width: 50%;}#sk-container-id-13 div.sk-parallel-item:only-child::after {width: 0;}#sk-container-id-13 div.sk-dashed-wrapped {border: 1px dashed gray;margin: 0 0.4em 0.5em 0.4em;box-sizing: border-box;padding-bottom: 0.4em;background-color: white;}#sk-container-id-13 div.sk-label label {font-family: monospace;font-weight: bold;display: inline-block;line-height: 1.2em;}#sk-container-id-13 div.sk-label-container {text-align: center;}#sk-container-id-13 div.sk-container {/* jupyter's `normalize.less` sets `[hidden] { display: none; }` but bootstrap.min.css set `[hidden] { display: none !important; }` so we also need the `!important` here to be able to override the default hidden behavior on the sphinx rendered scikit-learn.org. See: https://github.com/scikit-learn/scikit-learn/issues/21755 */display: inline-block !important;position: relative;}#sk-container-id-13 div.sk-text-repr-fallback {display: none;}</style><div id=\"sk-container-id-13\" class=\"sk-top-container\"><div class=\"sk-text-repr-fallback\"><pre>KNeighborsClassifier()</pre><b>In a Jupyter environment, please rerun this cell to show the HTML representation or trust the notebook. <br />On GitHub, the HTML representation is unable to render, please try loading this page with nbviewer.org.</b></div><div class=\"sk-container\" hidden><div class=\"sk-item\"><div class=\"sk-estimator sk-toggleable\"><input class=\"sk-toggleable__control sk-hidden--visually\" id=\"sk-estimator-id-13\" type=\"checkbox\" checked><label for=\"sk-estimator-id-13\" class=\"sk-toggleable__label sk-toggleable__label-arrow\">KNeighborsClassifier</label><div class=\"sk-toggleable__content\"><pre>KNeighborsClassifier()</pre></div></div></div></div></div>"
      ],
      "text/plain": [
       "KNeighborsClassifier()"
      ]
     },
     "execution_count": 101,
     "metadata": {},
     "output_type": "execute_result"
    }
   ],
   "source": [
    "classifier_KNN = KNeighborsClassifier()\n",
    "classifier_KNN.fit(x_sam_std,y_sam)"
   ]
  },
  {
   "cell_type": "code",
   "execution_count": 102,
   "id": "4acbead1",
   "metadata": {},
   "outputs": [
    {
     "name": "stdout",
     "output_type": "stream",
     "text": [
      "[[33440  7693]\n",
      " [ 2086 30820]]\n",
      "              precision    recall  f1-score   support\n",
      "\n",
      "           0       0.94      0.81      0.87     41133\n",
      "           1       0.80      0.94      0.86     32906\n",
      "\n",
      "    accuracy                           0.87     74039\n",
      "   macro avg       0.87      0.87      0.87     74039\n",
      "weighted avg       0.88      0.87      0.87     74039\n",
      "\n"
     ]
    }
   ],
   "source": [
    "y_pred = classifier_KNN.predict(x_sam_std)\n",
    "get_evaluation(y_sam,y_pred)"
   ]
  },
  {
   "cell_type": "code",
   "execution_count": 107,
   "id": "c7176937",
   "metadata": {},
   "outputs": [
    {
     "name": "stdout",
     "output_type": "stream",
     "text": [
      "[[10066  3645]\n",
      " [  632   305]]\n",
      "              precision    recall  f1-score   support\n",
      "\n",
      "           0       0.94      0.73      0.82     13711\n",
      "           1       0.08      0.33      0.12       937\n",
      "\n",
      "    accuracy                           0.71     14648\n",
      "   macro avg       0.51      0.53      0.47     14648\n",
      "weighted avg       0.89      0.71      0.78     14648\n",
      "\n"
     ]
    }
   ],
   "source": [
    "std_array = std.transform(x_test)\n",
    "x_std_df  = pd.DataFrame(std_array,columns = x_test.columns)\n",
    "y_pred = classifier_KNN.predict(x_std_df)\n",
    "get_evaluation(y_test,y_pred)"
   ]
  },
  {
   "cell_type": "markdown",
   "id": "3544e222",
   "metadata": {},
   "source": [
    "#### HyperParamater Tuning"
   ]
  },
  {
   "cell_type": "code",
   "execution_count": 109,
   "id": "ec9c57b9",
   "metadata": {},
   "outputs": [
    {
     "data": {
      "text/html": [
       "<style>#sk-container-id-14 {color: black;background-color: white;}#sk-container-id-14 pre{padding: 0;}#sk-container-id-14 div.sk-toggleable {background-color: white;}#sk-container-id-14 label.sk-toggleable__label {cursor: pointer;display: block;width: 100%;margin-bottom: 0;padding: 0.3em;box-sizing: border-box;text-align: center;}#sk-container-id-14 label.sk-toggleable__label-arrow:before {content: \"▸\";float: left;margin-right: 0.25em;color: #696969;}#sk-container-id-14 label.sk-toggleable__label-arrow:hover:before {color: black;}#sk-container-id-14 div.sk-estimator:hover label.sk-toggleable__label-arrow:before {color: black;}#sk-container-id-14 div.sk-toggleable__content {max-height: 0;max-width: 0;overflow: hidden;text-align: left;background-color: #f0f8ff;}#sk-container-id-14 div.sk-toggleable__content pre {margin: 0.2em;color: black;border-radius: 0.25em;background-color: #f0f8ff;}#sk-container-id-14 input.sk-toggleable__control:checked~div.sk-toggleable__content {max-height: 200px;max-width: 100%;overflow: auto;}#sk-container-id-14 input.sk-toggleable__control:checked~label.sk-toggleable__label-arrow:before {content: \"▾\";}#sk-container-id-14 div.sk-estimator input.sk-toggleable__control:checked~label.sk-toggleable__label {background-color: #d4ebff;}#sk-container-id-14 div.sk-label input.sk-toggleable__control:checked~label.sk-toggleable__label {background-color: #d4ebff;}#sk-container-id-14 input.sk-hidden--visually {border: 0;clip: rect(1px 1px 1px 1px);clip: rect(1px, 1px, 1px, 1px);height: 1px;margin: -1px;overflow: hidden;padding: 0;position: absolute;width: 1px;}#sk-container-id-14 div.sk-estimator {font-family: monospace;background-color: #f0f8ff;border: 1px dotted black;border-radius: 0.25em;box-sizing: border-box;margin-bottom: 0.5em;}#sk-container-id-14 div.sk-estimator:hover {background-color: #d4ebff;}#sk-container-id-14 div.sk-parallel-item::after {content: \"\";width: 100%;border-bottom: 1px solid gray;flex-grow: 1;}#sk-container-id-14 div.sk-label:hover label.sk-toggleable__label {background-color: #d4ebff;}#sk-container-id-14 div.sk-serial::before {content: \"\";position: absolute;border-left: 1px solid gray;box-sizing: border-box;top: 0;bottom: 0;left: 50%;z-index: 0;}#sk-container-id-14 div.sk-serial {display: flex;flex-direction: column;align-items: center;background-color: white;padding-right: 0.2em;padding-left: 0.2em;position: relative;}#sk-container-id-14 div.sk-item {position: relative;z-index: 1;}#sk-container-id-14 div.sk-parallel {display: flex;align-items: stretch;justify-content: center;background-color: white;position: relative;}#sk-container-id-14 div.sk-item::before, #sk-container-id-14 div.sk-parallel-item::before {content: \"\";position: absolute;border-left: 1px solid gray;box-sizing: border-box;top: 0;bottom: 0;left: 50%;z-index: -1;}#sk-container-id-14 div.sk-parallel-item {display: flex;flex-direction: column;z-index: 1;position: relative;background-color: white;}#sk-container-id-14 div.sk-parallel-item:first-child::after {align-self: flex-end;width: 50%;}#sk-container-id-14 div.sk-parallel-item:last-child::after {align-self: flex-start;width: 50%;}#sk-container-id-14 div.sk-parallel-item:only-child::after {width: 0;}#sk-container-id-14 div.sk-dashed-wrapped {border: 1px dashed gray;margin: 0 0.4em 0.5em 0.4em;box-sizing: border-box;padding-bottom: 0.4em;background-color: white;}#sk-container-id-14 div.sk-label label {font-family: monospace;font-weight: bold;display: inline-block;line-height: 1.2em;}#sk-container-id-14 div.sk-label-container {text-align: center;}#sk-container-id-14 div.sk-container {/* jupyter's `normalize.less` sets `[hidden] { display: none; }` but bootstrap.min.css set `[hidden] { display: none !important; }` so we also need the `!important` here to be able to override the default hidden behavior on the sphinx rendered scikit-learn.org. See: https://github.com/scikit-learn/scikit-learn/issues/21755 */display: inline-block !important;position: relative;}#sk-container-id-14 div.sk-text-repr-fallback {display: none;}</style><div id=\"sk-container-id-14\" class=\"sk-top-container\"><div class=\"sk-text-repr-fallback\"><pre>KNeighborsClassifier(n_neighbors=3, p=1)</pre><b>In a Jupyter environment, please rerun this cell to show the HTML representation or trust the notebook. <br />On GitHub, the HTML representation is unable to render, please try loading this page with nbviewer.org.</b></div><div class=\"sk-container\" hidden><div class=\"sk-item\"><div class=\"sk-estimator sk-toggleable\"><input class=\"sk-toggleable__control sk-hidden--visually\" id=\"sk-estimator-id-14\" type=\"checkbox\" checked><label for=\"sk-estimator-id-14\" class=\"sk-toggleable__label sk-toggleable__label-arrow\">KNeighborsClassifier</label><div class=\"sk-toggleable__content\"><pre>KNeighborsClassifier(n_neighbors=3, p=1)</pre></div></div></div></div></div>"
      ],
      "text/plain": [
       "KNeighborsClassifier(n_neighbors=3, p=1)"
      ]
     },
     "execution_count": 109,
     "metadata": {},
     "output_type": "execute_result"
    }
   ],
   "source": [
    "gridSCV = RandomizedSearchCV(classifier_KNN,\n",
    "                      {'n_neighbors':np.arange(3,10),\n",
    "                      'p':[1,2]},\n",
    "                      cv=5)\n",
    "gridSCV.fit(x_sam_std,y_sam)\n",
    "gridSCV.best_estimator_"
   ]
  },
  {
   "cell_type": "code",
   "execution_count": 110,
   "id": "639fedb2",
   "metadata": {},
   "outputs": [
    {
     "data": {
      "text/html": [
       "<style>#sk-container-id-15 {color: black;background-color: white;}#sk-container-id-15 pre{padding: 0;}#sk-container-id-15 div.sk-toggleable {background-color: white;}#sk-container-id-15 label.sk-toggleable__label {cursor: pointer;display: block;width: 100%;margin-bottom: 0;padding: 0.3em;box-sizing: border-box;text-align: center;}#sk-container-id-15 label.sk-toggleable__label-arrow:before {content: \"▸\";float: left;margin-right: 0.25em;color: #696969;}#sk-container-id-15 label.sk-toggleable__label-arrow:hover:before {color: black;}#sk-container-id-15 div.sk-estimator:hover label.sk-toggleable__label-arrow:before {color: black;}#sk-container-id-15 div.sk-toggleable__content {max-height: 0;max-width: 0;overflow: hidden;text-align: left;background-color: #f0f8ff;}#sk-container-id-15 div.sk-toggleable__content pre {margin: 0.2em;color: black;border-radius: 0.25em;background-color: #f0f8ff;}#sk-container-id-15 input.sk-toggleable__control:checked~div.sk-toggleable__content {max-height: 200px;max-width: 100%;overflow: auto;}#sk-container-id-15 input.sk-toggleable__control:checked~label.sk-toggleable__label-arrow:before {content: \"▾\";}#sk-container-id-15 div.sk-estimator input.sk-toggleable__control:checked~label.sk-toggleable__label {background-color: #d4ebff;}#sk-container-id-15 div.sk-label input.sk-toggleable__control:checked~label.sk-toggleable__label {background-color: #d4ebff;}#sk-container-id-15 input.sk-hidden--visually {border: 0;clip: rect(1px 1px 1px 1px);clip: rect(1px, 1px, 1px, 1px);height: 1px;margin: -1px;overflow: hidden;padding: 0;position: absolute;width: 1px;}#sk-container-id-15 div.sk-estimator {font-family: monospace;background-color: #f0f8ff;border: 1px dotted black;border-radius: 0.25em;box-sizing: border-box;margin-bottom: 0.5em;}#sk-container-id-15 div.sk-estimator:hover {background-color: #d4ebff;}#sk-container-id-15 div.sk-parallel-item::after {content: \"\";width: 100%;border-bottom: 1px solid gray;flex-grow: 1;}#sk-container-id-15 div.sk-label:hover label.sk-toggleable__label {background-color: #d4ebff;}#sk-container-id-15 div.sk-serial::before {content: \"\";position: absolute;border-left: 1px solid gray;box-sizing: border-box;top: 0;bottom: 0;left: 50%;z-index: 0;}#sk-container-id-15 div.sk-serial {display: flex;flex-direction: column;align-items: center;background-color: white;padding-right: 0.2em;padding-left: 0.2em;position: relative;}#sk-container-id-15 div.sk-item {position: relative;z-index: 1;}#sk-container-id-15 div.sk-parallel {display: flex;align-items: stretch;justify-content: center;background-color: white;position: relative;}#sk-container-id-15 div.sk-item::before, #sk-container-id-15 div.sk-parallel-item::before {content: \"\";position: absolute;border-left: 1px solid gray;box-sizing: border-box;top: 0;bottom: 0;left: 50%;z-index: -1;}#sk-container-id-15 div.sk-parallel-item {display: flex;flex-direction: column;z-index: 1;position: relative;background-color: white;}#sk-container-id-15 div.sk-parallel-item:first-child::after {align-self: flex-end;width: 50%;}#sk-container-id-15 div.sk-parallel-item:last-child::after {align-self: flex-start;width: 50%;}#sk-container-id-15 div.sk-parallel-item:only-child::after {width: 0;}#sk-container-id-15 div.sk-dashed-wrapped {border: 1px dashed gray;margin: 0 0.4em 0.5em 0.4em;box-sizing: border-box;padding-bottom: 0.4em;background-color: white;}#sk-container-id-15 div.sk-label label {font-family: monospace;font-weight: bold;display: inline-block;line-height: 1.2em;}#sk-container-id-15 div.sk-label-container {text-align: center;}#sk-container-id-15 div.sk-container {/* jupyter's `normalize.less` sets `[hidden] { display: none; }` but bootstrap.min.css set `[hidden] { display: none !important; }` so we also need the `!important` here to be able to override the default hidden behavior on the sphinx rendered scikit-learn.org. See: https://github.com/scikit-learn/scikit-learn/issues/21755 */display: inline-block !important;position: relative;}#sk-container-id-15 div.sk-text-repr-fallback {display: none;}</style><div id=\"sk-container-id-15\" class=\"sk-top-container\"><div class=\"sk-text-repr-fallback\"><pre>KNeighborsClassifier(n_neighbors=3, p=1)</pre><b>In a Jupyter environment, please rerun this cell to show the HTML representation or trust the notebook. <br />On GitHub, the HTML representation is unable to render, please try loading this page with nbviewer.org.</b></div><div class=\"sk-container\" hidden><div class=\"sk-item\"><div class=\"sk-estimator sk-toggleable\"><input class=\"sk-toggleable__control sk-hidden--visually\" id=\"sk-estimator-id-15\" type=\"checkbox\" checked><label for=\"sk-estimator-id-15\" class=\"sk-toggleable__label sk-toggleable__label-arrow\">KNeighborsClassifier</label><div class=\"sk-toggleable__content\"><pre>KNeighborsClassifier(n_neighbors=3, p=1)</pre></div></div></div></div></div>"
      ],
      "text/plain": [
       "KNeighborsClassifier(n_neighbors=3, p=1)"
      ]
     },
     "execution_count": 110,
     "metadata": {},
     "output_type": "execute_result"
    }
   ],
   "source": [
    "classifier_KNN = KNeighborsClassifier(n_neighbors=3, p=1)\n",
    "classifier_KNN.fit(x_sam_std,y_sam)"
   ]
  },
  {
   "cell_type": "code",
   "execution_count": 111,
   "id": "1ab86a36",
   "metadata": {},
   "outputs": [
    {
     "name": "stdout",
     "output_type": "stream",
     "text": [
      "[[36468  4665]\n",
      " [ 1406 31500]]\n",
      "              precision    recall  f1-score   support\n",
      "\n",
      "           0       0.96      0.89      0.92     41133\n",
      "           1       0.87      0.96      0.91     32906\n",
      "\n",
      "    accuracy                           0.92     74039\n",
      "   macro avg       0.92      0.92      0.92     74039\n",
      "weighted avg       0.92      0.92      0.92     74039\n",
      "\n"
     ]
    }
   ],
   "source": [
    "# Training\n",
    "y_pred = classifier_KNN.predict(x_sam_std)\n",
    "get_evaluation(y_sam,y_pred)"
   ]
  },
  {
   "cell_type": "code",
   "execution_count": 112,
   "id": "92a3e62d",
   "metadata": {},
   "outputs": [
    {
     "name": "stdout",
     "output_type": "stream",
     "text": [
      "[[10693  3018]\n",
      " [  701   236]]\n",
      "              precision    recall  f1-score   support\n",
      "\n",
      "           0       0.94      0.78      0.85     13711\n",
      "           1       0.07      0.25      0.11       937\n",
      "\n",
      "    accuracy                           0.75     14648\n",
      "   macro avg       0.51      0.52      0.48     14648\n",
      "weighted avg       0.88      0.75      0.80     14648\n",
      "\n"
     ]
    }
   ],
   "source": [
    "# Testing\n",
    "std_array = std.transform(x_test)\n",
    "x_std_df  = pd.DataFrame(std_array,columns = x_test.columns)\n",
    "y_pred = classifier_KNN.predict(x_std_df)\n",
    "get_evaluation(y_test,y_pred)"
   ]
  },
  {
   "cell_type": "markdown",
   "id": "bc4bdb7e",
   "metadata": {},
   "source": [
    "### 3. Decision Tree"
   ]
  },
  {
   "cell_type": "code",
   "execution_count": 113,
   "id": "dc05e3cc",
   "metadata": {},
   "outputs": [],
   "source": [
    "df_DT = df1.copy()\n",
    "x = df_DT.drop('is_claim',axis=1)\n",
    "y = df_DT['is_claim']\n",
    "x_train,x_test,y_train,y_test = train_test_split(x,y,test_size=0.25,random_state=45,stratify=y)"
   ]
  },
  {
   "cell_type": "code",
   "execution_count": 114,
   "id": "4b6a47ae",
   "metadata": {},
   "outputs": [
    {
     "data": {
      "text/html": [
       "<style>#sk-container-id-16 {color: black;background-color: white;}#sk-container-id-16 pre{padding: 0;}#sk-container-id-16 div.sk-toggleable {background-color: white;}#sk-container-id-16 label.sk-toggleable__label {cursor: pointer;display: block;width: 100%;margin-bottom: 0;padding: 0.3em;box-sizing: border-box;text-align: center;}#sk-container-id-16 label.sk-toggleable__label-arrow:before {content: \"▸\";float: left;margin-right: 0.25em;color: #696969;}#sk-container-id-16 label.sk-toggleable__label-arrow:hover:before {color: black;}#sk-container-id-16 div.sk-estimator:hover label.sk-toggleable__label-arrow:before {color: black;}#sk-container-id-16 div.sk-toggleable__content {max-height: 0;max-width: 0;overflow: hidden;text-align: left;background-color: #f0f8ff;}#sk-container-id-16 div.sk-toggleable__content pre {margin: 0.2em;color: black;border-radius: 0.25em;background-color: #f0f8ff;}#sk-container-id-16 input.sk-toggleable__control:checked~div.sk-toggleable__content {max-height: 200px;max-width: 100%;overflow: auto;}#sk-container-id-16 input.sk-toggleable__control:checked~label.sk-toggleable__label-arrow:before {content: \"▾\";}#sk-container-id-16 div.sk-estimator input.sk-toggleable__control:checked~label.sk-toggleable__label {background-color: #d4ebff;}#sk-container-id-16 div.sk-label input.sk-toggleable__control:checked~label.sk-toggleable__label {background-color: #d4ebff;}#sk-container-id-16 input.sk-hidden--visually {border: 0;clip: rect(1px 1px 1px 1px);clip: rect(1px, 1px, 1px, 1px);height: 1px;margin: -1px;overflow: hidden;padding: 0;position: absolute;width: 1px;}#sk-container-id-16 div.sk-estimator {font-family: monospace;background-color: #f0f8ff;border: 1px dotted black;border-radius: 0.25em;box-sizing: border-box;margin-bottom: 0.5em;}#sk-container-id-16 div.sk-estimator:hover {background-color: #d4ebff;}#sk-container-id-16 div.sk-parallel-item::after {content: \"\";width: 100%;border-bottom: 1px solid gray;flex-grow: 1;}#sk-container-id-16 div.sk-label:hover label.sk-toggleable__label {background-color: #d4ebff;}#sk-container-id-16 div.sk-serial::before {content: \"\";position: absolute;border-left: 1px solid gray;box-sizing: border-box;top: 0;bottom: 0;left: 50%;z-index: 0;}#sk-container-id-16 div.sk-serial {display: flex;flex-direction: column;align-items: center;background-color: white;padding-right: 0.2em;padding-left: 0.2em;position: relative;}#sk-container-id-16 div.sk-item {position: relative;z-index: 1;}#sk-container-id-16 div.sk-parallel {display: flex;align-items: stretch;justify-content: center;background-color: white;position: relative;}#sk-container-id-16 div.sk-item::before, #sk-container-id-16 div.sk-parallel-item::before {content: \"\";position: absolute;border-left: 1px solid gray;box-sizing: border-box;top: 0;bottom: 0;left: 50%;z-index: -1;}#sk-container-id-16 div.sk-parallel-item {display: flex;flex-direction: column;z-index: 1;position: relative;background-color: white;}#sk-container-id-16 div.sk-parallel-item:first-child::after {align-self: flex-end;width: 50%;}#sk-container-id-16 div.sk-parallel-item:last-child::after {align-self: flex-start;width: 50%;}#sk-container-id-16 div.sk-parallel-item:only-child::after {width: 0;}#sk-container-id-16 div.sk-dashed-wrapped {border: 1px dashed gray;margin: 0 0.4em 0.5em 0.4em;box-sizing: border-box;padding-bottom: 0.4em;background-color: white;}#sk-container-id-16 div.sk-label label {font-family: monospace;font-weight: bold;display: inline-block;line-height: 1.2em;}#sk-container-id-16 div.sk-label-container {text-align: center;}#sk-container-id-16 div.sk-container {/* jupyter's `normalize.less` sets `[hidden] { display: none; }` but bootstrap.min.css set `[hidden] { display: none !important; }` so we also need the `!important` here to be able to override the default hidden behavior on the sphinx rendered scikit-learn.org. See: https://github.com/scikit-learn/scikit-learn/issues/21755 */display: inline-block !important;position: relative;}#sk-container-id-16 div.sk-text-repr-fallback {display: none;}</style><div id=\"sk-container-id-16\" class=\"sk-top-container\"><div class=\"sk-text-repr-fallback\"><pre>DecisionTreeClassifier()</pre><b>In a Jupyter environment, please rerun this cell to show the HTML representation or trust the notebook. <br />On GitHub, the HTML representation is unable to render, please try loading this page with nbviewer.org.</b></div><div class=\"sk-container\" hidden><div class=\"sk-item\"><div class=\"sk-estimator sk-toggleable\"><input class=\"sk-toggleable__control sk-hidden--visually\" id=\"sk-estimator-id-16\" type=\"checkbox\" checked><label for=\"sk-estimator-id-16\" class=\"sk-toggleable__label sk-toggleable__label-arrow\">DecisionTreeClassifier</label><div class=\"sk-toggleable__content\"><pre>DecisionTreeClassifier()</pre></div></div></div></div></div>"
      ],
      "text/plain": [
       "DecisionTreeClassifier()"
      ]
     },
     "execution_count": 114,
     "metadata": {},
     "output_type": "execute_result"
    }
   ],
   "source": [
    "classifier_DT = DecisionTreeClassifier()\n",
    "classifier_DT.fit(x_train,y_train)"
   ]
  },
  {
   "cell_type": "code",
   "execution_count": 119,
   "id": "571fa0c2",
   "metadata": {},
   "outputs": [
    {
     "name": "stdout",
     "output_type": "stream",
     "text": [
      "[[41133     0]\n",
      " [    0  2811]]\n",
      "              precision    recall  f1-score   support\n",
      "\n",
      "           0       1.00      1.00      1.00     41133\n",
      "           1       1.00      1.00      1.00      2811\n",
      "\n",
      "    accuracy                           1.00     43944\n",
      "   macro avg       1.00      1.00      1.00     43944\n",
      "weighted avg       1.00      1.00      1.00     43944\n",
      "\n"
     ]
    }
   ],
   "source": [
    "# Training\n",
    "y_pred = classifier_DT.predict(x_train)\n",
    "get_evaluation(y_train,y_pred)"
   ]
  },
  {
   "cell_type": "code",
   "execution_count": 120,
   "id": "acc83662",
   "metadata": {},
   "outputs": [
    {
     "name": "stdout",
     "output_type": "stream",
     "text": [
      "[[12601  1110]\n",
      " [  839    98]]\n",
      "              precision    recall  f1-score   support\n",
      "\n",
      "           0       0.94      0.92      0.93     13711\n",
      "           1       0.08      0.10      0.09       937\n",
      "\n",
      "    accuracy                           0.87     14648\n",
      "   macro avg       0.51      0.51      0.51     14648\n",
      "weighted avg       0.88      0.87      0.87     14648\n",
      "\n"
     ]
    }
   ],
   "source": [
    "# Testing\n",
    "y_pred = classifier_DT.predict(x_test)\n",
    "get_evaluation(y_test,y_pred)"
   ]
  },
  {
   "cell_type": "code",
   "execution_count": null,
   "id": "59c651b7",
   "metadata": {},
   "outputs": [],
   "source": [
    "# gridSCV  = GridSearchCV(classifier_DT,\n",
    "#                        {'criterion':['gini','entropy'],\n",
    "#                        'min_samples_split':np.arange(2,11),\n",
    "#                        'min_samples_leaf':np.arange(2,11),\n",
    "#                        'max_depth':np.arange(2,8)},\n",
    "#                        cv=5)\n",
    "# gridSCV.fit(x_train,y_train)\n",
    "# gridSCV.best_estimator_"
   ]
  },
  {
   "cell_type": "markdown",
   "id": "bddcbd1f",
   "metadata": {},
   "source": [
    "### 4. Random Forest"
   ]
  },
  {
   "cell_type": "code",
   "execution_count": 126,
   "id": "da5c5cfb",
   "metadata": {},
   "outputs": [
    {
     "data": {
      "text/html": [
       "<style>#sk-container-id-18 {color: black;background-color: white;}#sk-container-id-18 pre{padding: 0;}#sk-container-id-18 div.sk-toggleable {background-color: white;}#sk-container-id-18 label.sk-toggleable__label {cursor: pointer;display: block;width: 100%;margin-bottom: 0;padding: 0.3em;box-sizing: border-box;text-align: center;}#sk-container-id-18 label.sk-toggleable__label-arrow:before {content: \"▸\";float: left;margin-right: 0.25em;color: #696969;}#sk-container-id-18 label.sk-toggleable__label-arrow:hover:before {color: black;}#sk-container-id-18 div.sk-estimator:hover label.sk-toggleable__label-arrow:before {color: black;}#sk-container-id-18 div.sk-toggleable__content {max-height: 0;max-width: 0;overflow: hidden;text-align: left;background-color: #f0f8ff;}#sk-container-id-18 div.sk-toggleable__content pre {margin: 0.2em;color: black;border-radius: 0.25em;background-color: #f0f8ff;}#sk-container-id-18 input.sk-toggleable__control:checked~div.sk-toggleable__content {max-height: 200px;max-width: 100%;overflow: auto;}#sk-container-id-18 input.sk-toggleable__control:checked~label.sk-toggleable__label-arrow:before {content: \"▾\";}#sk-container-id-18 div.sk-estimator input.sk-toggleable__control:checked~label.sk-toggleable__label {background-color: #d4ebff;}#sk-container-id-18 div.sk-label input.sk-toggleable__control:checked~label.sk-toggleable__label {background-color: #d4ebff;}#sk-container-id-18 input.sk-hidden--visually {border: 0;clip: rect(1px 1px 1px 1px);clip: rect(1px, 1px, 1px, 1px);height: 1px;margin: -1px;overflow: hidden;padding: 0;position: absolute;width: 1px;}#sk-container-id-18 div.sk-estimator {font-family: monospace;background-color: #f0f8ff;border: 1px dotted black;border-radius: 0.25em;box-sizing: border-box;margin-bottom: 0.5em;}#sk-container-id-18 div.sk-estimator:hover {background-color: #d4ebff;}#sk-container-id-18 div.sk-parallel-item::after {content: \"\";width: 100%;border-bottom: 1px solid gray;flex-grow: 1;}#sk-container-id-18 div.sk-label:hover label.sk-toggleable__label {background-color: #d4ebff;}#sk-container-id-18 div.sk-serial::before {content: \"\";position: absolute;border-left: 1px solid gray;box-sizing: border-box;top: 0;bottom: 0;left: 50%;z-index: 0;}#sk-container-id-18 div.sk-serial {display: flex;flex-direction: column;align-items: center;background-color: white;padding-right: 0.2em;padding-left: 0.2em;position: relative;}#sk-container-id-18 div.sk-item {position: relative;z-index: 1;}#sk-container-id-18 div.sk-parallel {display: flex;align-items: stretch;justify-content: center;background-color: white;position: relative;}#sk-container-id-18 div.sk-item::before, #sk-container-id-18 div.sk-parallel-item::before {content: \"\";position: absolute;border-left: 1px solid gray;box-sizing: border-box;top: 0;bottom: 0;left: 50%;z-index: -1;}#sk-container-id-18 div.sk-parallel-item {display: flex;flex-direction: column;z-index: 1;position: relative;background-color: white;}#sk-container-id-18 div.sk-parallel-item:first-child::after {align-self: flex-end;width: 50%;}#sk-container-id-18 div.sk-parallel-item:last-child::after {align-self: flex-start;width: 50%;}#sk-container-id-18 div.sk-parallel-item:only-child::after {width: 0;}#sk-container-id-18 div.sk-dashed-wrapped {border: 1px dashed gray;margin: 0 0.4em 0.5em 0.4em;box-sizing: border-box;padding-bottom: 0.4em;background-color: white;}#sk-container-id-18 div.sk-label label {font-family: monospace;font-weight: bold;display: inline-block;line-height: 1.2em;}#sk-container-id-18 div.sk-label-container {text-align: center;}#sk-container-id-18 div.sk-container {/* jupyter's `normalize.less` sets `[hidden] { display: none; }` but bootstrap.min.css set `[hidden] { display: none !important; }` so we also need the `!important` here to be able to override the default hidden behavior on the sphinx rendered scikit-learn.org. See: https://github.com/scikit-learn/scikit-learn/issues/21755 */display: inline-block !important;position: relative;}#sk-container-id-18 div.sk-text-repr-fallback {display: none;}</style><div id=\"sk-container-id-18\" class=\"sk-top-container\"><div class=\"sk-text-repr-fallback\"><pre>RandomForestClassifier()</pre><b>In a Jupyter environment, please rerun this cell to show the HTML representation or trust the notebook. <br />On GitHub, the HTML representation is unable to render, please try loading this page with nbviewer.org.</b></div><div class=\"sk-container\" hidden><div class=\"sk-item\"><div class=\"sk-estimator sk-toggleable\"><input class=\"sk-toggleable__control sk-hidden--visually\" id=\"sk-estimator-id-18\" type=\"checkbox\" checked><label for=\"sk-estimator-id-18\" class=\"sk-toggleable__label sk-toggleable__label-arrow\">RandomForestClassifier</label><div class=\"sk-toggleable__content\"><pre>RandomForestClassifier()</pre></div></div></div></div></div>"
      ],
      "text/plain": [
       "RandomForestClassifier()"
      ]
     },
     "execution_count": 126,
     "metadata": {},
     "output_type": "execute_result"
    }
   ],
   "source": [
    "classifier_RF = RandomForestClassifier()\n",
    "classifier_RF.fit(x_sam,y_sam)"
   ]
  },
  {
   "cell_type": "code",
   "execution_count": 127,
   "id": "3cbe2680",
   "metadata": {},
   "outputs": [
    {
     "name": "stdout",
     "output_type": "stream",
     "text": [
      "[[41133     0]\n",
      " [    0 32906]]\n",
      "              precision    recall  f1-score   support\n",
      "\n",
      "           0       1.00      1.00      1.00     41133\n",
      "           1       1.00      1.00      1.00     32906\n",
      "\n",
      "    accuracy                           1.00     74039\n",
      "   macro avg       1.00      1.00      1.00     74039\n",
      "weighted avg       1.00      1.00      1.00     74039\n",
      "\n"
     ]
    }
   ],
   "source": [
    "# Training Data\n",
    "y_pred = classifier_RF.predict(x_sam)\n",
    "get_evaluation(y_sam,y_pred)"
   ]
  },
  {
   "cell_type": "code",
   "execution_count": 129,
   "id": "3405ff49",
   "metadata": {},
   "outputs": [
    {
     "name": "stdout",
     "output_type": "stream",
     "text": [
      "[[12637  1074]\n",
      " [  828   109]]\n",
      "              precision    recall  f1-score   support\n",
      "\n",
      "           0       0.94      0.92      0.93     13711\n",
      "           1       0.09      0.12      0.10       937\n",
      "\n",
      "    accuracy                           0.87     14648\n",
      "   macro avg       0.52      0.52      0.52     14648\n",
      "weighted avg       0.88      0.87      0.88     14648\n",
      "\n"
     ]
    }
   ],
   "source": [
    "# Testing Data\n",
    "y_pred = classifier_RF.predict(x_test)\n",
    "get_evaluation(y_test,y_pred)"
   ]
  },
  {
   "cell_type": "code",
   "execution_count": null,
   "id": "6baa8e5c",
   "metadata": {},
   "outputs": [],
   "source": [
    "# randSCV = RandomizedSearchCV(classifier_RF,\n",
    "#                       {'n_estimators':np.arange(10,21),\n",
    "#                        'criterion':['gini','entropy'],\n",
    "#                        'max_depth':np.arange(2,11),\n",
    "#                        'min_samples_split':np.arange(2,11),\n",
    "#                        'min_samples_leaf':np.arange(2,11),\n",
    "#                        'random_state':[41,42,43,44,45]},\n",
    "#                       cv=5)\n",
    "# randSCV.fit(x_train,y_train)\n",
    "# randSCV.best_estimator_"
   ]
  },
  {
   "cell_type": "markdown",
   "id": "ced042b3",
   "metadata": {},
   "source": [
    "### 5. AdaBoost"
   ]
  },
  {
   "cell_type": "code",
   "execution_count": 130,
   "id": "378e4da3",
   "metadata": {},
   "outputs": [
    {
     "data": {
      "text/html": [
       "<style>#sk-container-id-19 {color: black;background-color: white;}#sk-container-id-19 pre{padding: 0;}#sk-container-id-19 div.sk-toggleable {background-color: white;}#sk-container-id-19 label.sk-toggleable__label {cursor: pointer;display: block;width: 100%;margin-bottom: 0;padding: 0.3em;box-sizing: border-box;text-align: center;}#sk-container-id-19 label.sk-toggleable__label-arrow:before {content: \"▸\";float: left;margin-right: 0.25em;color: #696969;}#sk-container-id-19 label.sk-toggleable__label-arrow:hover:before {color: black;}#sk-container-id-19 div.sk-estimator:hover label.sk-toggleable__label-arrow:before {color: black;}#sk-container-id-19 div.sk-toggleable__content {max-height: 0;max-width: 0;overflow: hidden;text-align: left;background-color: #f0f8ff;}#sk-container-id-19 div.sk-toggleable__content pre {margin: 0.2em;color: black;border-radius: 0.25em;background-color: #f0f8ff;}#sk-container-id-19 input.sk-toggleable__control:checked~div.sk-toggleable__content {max-height: 200px;max-width: 100%;overflow: auto;}#sk-container-id-19 input.sk-toggleable__control:checked~label.sk-toggleable__label-arrow:before {content: \"▾\";}#sk-container-id-19 div.sk-estimator input.sk-toggleable__control:checked~label.sk-toggleable__label {background-color: #d4ebff;}#sk-container-id-19 div.sk-label input.sk-toggleable__control:checked~label.sk-toggleable__label {background-color: #d4ebff;}#sk-container-id-19 input.sk-hidden--visually {border: 0;clip: rect(1px 1px 1px 1px);clip: rect(1px, 1px, 1px, 1px);height: 1px;margin: -1px;overflow: hidden;padding: 0;position: absolute;width: 1px;}#sk-container-id-19 div.sk-estimator {font-family: monospace;background-color: #f0f8ff;border: 1px dotted black;border-radius: 0.25em;box-sizing: border-box;margin-bottom: 0.5em;}#sk-container-id-19 div.sk-estimator:hover {background-color: #d4ebff;}#sk-container-id-19 div.sk-parallel-item::after {content: \"\";width: 100%;border-bottom: 1px solid gray;flex-grow: 1;}#sk-container-id-19 div.sk-label:hover label.sk-toggleable__label {background-color: #d4ebff;}#sk-container-id-19 div.sk-serial::before {content: \"\";position: absolute;border-left: 1px solid gray;box-sizing: border-box;top: 0;bottom: 0;left: 50%;z-index: 0;}#sk-container-id-19 div.sk-serial {display: flex;flex-direction: column;align-items: center;background-color: white;padding-right: 0.2em;padding-left: 0.2em;position: relative;}#sk-container-id-19 div.sk-item {position: relative;z-index: 1;}#sk-container-id-19 div.sk-parallel {display: flex;align-items: stretch;justify-content: center;background-color: white;position: relative;}#sk-container-id-19 div.sk-item::before, #sk-container-id-19 div.sk-parallel-item::before {content: \"\";position: absolute;border-left: 1px solid gray;box-sizing: border-box;top: 0;bottom: 0;left: 50%;z-index: -1;}#sk-container-id-19 div.sk-parallel-item {display: flex;flex-direction: column;z-index: 1;position: relative;background-color: white;}#sk-container-id-19 div.sk-parallel-item:first-child::after {align-self: flex-end;width: 50%;}#sk-container-id-19 div.sk-parallel-item:last-child::after {align-self: flex-start;width: 50%;}#sk-container-id-19 div.sk-parallel-item:only-child::after {width: 0;}#sk-container-id-19 div.sk-dashed-wrapped {border: 1px dashed gray;margin: 0 0.4em 0.5em 0.4em;box-sizing: border-box;padding-bottom: 0.4em;background-color: white;}#sk-container-id-19 div.sk-label label {font-family: monospace;font-weight: bold;display: inline-block;line-height: 1.2em;}#sk-container-id-19 div.sk-label-container {text-align: center;}#sk-container-id-19 div.sk-container {/* jupyter's `normalize.less` sets `[hidden] { display: none; }` but bootstrap.min.css set `[hidden] { display: none !important; }` so we also need the `!important` here to be able to override the default hidden behavior on the sphinx rendered scikit-learn.org. See: https://github.com/scikit-learn/scikit-learn/issues/21755 */display: inline-block !important;position: relative;}#sk-container-id-19 div.sk-text-repr-fallback {display: none;}</style><div id=\"sk-container-id-19\" class=\"sk-top-container\"><div class=\"sk-text-repr-fallback\"><pre>AdaBoostClassifier()</pre><b>In a Jupyter environment, please rerun this cell to show the HTML representation or trust the notebook. <br />On GitHub, the HTML representation is unable to render, please try loading this page with nbviewer.org.</b></div><div class=\"sk-container\" hidden><div class=\"sk-item\"><div class=\"sk-estimator sk-toggleable\"><input class=\"sk-toggleable__control sk-hidden--visually\" id=\"sk-estimator-id-19\" type=\"checkbox\" checked><label for=\"sk-estimator-id-19\" class=\"sk-toggleable__label sk-toggleable__label-arrow\">AdaBoostClassifier</label><div class=\"sk-toggleable__content\"><pre>AdaBoostClassifier()</pre></div></div></div></div></div>"
      ],
      "text/plain": [
       "AdaBoostClassifier()"
      ]
     },
     "execution_count": 130,
     "metadata": {},
     "output_type": "execute_result"
    }
   ],
   "source": [
    "classifier_adb = AdaBoostClassifier()\n",
    "classifier_adb.fit(x_sam,y_sam)"
   ]
  },
  {
   "cell_type": "code",
   "execution_count": 131,
   "id": "9bea37b0",
   "metadata": {},
   "outputs": [
    {
     "name": "stdout",
     "output_type": "stream",
     "text": [
      "[[29773 11360]\n",
      " [10550 22356]]\n",
      "              precision    recall  f1-score   support\n",
      "\n",
      "           0       0.74      0.72      0.73     41133\n",
      "           1       0.66      0.68      0.67     32906\n",
      "\n",
      "    accuracy                           0.70     74039\n",
      "   macro avg       0.70      0.70      0.70     74039\n",
      "weighted avg       0.70      0.70      0.70     74039\n",
      "\n"
     ]
    }
   ],
   "source": [
    "# Training\n",
    "y_pred = classifier_adb.predict(x_sam)\n",
    "get_evaluation(y_sam,y_pred)"
   ]
  },
  {
   "cell_type": "code",
   "execution_count": 132,
   "id": "372b6e40",
   "metadata": {},
   "outputs": [
    {
     "name": "stdout",
     "output_type": "stream",
     "text": [
      "[[9963 3748]\n",
      " [ 576  361]]\n",
      "              precision    recall  f1-score   support\n",
      "\n",
      "           0       0.95      0.73      0.82     13711\n",
      "           1       0.09      0.39      0.14       937\n",
      "\n",
      "    accuracy                           0.70     14648\n",
      "   macro avg       0.52      0.56      0.48     14648\n",
      "weighted avg       0.89      0.70      0.78     14648\n",
      "\n"
     ]
    }
   ],
   "source": [
    "# Testing\n",
    "y_pred = classifier_adb.predict(x_test)\n",
    "get_evaluation(y_test,y_pred)"
   ]
  },
  {
   "cell_type": "markdown",
   "id": "74991c69",
   "metadata": {},
   "source": [
    "### 6. XGBoost"
   ]
  },
  {
   "cell_type": "code",
   "execution_count": 133,
   "id": "358590e3",
   "metadata": {},
   "outputs": [
    {
     "data": {
      "text/html": [
       "<style>#sk-container-id-20 {color: black;background-color: white;}#sk-container-id-20 pre{padding: 0;}#sk-container-id-20 div.sk-toggleable {background-color: white;}#sk-container-id-20 label.sk-toggleable__label {cursor: pointer;display: block;width: 100%;margin-bottom: 0;padding: 0.3em;box-sizing: border-box;text-align: center;}#sk-container-id-20 label.sk-toggleable__label-arrow:before {content: \"▸\";float: left;margin-right: 0.25em;color: #696969;}#sk-container-id-20 label.sk-toggleable__label-arrow:hover:before {color: black;}#sk-container-id-20 div.sk-estimator:hover label.sk-toggleable__label-arrow:before {color: black;}#sk-container-id-20 div.sk-toggleable__content {max-height: 0;max-width: 0;overflow: hidden;text-align: left;background-color: #f0f8ff;}#sk-container-id-20 div.sk-toggleable__content pre {margin: 0.2em;color: black;border-radius: 0.25em;background-color: #f0f8ff;}#sk-container-id-20 input.sk-toggleable__control:checked~div.sk-toggleable__content {max-height: 200px;max-width: 100%;overflow: auto;}#sk-container-id-20 input.sk-toggleable__control:checked~label.sk-toggleable__label-arrow:before {content: \"▾\";}#sk-container-id-20 div.sk-estimator input.sk-toggleable__control:checked~label.sk-toggleable__label {background-color: #d4ebff;}#sk-container-id-20 div.sk-label input.sk-toggleable__control:checked~label.sk-toggleable__label {background-color: #d4ebff;}#sk-container-id-20 input.sk-hidden--visually {border: 0;clip: rect(1px 1px 1px 1px);clip: rect(1px, 1px, 1px, 1px);height: 1px;margin: -1px;overflow: hidden;padding: 0;position: absolute;width: 1px;}#sk-container-id-20 div.sk-estimator {font-family: monospace;background-color: #f0f8ff;border: 1px dotted black;border-radius: 0.25em;box-sizing: border-box;margin-bottom: 0.5em;}#sk-container-id-20 div.sk-estimator:hover {background-color: #d4ebff;}#sk-container-id-20 div.sk-parallel-item::after {content: \"\";width: 100%;border-bottom: 1px solid gray;flex-grow: 1;}#sk-container-id-20 div.sk-label:hover label.sk-toggleable__label {background-color: #d4ebff;}#sk-container-id-20 div.sk-serial::before {content: \"\";position: absolute;border-left: 1px solid gray;box-sizing: border-box;top: 0;bottom: 0;left: 50%;z-index: 0;}#sk-container-id-20 div.sk-serial {display: flex;flex-direction: column;align-items: center;background-color: white;padding-right: 0.2em;padding-left: 0.2em;position: relative;}#sk-container-id-20 div.sk-item {position: relative;z-index: 1;}#sk-container-id-20 div.sk-parallel {display: flex;align-items: stretch;justify-content: center;background-color: white;position: relative;}#sk-container-id-20 div.sk-item::before, #sk-container-id-20 div.sk-parallel-item::before {content: \"\";position: absolute;border-left: 1px solid gray;box-sizing: border-box;top: 0;bottom: 0;left: 50%;z-index: -1;}#sk-container-id-20 div.sk-parallel-item {display: flex;flex-direction: column;z-index: 1;position: relative;background-color: white;}#sk-container-id-20 div.sk-parallel-item:first-child::after {align-self: flex-end;width: 50%;}#sk-container-id-20 div.sk-parallel-item:last-child::after {align-self: flex-start;width: 50%;}#sk-container-id-20 div.sk-parallel-item:only-child::after {width: 0;}#sk-container-id-20 div.sk-dashed-wrapped {border: 1px dashed gray;margin: 0 0.4em 0.5em 0.4em;box-sizing: border-box;padding-bottom: 0.4em;background-color: white;}#sk-container-id-20 div.sk-label label {font-family: monospace;font-weight: bold;display: inline-block;line-height: 1.2em;}#sk-container-id-20 div.sk-label-container {text-align: center;}#sk-container-id-20 div.sk-container {/* jupyter's `normalize.less` sets `[hidden] { display: none; }` but bootstrap.min.css set `[hidden] { display: none !important; }` so we also need the `!important` here to be able to override the default hidden behavior on the sphinx rendered scikit-learn.org. See: https://github.com/scikit-learn/scikit-learn/issues/21755 */display: inline-block !important;position: relative;}#sk-container-id-20 div.sk-text-repr-fallback {display: none;}</style><div id=\"sk-container-id-20\" class=\"sk-top-container\"><div class=\"sk-text-repr-fallback\"><pre>XGBClassifier(base_score=0.5, booster=&#x27;gbtree&#x27;, callbacks=None,\n",
       "              colsample_bylevel=1, colsample_bynode=1, colsample_bytree=1,\n",
       "              early_stopping_rounds=None, enable_categorical=False,\n",
       "              eval_metric=None, feature_types=None, gamma=0, gpu_id=-1,\n",
       "              grow_policy=&#x27;depthwise&#x27;, importance_type=None,\n",
       "              interaction_constraints=&#x27;&#x27;, learning_rate=0.300000012,\n",
       "              max_bin=256, max_cat_threshold=64, max_cat_to_onehot=4,\n",
       "              max_delta_step=0, max_depth=6, max_leaves=0, min_child_weight=1,\n",
       "              missing=nan, monotone_constraints=&#x27;()&#x27;, n_estimators=100,\n",
       "              n_jobs=0, num_parallel_tree=1, predictor=&#x27;auto&#x27;, random_state=0, ...)</pre><b>In a Jupyter environment, please rerun this cell to show the HTML representation or trust the notebook. <br />On GitHub, the HTML representation is unable to render, please try loading this page with nbviewer.org.</b></div><div class=\"sk-container\" hidden><div class=\"sk-item\"><div class=\"sk-estimator sk-toggleable\"><input class=\"sk-toggleable__control sk-hidden--visually\" id=\"sk-estimator-id-20\" type=\"checkbox\" checked><label for=\"sk-estimator-id-20\" class=\"sk-toggleable__label sk-toggleable__label-arrow\">XGBClassifier</label><div class=\"sk-toggleable__content\"><pre>XGBClassifier(base_score=0.5, booster=&#x27;gbtree&#x27;, callbacks=None,\n",
       "              colsample_bylevel=1, colsample_bynode=1, colsample_bytree=1,\n",
       "              early_stopping_rounds=None, enable_categorical=False,\n",
       "              eval_metric=None, feature_types=None, gamma=0, gpu_id=-1,\n",
       "              grow_policy=&#x27;depthwise&#x27;, importance_type=None,\n",
       "              interaction_constraints=&#x27;&#x27;, learning_rate=0.300000012,\n",
       "              max_bin=256, max_cat_threshold=64, max_cat_to_onehot=4,\n",
       "              max_delta_step=0, max_depth=6, max_leaves=0, min_child_weight=1,\n",
       "              missing=nan, monotone_constraints=&#x27;()&#x27;, n_estimators=100,\n",
       "              n_jobs=0, num_parallel_tree=1, predictor=&#x27;auto&#x27;, random_state=0, ...)</pre></div></div></div></div></div>"
      ],
      "text/plain": [
       "XGBClassifier(base_score=0.5, booster='gbtree', callbacks=None,\n",
       "              colsample_bylevel=1, colsample_bynode=1, colsample_bytree=1,\n",
       "              early_stopping_rounds=None, enable_categorical=False,\n",
       "              eval_metric=None, feature_types=None, gamma=0, gpu_id=-1,\n",
       "              grow_policy='depthwise', importance_type=None,\n",
       "              interaction_constraints='', learning_rate=0.300000012,\n",
       "              max_bin=256, max_cat_threshold=64, max_cat_to_onehot=4,\n",
       "              max_delta_step=0, max_depth=6, max_leaves=0, min_child_weight=1,\n",
       "              missing=nan, monotone_constraints='()', n_estimators=100,\n",
       "              n_jobs=0, num_parallel_tree=1, predictor='auto', random_state=0, ...)"
      ]
     },
     "execution_count": 133,
     "metadata": {},
     "output_type": "execute_result"
    }
   ],
   "source": [
    "classifier_XGB  = XGBClassifier()\n",
    "classifier_XGB.fit(x_sam,y_sam)"
   ]
  },
  {
   "cell_type": "code",
   "execution_count": 134,
   "id": "af3ca292",
   "metadata": {},
   "outputs": [
    {
     "name": "stdout",
     "output_type": "stream",
     "text": [
      "[[41097    36]\n",
      " [ 2951 29955]]\n",
      "              precision    recall  f1-score   support\n",
      "\n",
      "           0       0.93      1.00      0.96     41133\n",
      "           1       1.00      0.91      0.95     32906\n",
      "\n",
      "    accuracy                           0.96     74039\n",
      "   macro avg       0.97      0.95      0.96     74039\n",
      "weighted avg       0.96      0.96      0.96     74039\n",
      "\n"
     ]
    }
   ],
   "source": [
    "# Training\n",
    "y_pred = classifier_XGB.predict(x_sam)\n",
    "get_evaluation(y_sam,y_pred)"
   ]
  },
  {
   "cell_type": "code",
   "execution_count": 135,
   "id": "1806bb06",
   "metadata": {},
   "outputs": [
    {
     "name": "stdout",
     "output_type": "stream",
     "text": [
      "[[13684    27]\n",
      " [  932     5]]\n",
      "              precision    recall  f1-score   support\n",
      "\n",
      "           0       0.94      1.00      0.97     13711\n",
      "           1       0.16      0.01      0.01       937\n",
      "\n",
      "    accuracy                           0.93     14648\n",
      "   macro avg       0.55      0.50      0.49     14648\n",
      "weighted avg       0.89      0.93      0.91     14648\n",
      "\n"
     ]
    }
   ],
   "source": [
    "# Testing\n",
    "y_pred = classifier_XGB.predict(x_test)\n",
    "get_evaluation(y_test,y_pred)"
   ]
  },
  {
   "cell_type": "code",
   "execution_count": null,
   "id": "479cfefc",
   "metadata": {},
   "outputs": [],
   "source": []
  },
  {
   "cell_type": "code",
   "execution_count": null,
   "id": "02c8f95d",
   "metadata": {},
   "outputs": [],
   "source": []
  },
  {
   "cell_type": "code",
   "execution_count": null,
   "id": "2d20f96b",
   "metadata": {},
   "outputs": [],
   "source": []
  }
 ],
 "metadata": {
  "kernelspec": {
   "display_name": "Python 3 (ipykernel)",
   "language": "python",
   "name": "python3"
  },
  "language_info": {
   "codemirror_mode": {
    "name": "ipython",
    "version": 3
   },
   "file_extension": ".py",
   "mimetype": "text/x-python",
   "name": "python",
   "nbconvert_exporter": "python",
   "pygments_lexer": "ipython3",
   "version": "3.9.12"
  }
 },
 "nbformat": 4,
 "nbformat_minor": 5
}
